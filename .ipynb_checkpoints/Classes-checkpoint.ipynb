{
 "cells": [
  {
   "cell_type": "code",
   "execution_count": 317,
   "metadata": {},
   "outputs": [],
   "source": [
    "# Classes\n"
   ]
  },
  {
   "cell_type": "code",
   "execution_count": 318,
   "metadata": {
    "scrolled": true
   },
   "outputs": [],
   "source": [
    "class Triangle:\n",
    "    def __init__(self, height, base): #runs once the object has ben created\n",
    "        self.height = height\n",
    "        self.base = base"
   ]
  },
  {
   "cell_type": "code",
   "execution_count": 319,
   "metadata": {},
   "outputs": [],
   "source": [
    "t1 = Triangle(3, 1)"
   ]
  },
  {
   "cell_type": "code",
   "execution_count": 320,
   "metadata": {},
   "outputs": [
    {
     "data": {
      "text/plain": [
       "1"
      ]
     },
     "execution_count": 320,
     "metadata": {},
     "output_type": "execute_result"
    }
   ],
   "source": [
    "t1.base"
   ]
  },
  {
   "cell_type": "code",
   "execution_count": 321,
   "metadata": {},
   "outputs": [
    {
     "data": {
      "text/plain": [
       "3"
      ]
     },
     "execution_count": 321,
     "metadata": {},
     "output_type": "execute_result"
    }
   ],
   "source": [
    "t1.height"
   ]
  },
  {
   "cell_type": "code",
   "execution_count": 322,
   "metadata": {},
   "outputs": [],
   "source": [
    "  class Triangle:\n",
    "    def __init__(self, height, base): #runs once the object has ben created\n",
    "        self.height = height\n",
    "        self.base = base\n",
    "    \n",
    "    def area(bull): #instance method\n",
    "        return 0.5 * bull.height * bull.base\n",
    "    \n"
   ]
  },
  {
   "cell_type": "code",
   "execution_count": 323,
   "metadata": {},
   "outputs": [],
   "source": [
    "t2 = Triangle(5, 10)"
   ]
  },
  {
   "cell_type": "code",
   "execution_count": 324,
   "metadata": {},
   "outputs": [
    {
     "data": {
      "text/plain": [
       "25.0"
      ]
     },
     "execution_count": 324,
     "metadata": {},
     "output_type": "execute_result"
    }
   ],
   "source": [
    "t2.area()\n"
   ]
  },
  {
   "cell_type": "code",
   "execution_count": 325,
   "metadata": {},
   "outputs": [],
   "source": [
    "  class Triangle:\n",
    "    def __init__(self, height, base): #runs once the object has ben created\n",
    "        self.height = height\n",
    "        self.base = base\n",
    "    \n",
    "    def area(bull): #instance method\n",
    "        return 0.5 * bull.height * bull.base\n",
    "    \n",
    "    def to_string(self):\n",
    "        return 'Triangle: base={0}, height={1}'.format(self.base, self.height)\n"
   ]
  },
  {
   "cell_type": "markdown",
   "metadata": {},
   "source": [
    "\n"
   ]
  },
  {
   "cell_type": "code",
   "execution_count": 326,
   "metadata": {},
   "outputs": [],
   "source": [
    "t3 = Triangle(7, 8)"
   ]
  },
  {
   "cell_type": "code",
   "execution_count": 327,
   "metadata": {},
   "outputs": [
    {
     "data": {
      "text/plain": [
       "'Triangle: base=8, height=7'"
      ]
     },
     "execution_count": 327,
     "metadata": {},
     "output_type": "execute_result"
    }
   ],
   "source": [
    "t3.area()\n",
    "t3.to_string()\n"
   ]
  },
  {
   "cell_type": "code",
   "execution_count": 328,
   "metadata": {},
   "outputs": [],
   "source": [
    "  class Triangle:\n",
    "    def __init__(self, height, base): #runs once the object has ben created\n",
    "        self.height = height\n",
    "        self.base = base\n",
    "    \n",
    "    def area(bull): #instance method\n",
    "        return 0.5 * bull.height * bull.base\n",
    "    \n",
    "    def __str__(self): #danda method, modifies built in str method\n",
    "        return 'Triangle: base={0}, height={1}'.format(self.base, self.height)\n",
    "\n",
    "    def __repr__(self): #modifies repr method, repr stands for representation\n",
    "        return 'Triangle({0}, {1})'.format(self.base, self.height)"
   ]
  },
  {
   "cell_type": "code",
   "execution_count": 329,
   "metadata": {},
   "outputs": [],
   "source": [
    "t4 = Triangle(4, 8)\n",
    "\n"
   ]
  },
  {
   "cell_type": "code",
   "execution_count": 330,
   "metadata": {},
   "outputs": [
    {
     "data": {
      "text/plain": [
       "'Triangle: base=8, height=4'"
      ]
     },
     "execution_count": 330,
     "metadata": {},
     "output_type": "execute_result"
    }
   ],
   "source": [
    "str(t4)"
   ]
  },
  {
   "cell_type": "code",
   "execution_count": 331,
   "metadata": {
    "scrolled": true
   },
   "outputs": [
    {
     "data": {
      "text/plain": [
       "Triangle(8, 4)"
      ]
     },
     "execution_count": 331,
     "metadata": {},
     "output_type": "execute_result"
    }
   ],
   "source": [
    "t4\n"
   ]
  },
  {
   "cell_type": "code",
   "execution_count": 332,
   "metadata": {},
   "outputs": [],
   "source": [
    "klist = [1,2]"
   ]
  },
  {
   "cell_type": "code",
   "execution_count": 333,
   "metadata": {},
   "outputs": [
    {
     "data": {
      "text/plain": [
       "'[1, 2]'"
      ]
     },
     "execution_count": 333,
     "metadata": {},
     "output_type": "execute_result"
    }
   ],
   "source": [
    "str(klist)"
   ]
  },
  {
   "cell_type": "code",
   "execution_count": 334,
   "metadata": {},
   "outputs": [
    {
     "data": {
      "text/plain": [
       "[1, 2]"
      ]
     },
     "execution_count": 334,
     "metadata": {},
     "output_type": "execute_result"
    }
   ],
   "source": [
    "klist"
   ]
  },
  {
   "cell_type": "code",
   "execution_count": 335,
   "metadata": {},
   "outputs": [],
   "source": [
    "t5 = Triangle(1, 2)\n",
    "t6 = Triangle(1, 2)"
   ]
  },
  {
   "cell_type": "code",
   "execution_count": 336,
   "metadata": {},
   "outputs": [
    {
     "data": {
      "text/plain": [
       "True"
      ]
     },
     "execution_count": 336,
     "metadata": {},
     "output_type": "execute_result"
    }
   ],
   "source": [
    "t5 is not t6"
   ]
  },
  {
   "cell_type": "code",
   "execution_count": 337,
   "metadata": {},
   "outputs": [],
   "source": [
    "  class Triangle:\n",
    "    def __init__(self, height, base): #runs once the object has ben created\n",
    "        self.height = height\n",
    "        self.base = base\n",
    "    \n",
    "    def area(bull): #instance method\n",
    "        return 0.5 * bull.height * bull.base\n",
    "    \n",
    "    def __str__(self): #danda method, modifies built in str method\n",
    "        return 'Triangle: base={0}, height={1}'.format(self.base, self.height)\n",
    "\n",
    "    def __repr__(self): #modifies repr method, repr stands for representation\n",
    "        return 'Triangle({0}, {1})'.format(self.base, self.height)\n",
    "    \n",
    "    def __eq__(self, other): # matches objects (using ==)\n",
    "        if isinstance(other, Triangle):\n",
    "            return self.base == other.base and self.height == other.height\n",
    "        else: \n",
    "            return False\n",
    "    \n",
    "    def __lt__(self, other): # custom less than\n",
    "        if isinstance(other, Triangle):\n",
    "            return self.area() < other.area()\n",
    "        else:\n",
    "            return NotImplemented\n",
    "    "
   ]
  },
  {
   "cell_type": "code",
   "execution_count": 338,
   "metadata": {},
   "outputs": [],
   "source": [
    "tr1 = Triangle(10, 5)\n",
    "tr2 = Triangle(15, 8)\n",
    "tr3 = Triangle(15, 8)"
   ]
  },
  {
   "cell_type": "code",
   "execution_count": 339,
   "metadata": {},
   "outputs": [
    {
     "data": {
      "text/plain": [
       "False"
      ]
     },
     "execution_count": 339,
     "metadata": {},
     "output_type": "execute_result"
    }
   ],
   "source": [
    "tr1 is tr2\n"
   ]
  },
  {
   "cell_type": "code",
   "execution_count": 340,
   "metadata": {},
   "outputs": [
    {
     "data": {
      "text/plain": [
       "False"
      ]
     },
     "execution_count": 340,
     "metadata": {},
     "output_type": "execute_result"
    }
   ],
   "source": [
    "tr2 is tr3"
   ]
  },
  {
   "cell_type": "code",
   "execution_count": 341,
   "metadata": {},
   "outputs": [
    {
     "data": {
      "text/plain": [
       "True"
      ]
     },
     "execution_count": 341,
     "metadata": {},
     "output_type": "execute_result"
    }
   ],
   "source": [
    "tr3 == tr2"
   ]
  },
  {
   "cell_type": "code",
   "execution_count": 342,
   "metadata": {},
   "outputs": [
    {
     "data": {
      "text/plain": [
       "False"
      ]
     },
     "execution_count": 342,
     "metadata": {},
     "output_type": "execute_result"
    }
   ],
   "source": [
    "tr1 == tr3"
   ]
  },
  {
   "cell_type": "code",
   "execution_count": 343,
   "metadata": {
    "scrolled": true
   },
   "outputs": [
    {
     "data": {
      "text/plain": [
       "False"
      ]
     },
     "execution_count": 343,
     "metadata": {},
     "output_type": "execute_result"
    }
   ],
   "source": [
    "tr2 == 1"
   ]
  },
  {
   "cell_type": "code",
   "execution_count": 344,
   "metadata": {},
   "outputs": [],
   "source": [
    "tr4 = Triangle(1, 2)\n",
    "tr5 = Triangle(2, 3)"
   ]
  },
  {
   "cell_type": "code",
   "execution_count": 345,
   "metadata": {
    "scrolled": true
   },
   "outputs": [
    {
     "data": {
      "text/plain": [
       "True"
      ]
     },
     "execution_count": 345,
     "metadata": {},
     "output_type": "execute_result"
    }
   ],
   "source": [
    "tr4 < tr5"
   ]
  },
  {
   "cell_type": "code",
   "execution_count": 346,
   "metadata": {},
   "outputs": [
    {
     "data": {
      "text/plain": [
       "True"
      ]
     },
     "execution_count": 346,
     "metadata": {},
     "output_type": "execute_result"
    }
   ],
   "source": [
    "tr5 > tr4\n"
   ]
  },
  {
   "cell_type": "code",
   "execution_count": 347,
   "metadata": {},
   "outputs": [
    {
     "data": {
      "text/plain": [
       "False"
      ]
     },
     "execution_count": 347,
     "metadata": {},
     "output_type": "execute_result"
    }
   ],
   "source": [
    "Triangle(13, 2) > Triangle(13, 2)"
   ]
  },
  {
   "cell_type": "code",
   "execution_count": 348,
   "metadata": {},
   "outputs": [
    {
     "data": {
      "text/plain": [
       "\"'dd'\""
      ]
     },
     "execution_count": 348,
     "metadata": {},
     "output_type": "execute_result"
    }
   ],
   "source": [
    "repr('dd')"
   ]
  },
  {
   "cell_type": "code",
   "execution_count": 349,
   "metadata": {},
   "outputs": [
    {
     "data": {
      "text/plain": [
       "'3'"
      ]
     },
     "execution_count": 349,
     "metadata": {},
     "output_type": "execute_result"
    }
   ],
   "source": [
    "repr(3)"
   ]
  },
  {
   "cell_type": "code",
   "execution_count": 350,
   "metadata": {},
   "outputs": [],
   "source": [
    "tr4.base = -2\n",
    "\n",
    "\n"
   ]
  },
  {
   "cell_type": "code",
   "execution_count": 351,
   "metadata": {
    "scrolled": true
   },
   "outputs": [
    {
     "data": {
      "text/plain": [
       "-2"
      ]
     },
     "execution_count": 351,
     "metadata": {},
     "output_type": "execute_result"
    }
   ],
   "source": [
    "tr4.base\n"
   ]
  },
  {
   "cell_type": "code",
   "execution_count": 352,
   "metadata": {},
   "outputs": [
    {
     "ename": "IndentationError",
     "evalue": "expected an indented block (<ipython-input-352-a6557a05e3e8>, line 3)",
     "output_type": "error",
     "traceback": [
      "\u001b[0;36m  File \u001b[0;32m\"<ipython-input-352-a6557a05e3e8>\"\u001b[0;36m, line \u001b[0;32m3\u001b[0m\n\u001b[0;31m    def __init__(self, height, base): #runs once the object has ben created\u001b[0m\n\u001b[0m      ^\u001b[0m\n\u001b[0;31mIndentationError\u001b[0m\u001b[0;31m:\u001b[0m expected an indented block\n"
     ]
    }
   ],
   "source": [
    "    # implementing getters and setters in the java way\n",
    "class Triangle:\n",
    "    def __init__(self, height, base): #runs once the object has ben created\n",
    "        self._height = height #underscore infront of variable name, convention to create private variables\n",
    "        self._base = base\n",
    "        \n",
    "    def get_base(self):\n",
    "        return self._base\n",
    "    \n",
    "    def set_base(self, base):\n",
    "        if base <= 0:\n",
    "            raise ValueError(\"Base must be a positive number\")\n",
    "        else:\n",
    "            self._base = base\n",
    "    \n",
    "    def __str__(self): #danda method, modifies built in str method\n",
    "        return 'Triangle: base={0}, height={1}'.format(self._base, self._height)\n",
    "\n",
    "    def __repr__(self): #modifies repr method, repr stands for representation\n",
    "        return 'Triangle({0}, {1})'.format(self._base, self._height)\n",
    "    \n",
    "    def __eq__(self, other): # matches objects (using ==)\n",
    "        if isinstance(other, Triangle):\n",
    "            return self._base == other._base and self._height == other._height\n",
    "        else: \n",
    "            return False\n",
    "    \n",
    "    def __lt__(self, other): # custom less than\n",
    "        if isinstance(other, Triangle):\n",
    "            return self._area() < other._area()\n",
    "        else:\n",
    "            return NotImplemented\n",
    "        \n",
    "    def area(bull): #instance method\n",
    "        return 0.5 * bull._height * bull._base\n",
    "    "
   ]
  },
  {
   "cell_type": "code",
   "execution_count": null,
   "metadata": {},
   "outputs": [],
   "source": [
    "t1 = Triangle(3, 4)"
   ]
  },
  {
   "cell_type": "code",
   "execution_count": null,
   "metadata": {},
   "outputs": [],
   "source": [
    "str(t1)"
   ]
  },
  {
   "cell_type": "code",
   "execution_count": null,
   "metadata": {},
   "outputs": [],
   "source": [
    "t1"
   ]
  },
  {
   "cell_type": "code",
   "execution_count": null,
   "metadata": {},
   "outputs": [],
   "source": [
    "t1.area()\n"
   ]
  },
  {
   "cell_type": "code",
   "execution_count": null,
   "metadata": {},
   "outputs": [],
   "source": [
    "t1.get_base()"
   ]
  },
  {
   "cell_type": "code",
   "execution_count": null,
   "metadata": {},
   "outputs": [],
   "source": [
    "t1.set_base(32)"
   ]
  },
  {
   "cell_type": "code",
   "execution_count": null,
   "metadata": {},
   "outputs": [],
   "source": [
    "t1.get_base()\n"
   ]
  },
  {
   "cell_type": "code",
   "execution_count": null,
   "metadata": {},
   "outputs": [],
   "source": [
    "t1.peri = 33"
   ]
  },
  {
   "cell_type": "code",
   "execution_count": null,
   "metadata": {},
   "outputs": [],
   "source": [
    "t1.peri"
   ]
  },
  {
   "cell_type": "code",
   "execution_count": null,
   "metadata": {},
   "outputs": [],
   "source": [
    "t1.set_base('d')"
   ]
  },
  {
   "cell_type": "code",
   "execution_count": null,
   "metadata": {},
   "outputs": [],
   "source": [
    "t1._width = -3\n"
   ]
  },
  {
   "cell_type": "code",
   "execution_count": null,
   "metadata": {},
   "outputs": [],
   "source": [
    "t1._base = -1\n"
   ]
  },
  {
   "cell_type": "code",
   "execution_count": null,
   "metadata": {},
   "outputs": [],
   "source": [
    "t1\n"
   ]
  },
  {
   "cell_type": "code",
   "execution_count": 362,
   "metadata": {},
   "outputs": [],
   "source": [
    "#pythonic way of implementing getters and setters  \n",
    "class Triangle:\n",
    "    def __init__(self, height, base): #runs once the object has ben created\n",
    "        self.height = height\n",
    "        self.base = base\n",
    "    \n",
    "    #use decorator\n",
    "    @property\n",
    "    def base(self): #getter for base\n",
    "        return self._base # variable _base implicitly created\n",
    "    \n",
    "    @property\n",
    "    def height(self):\n",
    "        return self._height\n",
    "        \n",
    "    @base.setter #setter\n",
    "    def base(self, base):\n",
    "        if base <= 0:\n",
    "            raise ValueError(\"Base must be positive\")\n",
    "        else:\n",
    "            self._base = base\n",
    "        \n",
    "    @height.setter\n",
    "    def height(self, height):\n",
    "        if height <= 0:\n",
    "            raise ValueError(\"Height must be a positive number\")\n",
    "        else:\n",
    "            self._height = height\n",
    "            \n",
    "    def area(bull): #instance method\n",
    "        return 0.5 * bull.height * bull.base\n",
    "    \n",
    "    def __str__(self): #danda method, modifies built in str method\n",
    "        return 'Triangle: base={0}, height={1}'.format(self.base, self.height)\n",
    "\n",
    "    def __repr__(self): #modifies repr method, repr stands for representation\n",
    "        return 'Triangle({0}, {1})'.format(self.base, self.height)\n",
    "    \n",
    "    def __eq__(self, other): # matches objects (using ==)\n",
    "        if isinstance(other, Triangle):\n",
    "            return self.base == other.base and self.height == other.height\n",
    "        else: \n",
    "            return False\n",
    "    \n",
    "    def __lt__(self, other): # custom less than\n",
    "        if isinstance(other, Triangle):\n",
    "            return self.area() < other.area()\n",
    "        else:\n",
    "            return NotImplemented\n",
    "    "
   ]
  },
  {
   "cell_type": "code",
   "execution_count": 363,
   "metadata": {},
   "outputs": [],
   "source": [
    "t1 = Triangle(2, 3)"
   ]
  },
  {
   "cell_type": "code",
   "execution_count": 364,
   "metadata": {},
   "outputs": [
    {
     "data": {
      "text/plain": [
       "2"
      ]
     },
     "execution_count": 364,
     "metadata": {},
     "output_type": "execute_result"
    }
   ],
   "source": [
    "t1._height"
   ]
  },
  {
   "cell_type": "code",
   "execution_count": 365,
   "metadata": {},
   "outputs": [],
   "source": [
    "t1.height = 12"
   ]
  },
  {
   "cell_type": "code",
   "execution_count": 366,
   "metadata": {},
   "outputs": [
    {
     "data": {
      "text/plain": [
       "Triangle(3, 12)"
      ]
     },
     "execution_count": 366,
     "metadata": {},
     "output_type": "execute_result"
    }
   ],
   "source": [
    "t1"
   ]
  },
  {
   "cell_type": "code",
   "execution_count": null,
   "metadata": {},
   "outputs": [],
   "source": []
  }
 ],
 "metadata": {
  "kernelspec": {
   "display_name": "Python 3",
   "language": "python",
   "name": "python3"
  },
  "language_info": {
   "codemirror_mode": {
    "name": "ipython",
    "version": 3
   },
   "file_extension": ".py",
   "mimetype": "text/x-python",
   "name": "python",
   "nbconvert_exporter": "python",
   "pygments_lexer": "ipython3",
   "version": "3.7.3"
  }
 },
 "nbformat": 4,
 "nbformat_minor": 2
}
