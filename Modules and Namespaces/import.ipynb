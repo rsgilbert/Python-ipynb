{
 "cells": [
  {
   "cell_type": "code",
   "execution_count": 1,
   "metadata": {},
   "outputs": [
    {
     "ename": "NameError",
     "evalue": "name 'math' is not defined",
     "output_type": "error",
     "traceback": [
      "\u001b[0;31m---------------------------------------------------------------------------\u001b[0m",
      "\u001b[0;31mNameError\u001b[0m                                 Traceback (most recent call last)",
      "\u001b[0;32m<ipython-input-1-905d7f269766>\u001b[0m in \u001b[0;36m<module>\u001b[0;34m()\u001b[0m\n\u001b[1;32m      1\u001b[0m \u001b[0;31m#prin\u001b[0m\u001b[0;34m\u001b[0m\u001b[0;34m\u001b[0m\u001b[0;34m\u001b[0m\u001b[0m\n\u001b[0;32m----> 2\u001b[0;31m \u001b[0mmath\u001b[0m\u001b[0;34m.\u001b[0m\u001b[0msqrt\u001b[0m\u001b[0;34m(\u001b[0m\u001b[0;36m20\u001b[0m\u001b[0;34m)\u001b[0m\u001b[0;34m\u001b[0m\u001b[0;34m\u001b[0m\u001b[0m\n\u001b[0m\u001b[1;32m      3\u001b[0m \u001b[0;32mimport\u001b[0m \u001b[0mmath\u001b[0m\u001b[0;34m\u001b[0m\u001b[0;34m\u001b[0m\u001b[0m\n",
      "\u001b[0;31mNameError\u001b[0m: name 'math' is not defined"
     ]
    }
   ],
   "source": [
    "#prin\n",
    "math.sqrt(20)\n",
    "import math"
   ]
  },
  {
   "cell_type": "code",
   "execution_count": 3,
   "metadata": {},
   "outputs": [],
   "source": [
    "import sys"
   ]
  },
  {
   "cell_type": "code",
   "execution_count": 4,
   "metadata": {},
   "outputs": [
    {
     "data": {
      "text/plain": [
       "'/usr'"
      ]
     },
     "execution_count": 4,
     "metadata": {},
     "output_type": "execute_result"
    }
   ],
   "source": [
    "sys.prefix"
   ]
  },
  {
   "cell_type": "code",
   "execution_count": 5,
   "metadata": {},
   "outputs": [
    {
     "data": {
      "text/plain": [
       "['',\n",
       " '/home/gilbert/Python/Modules and Namespaces',\n",
       " '/usr/lib/python37.zip',\n",
       " '/usr/lib/python3.7',\n",
       " '/usr/lib/python3.7/lib-dynload',\n",
       " '/home/gilbert/.local/lib/python3.7/site-packages',\n",
       " '/usr/local/lib/python3.7/dist-packages',\n",
       " '/usr/lib/python3/dist-packages',\n",
       " '/usr/lib/python3/dist-packages/IPython/extensions',\n",
       " '/home/gilbert/.ipython']"
      ]
     },
     "execution_count": 5,
     "metadata": {},
     "output_type": "execute_result"
    }
   ],
   "source": [
    "sys.path\n",
    "# this is where python looks for imports"
   ]
  },
  {
   "cell_type": "code",
   "execution_count": 6,
   "metadata": {},
   "outputs": [],
   "source": [
    "import importlib"
   ]
  },
  {
   "cell_type": "code",
   "execution_count": 9,
   "metadata": {},
   "outputs": [],
   "source": [
    "m = importlib.import_module('math')"
   ]
  },
  {
   "cell_type": "code",
   "execution_count": 10,
   "metadata": {},
   "outputs": [
    {
     "data": {
      "text/plain": [
       "1.7320508075688772"
      ]
     },
     "execution_count": 10,
     "metadata": {},
     "output_type": "execute_result"
    }
   ],
   "source": [
    "m.sqrt(3)"
   ]
  },
  {
   "cell_type": "code",
   "execution_count": 12,
   "metadata": {},
   "outputs": [],
   "source": [
    "sys = importlib.import_module('sys')"
   ]
  },
  {
   "cell_type": "code",
   "execution_count": 13,
   "metadata": {},
   "outputs": [
    {
     "data": {
      "text/plain": [
       "{'sys': <module 'sys' (built-in)>,\n",
       " 'builtins': <module 'builtins' (built-in)>,\n",
       " '_frozen_importlib': <module 'importlib._bootstrap' (frozen)>,\n",
       " '_imp': <module '_imp' (built-in)>,\n",
       " '_thread': <module '_thread' (built-in)>,\n",
       " '_warnings': <module '_warnings' (built-in)>,\n",
       " '_weakref': <module '_weakref' (built-in)>,\n",
       " 'zipimport': <module 'zipimport' (built-in)>,\n",
       " '_frozen_importlib_external': <module 'importlib._bootstrap_external' (frozen)>,\n",
       " '_io': <module 'io' (built-in)>,\n",
       " 'marshal': <module 'marshal' (built-in)>,\n",
       " 'posix': <module 'posix' (built-in)>,\n",
       " 'encodings': <module 'encodings' from '/usr/lib/python3.7/encodings/__init__.py'>,\n",
       " 'codecs': <module 'codecs' from '/usr/lib/python3.7/codecs.py'>,\n",
       " '_codecs': <module '_codecs' (built-in)>,\n",
       " 'encodings.aliases': <module 'encodings.aliases' from '/usr/lib/python3.7/encodings/aliases.py'>,\n",
       " 'encodings.utf_8': <module 'encodings.utf_8' from '/usr/lib/python3.7/encodings/utf_8.py'>,\n",
       " '_signal': <module '_signal' (built-in)>,\n",
       " '__main__': <module '__main__'>,\n",
       " 'encodings.latin_1': <module 'encodings.latin_1' from '/usr/lib/python3.7/encodings/latin_1.py'>,\n",
       " 'io': <module 'io' from '/usr/lib/python3.7/io.py'>,\n",
       " 'abc': <module 'abc' from '/usr/lib/python3.7/abc.py'>,\n",
       " '_abc': <module '_abc' (built-in)>,\n",
       " '_bootlocale': <module '_bootlocale' from '/usr/lib/python3.7/_bootlocale.py'>,\n",
       " '_locale': <module '_locale' (built-in)>,\n",
       " 'site': <module 'site' from '/usr/lib/python3.7/site.py'>,\n",
       " 'os': <module 'os' from '/usr/lib/python3.7/os.py'>,\n",
       " 'stat': <module 'stat' from '/usr/lib/python3.7/stat.py'>,\n",
       " '_stat': <module '_stat' (built-in)>,\n",
       " 'posixpath': <module 'posixpath' from '/usr/lib/python3.7/posixpath.py'>,\n",
       " 'genericpath': <module 'genericpath' from '/usr/lib/python3.7/genericpath.py'>,\n",
       " 'os.path': <module 'posixpath' from '/usr/lib/python3.7/posixpath.py'>,\n",
       " '_collections_abc': <module '_collections_abc' from '/usr/lib/python3.7/_collections_abc.py'>,\n",
       " '_sitebuiltins': <module '_sitebuiltins' from '/usr/lib/python3.7/_sitebuiltins.py'>,\n",
       " 'types': <module 'types' from '/usr/lib/python3.7/types.py'>,\n",
       " 'importlib': <module 'importlib' from '/usr/lib/python3.7/importlib/__init__.py'>,\n",
       " 'importlib._bootstrap': <module 'importlib._bootstrap' (frozen)>,\n",
       " 'importlib._bootstrap_external': <module 'importlib._bootstrap_external' (frozen)>,\n",
       " 'warnings': <module 'warnings' from '/usr/lib/python3.7/warnings.py'>,\n",
       " 'importlib.util': <module 'importlib.util' from '/usr/lib/python3.7/importlib/util.py'>,\n",
       " 'importlib.abc': <module 'importlib.abc' from '/usr/lib/python3.7/importlib/abc.py'>,\n",
       " 'importlib.machinery': <module 'importlib.machinery' from '/usr/lib/python3.7/importlib/machinery.py'>,\n",
       " 'contextlib': <module 'contextlib' from '/usr/lib/python3.7/contextlib.py'>,\n",
       " 'collections': <module 'collections' from '/usr/lib/python3.7/collections/__init__.py'>,\n",
       " 'operator': <module 'operator' from '/usr/lib/python3.7/operator.py'>,\n",
       " '_operator': <module '_operator' (built-in)>,\n",
       " 'keyword': <module 'keyword' from '/usr/lib/python3.7/keyword.py'>,\n",
       " 'heapq': <module 'heapq' from '/usr/lib/python3.7/heapq.py'>,\n",
       " '_heapq': <module '_heapq' (built-in)>,\n",
       " 'itertools': <module 'itertools' (built-in)>,\n",
       " 'reprlib': <module 'reprlib' from '/usr/lib/python3.7/reprlib.py'>,\n",
       " '_collections': <module '_collections' (built-in)>,\n",
       " 'functools': <module 'functools' from '/usr/lib/python3.7/functools.py'>,\n",
       " '_functools': <module '_functools' (built-in)>,\n",
       " 'mpl_toolkits': <module 'mpl_toolkits' (namespace)>,\n",
       " 'sitecustomize': <module 'sitecustomize' from '/usr/lib/python3.7/sitecustomize.py'>,\n",
       " 'apport_python_hook': <module 'apport_python_hook' from '/usr/lib/python3/dist-packages/apport_python_hook.py'>,\n",
       " 'runpy': <module 'runpy' from '/usr/lib/python3.7/runpy.py'>,\n",
       " 'pkgutil': <module 'pkgutil' from '/usr/lib/python3.7/pkgutil.py'>,\n",
       " 'weakref': <module 'weakref' from '/usr/lib/python3.7/weakref.py'>,\n",
       " '_weakrefset': <module '_weakrefset' from '/usr/lib/python3.7/_weakrefset.py'>,\n",
       " 'ipykernel': <module 'ipykernel' from '/usr/lib/python3/dist-packages/ipykernel/__init__.py'>,\n",
       " 'ipykernel._version': <module 'ipykernel._version' from '/usr/lib/python3/dist-packages/ipykernel/_version.py'>,\n",
       " 'ipykernel.connect': <module 'ipykernel.connect' from '/usr/lib/python3/dist-packages/ipykernel/connect.py'>,\n",
       " '__future__': <module '__future__' from '/usr/lib/python3.7/__future__.py'>,\n",
       " 'json': <module 'json' from '/usr/lib/python3.7/json/__init__.py'>,\n",
       " 'json.decoder': <module 'json.decoder' from '/usr/lib/python3.7/json/decoder.py'>,\n",
       " 're': <module 're' from '/usr/lib/python3.7/re.py'>,\n",
       " 'enum': <module 'enum' from '/usr/lib/python3.7/enum.py'>,\n",
       " 'sre_compile': <module 'sre_compile' from '/usr/lib/python3.7/sre_compile.py'>,\n",
       " '_sre': <module '_sre' (built-in)>,\n",
       " 'sre_parse': <module 'sre_parse' from '/usr/lib/python3.7/sre_parse.py'>,\n",
       " 'sre_constants': <module 'sre_constants' from '/usr/lib/python3.7/sre_constants.py'>,\n",
       " 'copyreg': <module 'copyreg' from '/usr/lib/python3.7/copyreg.py'>,\n",
       " 'json.scanner': <module 'json.scanner' from '/usr/lib/python3.7/json/scanner.py'>,\n",
       " '_json': <module '_json' from '/usr/lib/python3.7/lib-dynload/_json.cpython-37m-x86_64-linux-gnu.so'>,\n",
       " 'json.encoder': <module 'json.encoder' from '/usr/lib/python3.7/json/encoder.py'>,\n",
       " 'subprocess': <module 'subprocess' from '/usr/lib/python3.7/subprocess.py'>,\n",
       " 'time': <module 'time' (built-in)>,\n",
       " 'signal': <module 'signal' from '/usr/lib/python3.7/signal.py'>,\n",
       " 'errno': <module 'errno' (built-in)>,\n",
       " '_posixsubprocess': <module '_posixsubprocess' (built-in)>,\n",
       " 'select': <module 'select' (built-in)>,\n",
       " 'selectors': <module 'selectors' from '/usr/lib/python3.7/selectors.py'>,\n",
       " 'collections.abc': <module 'collections.abc' from '/usr/lib/python3.7/collections/abc.py'>,\n",
       " 'math': <module 'math' (built-in)>,\n",
       " 'threading': <module 'threading' from '/usr/lib/python3.7/threading.py'>,\n",
       " 'traceback': <module 'traceback' from '/usr/lib/python3.7/traceback.py'>,\n",
       " 'linecache': <module 'linecache' from '/usr/lib/python3.7/linecache.py'>,\n",
       " 'tokenize': <module 'tokenize' from '/usr/lib/python3.7/tokenize.py'>,\n",
       " 'token': <module 'token' from '/usr/lib/python3.7/token.py'>,\n",
       " 'IPython': <module 'IPython' from '/usr/lib/python3/dist-packages/IPython/__init__.py'>,\n",
       " 'IPython.core': <module 'IPython.core' from '/usr/lib/python3/dist-packages/IPython/core/__init__.py'>,\n",
       " 'IPython.core.getipython': <module 'IPython.core.getipython' from '/usr/lib/python3/dist-packages/IPython/core/getipython.py'>,\n",
       " 'IPython.core.release': <module 'IPython.core.release' from '/usr/lib/python3/dist-packages/IPython/core/release.py'>,\n",
       " 'IPython.core.application': <module 'IPython.core.application' from '/usr/lib/python3/dist-packages/IPython/core/application.py'>,\n",
       " 'atexit': <module 'atexit' (built-in)>,\n",
       " 'copy': <module 'copy' from '/usr/lib/python3.7/copy.py'>,\n",
       " 'glob': <module 'glob' from '/usr/lib/python3.7/glob.py'>,\n",
       " 'fnmatch': <module 'fnmatch' from '/usr/lib/python3.7/fnmatch.py'>,\n",
       " 'logging': <module 'logging' from '/usr/lib/python3.7/logging/__init__.py'>,\n",
       " 'string': <module 'string' from '/usr/lib/python3.7/string.py'>,\n",
       " '_string': <module '_string' (built-in)>,\n",
       " 'shutil': <module 'shutil' from '/usr/lib/python3.7/shutil.py'>,\n",
       " 'zlib': <module 'zlib' (built-in)>,\n",
       " 'bz2': <module 'bz2' from '/usr/lib/python3.7/bz2.py'>,\n",
       " '_compression': <module '_compression' from '/usr/lib/python3.7/_compression.py'>,\n",
       " '_bz2': <module '_bz2' from '/usr/lib/python3.7/lib-dynload/_bz2.cpython-37m-x86_64-linux-gnu.so'>,\n",
       " 'lzma': <module 'lzma' from '/usr/lib/python3.7/lzma.py'>,\n",
       " '_lzma': <module '_lzma' from '/usr/lib/python3.7/lib-dynload/_lzma.cpython-37m-x86_64-linux-gnu.so'>,\n",
       " 'pwd': <module 'pwd' (built-in)>,\n",
       " 'grp': <module 'grp' (built-in)>,\n",
       " 'traitlets': <module 'traitlets' from '/usr/lib/python3/dist-packages/traitlets/__init__.py'>,\n",
       " 'traitlets.traitlets': <module 'traitlets.traitlets' from '/usr/lib/python3/dist-packages/traitlets/traitlets.py'>,\n",
       " 'inspect': <module 'inspect' from '/usr/lib/python3.7/inspect.py'>,\n",
       " 'dis': <module 'dis' from '/usr/lib/python3.7/dis.py'>,\n",
       " 'opcode': <module 'opcode' from '/usr/lib/python3.7/opcode.py'>,\n",
       " '_opcode': <module '_opcode' from '/usr/lib/python3.7/lib-dynload/_opcode.cpython-37m-x86_64-linux-gnu.so'>,\n",
       " 'six': <module 'six' from '/usr/lib/python3/dist-packages/six.py'>,\n",
       " 'struct': <module 'struct' from '/usr/lib/python3.7/struct.py'>,\n",
       " '_struct': <module '_struct' (built-in)>,\n",
       " 'traitlets.utils': <module 'traitlets.utils' from '/usr/lib/python3/dist-packages/traitlets/utils/__init__.py'>,\n",
       " 'traitlets.utils.getargspec': <module 'traitlets.utils.getargspec' from '/usr/lib/python3/dist-packages/traitlets/utils/getargspec.py'>,\n",
       " 'traitlets.utils.importstring': <module 'traitlets.utils.importstring' from '/usr/lib/python3/dist-packages/traitlets/utils/importstring.py'>,\n",
       " 'ipython_genutils': <module 'ipython_genutils' from '/usr/lib/python3/dist-packages/ipython_genutils/__init__.py'>,\n",
       " 'ipython_genutils._version': <module 'ipython_genutils._version' from '/usr/lib/python3/dist-packages/ipython_genutils/_version.py'>,\n",
       " 'ipython_genutils.py3compat': <module 'ipython_genutils.py3compat' from '/usr/lib/python3/dist-packages/ipython_genutils/py3compat.py'>,\n",
       " 'ipython_genutils.encoding': <module 'ipython_genutils.encoding' from '/usr/lib/python3/dist-packages/ipython_genutils/encoding.py'>,\n",
       " 'locale': <module 'locale' from '/usr/lib/python3.7/locale.py'>,\n",
       " 'platform': <module 'platform' from '/usr/lib/python3.7/platform.py'>,\n",
       " 'traitlets.utils.sentinel': <module 'traitlets.utils.sentinel' from '/usr/lib/python3/dist-packages/traitlets/utils/sentinel.py'>,\n",
       " 'traitlets.utils.bunch': <module 'traitlets.utils.bunch' from '/usr/lib/python3/dist-packages/traitlets/utils/bunch.py'>,\n",
       " 'traitlets._version': <module 'traitlets._version' from '/usr/lib/python3/dist-packages/traitlets/_version.py'>,\n",
       " 'traitlets.config': <module 'traitlets.config' from '/usr/lib/python3/dist-packages/traitlets/config/__init__.py'>,\n",
       " 'traitlets.config.application': <module 'traitlets.config.application' from '/usr/lib/python3/dist-packages/traitlets/config/application.py'>,\n",
       " 'decorator': <module 'decorator' from '/usr/lib/python3/dist-packages/decorator.py'>,\n",
       " 'traitlets.config.configurable': <module 'traitlets.config.configurable' from '/usr/lib/python3/dist-packages/traitlets/config/configurable.py'>,\n",
       " 'traitlets.config.loader': <module 'traitlets.config.loader' from '/usr/lib/python3/dist-packages/traitlets/config/loader.py'>,\n",
       " 'argparse': <module 'argparse' from '/usr/lib/python3.7/argparse.py'>,\n",
       " 'gettext': <module 'gettext' from '/usr/lib/python3.7/gettext.py'>,\n",
       " 'ast': <module 'ast' from '/usr/lib/python3.7/ast.py'>,\n",
       " '_ast': <module '_ast' (built-in)>,\n",
       " 'ipython_genutils.path': <module 'ipython_genutils.path' from '/usr/lib/python3/dist-packages/ipython_genutils/path.py'>,\n",
       " 'random': <module 'random' from '/usr/lib/python3.7/random.py'>,\n",
       " 'hashlib': <module 'hashlib' from '/usr/lib/python3.7/hashlib.py'>,\n",
       " '_hashlib': <module '_hashlib' from '/usr/lib/python3.7/lib-dynload/_hashlib.cpython-37m-x86_64-linux-gnu.so'>,\n",
       " '_blake2': <module '_blake2' (built-in)>,\n",
       " '_sha3': <module '_sha3' (built-in)>,\n",
       " 'bisect': <module 'bisect' from '/usr/lib/python3.7/bisect.py'>,\n",
       " '_bisect': <module '_bisect' (built-in)>,\n",
       " '_random': <module '_random' (built-in)>,\n",
       " 'ipython_genutils.text': <module 'ipython_genutils.text' from '/usr/lib/python3/dist-packages/ipython_genutils/text.py'>,\n",
       " 'textwrap': <module 'textwrap' from '/usr/lib/python3.7/textwrap.py'>,\n",
       " 'ipython_genutils.importstring': <module 'ipython_genutils.importstring' from '/usr/lib/python3/dist-packages/ipython_genutils/importstring.py'>,\n",
       " 'IPython.core.crashhandler': <module 'IPython.core.crashhandler' from '/usr/lib/python3/dist-packages/IPython/core/crashhandler.py'>,\n",
       " 'pprint': <module 'pprint' from '/usr/lib/python3.7/pprint.py'>,\n",
       " 'IPython.core.ultratb': <module 'IPython.core.ultratb' from '/usr/lib/python3/dist-packages/IPython/core/ultratb.py'>,\n",
       " 'pydoc': <module 'pydoc' from '/usr/lib/python3.7/pydoc.py'>,\n",
       " 'urllib': <module 'urllib' from '/usr/lib/python3.7/urllib/__init__.py'>,\n",
       " 'urllib.parse': <module 'urllib.parse' from '/usr/lib/python3.7/urllib/parse.py'>,\n",
       " 'IPython.core.debugger': <module 'IPython.core.debugger' from '/usr/lib/python3/dist-packages/IPython/core/debugger.py'>,\n",
       " 'bdb': <module 'bdb' from '/usr/lib/python3.7/bdb.py'>,\n",
       " 'IPython.utils': <module 'IPython.utils' from '/usr/lib/python3/dist-packages/IPython/utils/__init__.py'>,\n",
       " 'IPython.utils.PyColorize': <module 'IPython.utils.PyColorize' from '/usr/lib/python3/dist-packages/IPython/utils/PyColorize.py'>,\n",
       " 'IPython.utils.coloransi': <module 'IPython.utils.coloransi' from '/usr/lib/python3/dist-packages/IPython/utils/coloransi.py'>,\n",
       " 'IPython.utils.ipstruct': <module 'IPython.utils.ipstruct' from '/usr/lib/python3/dist-packages/IPython/utils/ipstruct.py'>,\n",
       " 'IPython.utils.py3compat': <module 'IPython.utils.py3compat' from '/usr/lib/python3/dist-packages/IPython/utils/py3compat.py'>,\n",
       " 'IPython.utils.encoding': <module 'IPython.utils.encoding' from '/usr/lib/python3/dist-packages/IPython/utils/encoding.py'>,\n",
       " 'IPython.utils.colorable': <module 'IPython.utils.colorable' from '/usr/lib/python3/dist-packages/IPython/utils/colorable.py'>,\n",
       " 'pygments': <module 'pygments' from '/usr/lib/python3/dist-packages/pygments/__init__.py'>,\n",
       " 'pygments.util': <module 'pygments.util' from '/usr/lib/python3/dist-packages/pygments/util.py'>,\n",
       " 'IPython.utils.ulinecache': <module 'IPython.utils.ulinecache' from '/usr/lib/python3/dist-packages/IPython/utils/ulinecache.py'>,\n",
       " 'IPython.utils.openpy': <module 'IPython.utils.openpy' from '/usr/lib/python3/dist-packages/IPython/utils/openpy.py'>,\n",
       " 'IPython.core.excolors': <module 'IPython.core.excolors' from '/usr/lib/python3/dist-packages/IPython/core/excolors.py'>,\n",
       " 'IPython.testing': <module 'IPython.testing' from '/usr/lib/python3/dist-packages/IPython/testing/__init__.py'>,\n",
       " 'IPython.testing.skipdoctest': <module 'IPython.testing.skipdoctest' from '/usr/lib/python3/dist-packages/IPython/testing/skipdoctest.py'>,\n",
       " 'pdb': <module 'pdb' from '/usr/lib/python3.7/pdb.py'>,\n",
       " 'cmd': <module 'cmd' from '/usr/lib/python3.7/cmd.py'>,\n",
       " 'code': <module 'code' from '/usr/lib/python3.7/code.py'>,\n",
       " 'codeop': <module 'codeop' from '/usr/lib/python3.7/codeop.py'>,\n",
       " 'IPython.core.display_trap': <module 'IPython.core.display_trap' from '/usr/lib/python3/dist-packages/IPython/core/display_trap.py'>,\n",
       " 'IPython.utils.path': <module 'IPython.utils.path' from '/usr/lib/python3/dist-packages/IPython/utils/path.py'>,\n",
       " 'IPython.utils.process': <module 'IPython.utils.process' from '/usr/lib/python3/dist-packages/IPython/utils/process.py'>,\n",
       " 'IPython.utils._process_posix': <module 'IPython.utils._process_posix' from '/usr/lib/python3/dist-packages/IPython/utils/_process_posix.py'>,\n",
       " 'pexpect': <module 'pexpect' from '/usr/lib/python3/dist-packages/pexpect/__init__.py'>,\n",
       " 'pexpect.exceptions': <module 'pexpect.exceptions' from '/usr/lib/python3/dist-packages/pexpect/exceptions.py'>,\n",
       " 'pexpect.utils': <module 'pexpect.utils' from '/usr/lib/python3/dist-packages/pexpect/utils.py'>,\n",
       " 'pexpect.expect': <module 'pexpect.expect' from '/usr/lib/python3/dist-packages/pexpect/expect.py'>,\n",
       " 'pexpect.pty_spawn': <module 'pexpect.pty_spawn' from '/usr/lib/python3/dist-packages/pexpect/pty_spawn.py'>,\n",
       " 'pty': <module 'pty' from '/usr/lib/python3.7/pty.py'>,\n",
       " 'tty': <module 'tty' from '/usr/lib/python3.7/tty.py'>,\n",
       " 'termios': <module 'termios' from '/usr/lib/python3.7/lib-dynload/termios.cpython-37m-x86_64-linux-gnu.so'>,\n",
       " 'ptyprocess': <module 'ptyprocess' from '/usr/lib/python3/dist-packages/ptyprocess/__init__.py'>,\n",
       " 'ptyprocess.ptyprocess': <module 'ptyprocess.ptyprocess' from '/usr/lib/python3/dist-packages/ptyprocess/ptyprocess.py'>,\n",
       " 'fcntl': <module 'fcntl' (built-in)>,\n",
       " 'resource': <module 'resource' from '/usr/lib/python3.7/lib-dynload/resource.cpython-37m-x86_64-linux-gnu.so'>,\n",
       " 'ptyprocess.util': <module 'ptyprocess.util' from '/usr/lib/python3/dist-packages/ptyprocess/util.py'>,\n",
       " 'pexpect.spawnbase': <module 'pexpect.spawnbase' from '/usr/lib/python3/dist-packages/pexpect/spawnbase.py'>,\n",
       " 'pexpect.run': <module 'pexpect.run' from '/usr/lib/python3/dist-packages/pexpect/run.py'>,\n",
       " 'IPython.utils._process_common': <module 'IPython.utils._process_common' from '/usr/lib/python3/dist-packages/IPython/utils/_process_common.py'>,\n",
       " 'shlex': <module 'shlex' from '/usr/lib/python3.7/shlex.py'>,\n",
       " 'IPython.utils.decorators': <module 'IPython.utils.decorators' from '/usr/lib/python3/dist-packages/IPython/utils/decorators.py'>,\n",
       " 'IPython.utils.data': <module 'IPython.utils.data' from '/usr/lib/python3/dist-packages/IPython/utils/data.py'>,\n",
       " 'IPython.utils.terminal': <module 'IPython.utils.terminal' from '/usr/lib/python3/dist-packages/IPython/utils/terminal.py'>,\n",
       " 'IPython.utils.sysinfo': <module 'IPython.utils.sysinfo' from '/usr/lib/python3/dist-packages/IPython/utils/sysinfo.py'>,\n",
       " 'IPython.utils._sysinfo': <module 'IPython.utils._sysinfo' from '/usr/lib/python3/dist-packages/IPython/utils/_sysinfo.py'>,\n",
       " 'IPython.core.profiledir': <module 'IPython.core.profiledir' from '/usr/lib/python3/dist-packages/IPython/core/profiledir.py'>,\n",
       " 'IPython.paths': <module 'IPython.paths' from '/usr/lib/python3/dist-packages/IPython/paths.py'>,\n",
       " 'tempfile': <module 'tempfile' from '/usr/lib/python3.7/tempfile.py'>,\n",
       " 'IPython.utils.importstring': <module 'IPython.utils.importstring' from '/usr/lib/python3/dist-packages/IPython/utils/importstring.py'>,\n",
       " 'IPython.terminal': <module 'IPython.terminal' from '/usr/lib/python3/dist-packages/IPython/terminal/__init__.py'>,\n",
       " 'IPython.terminal.embed': <module 'IPython.terminal.embed' from '/usr/lib/python3/dist-packages/IPython/terminal/embed.py'>,\n",
       " 'IPython.core.compilerop': <module 'IPython.core.compilerop' from '/usr/lib/python3/dist-packages/IPython/core/compilerop.py'>,\n",
       " 'IPython.core.magic_arguments': <module 'IPython.core.magic_arguments' from '/usr/lib/python3/dist-packages/IPython/core/magic_arguments.py'>,\n",
       " 'IPython.core.error': <module 'IPython.core.error' from '/usr/lib/python3/dist-packages/IPython/core/error.py'>,\n",
       " 'IPython.utils.text': <module 'IPython.utils.text' from '/usr/lib/python3/dist-packages/IPython/utils/text.py'>,\n",
       " 'pathlib': <module 'pathlib' from '/usr/lib/python3.7/pathlib.py'>,\n",
       " 'ntpath': <module 'ntpath' from '/usr/lib/python3.7/ntpath.py'>,\n",
       " 'IPython.core.magic': <module 'IPython.core.magic' from '/usr/lib/python3/dist-packages/IPython/core/magic.py'>,\n",
       " 'getopt': <module 'getopt' from '/usr/lib/python3.7/getopt.py'>,\n",
       " 'IPython.core.oinspect': <module 'IPython.core.oinspect' from '/usr/lib/python3/dist-packages/IPython/core/oinspect.py'>,\n",
       " 'IPython.core.page': <module 'IPython.core.page' from '/usr/lib/python3/dist-packages/IPython/core/page.py'>,\n",
       " 'IPython.core.display': <module 'IPython.core.display' from '/usr/lib/python3/dist-packages/IPython/core/display.py'>,\n",
       " 'base64': <module 'base64' from '/usr/lib/python3.7/base64.py'>,\n",
       " 'binascii': <module 'binascii' (built-in)>,\n",
       " 'mimetypes': <module 'mimetypes' from '/usr/lib/python3.7/mimetypes.py'>,\n",
       " 'IPython.lib': <module 'IPython.lib' from '/usr/lib/python3/dist-packages/IPython/lib/__init__.py'>,\n",
       " 'IPython.lib.security': <module 'IPython.lib.security' from '/usr/lib/python3/dist-packages/IPython/lib/security.py'>,\n",
       " 'getpass': <module 'getpass' from '/usr/lib/python3.7/getpass.py'>,\n",
       " 'IPython.lib.pretty': <module 'IPython.lib.pretty' from '/usr/lib/python3/dist-packages/IPython/lib/pretty.py'>,\n",
       " 'datetime': <module 'datetime' from '/usr/lib/python3.7/datetime.py'>,\n",
       " '_datetime': <module '_datetime' (built-in)>,\n",
       " 'IPython.utils.dir2': <module 'IPython.utils.dir2' from '/usr/lib/python3/dist-packages/IPython/utils/dir2.py'>,\n",
       " 'IPython.utils.wildcard': <module 'IPython.utils.wildcard' from '/usr/lib/python3/dist-packages/IPython/utils/wildcard.py'>,\n",
       " 'IPython.utils.signatures': <module 'IPython.utils.signatures' from '/usr/lib/python3/dist-packages/IPython/utils/signatures.py'>,\n",
       " 'pygments.lexers': <module 'pygments.lexers' from '/usr/lib/python3/dist-packages/pygments/lexers/__init__.py'>,\n",
       " 'pygments.lexers._mapping': <module 'pygments.lexers._mapping' from '/usr/lib/python3/dist-packages/pygments/lexers/_mapping.py'>,\n",
       " 'pygments.modeline': <module 'pygments.modeline' from '/usr/lib/python3/dist-packages/pygments/modeline.py'>,\n",
       " 'pygments.plugin': <module 'pygments.plugin' from '/usr/lib/python3/dist-packages/pygments/plugin.py'>,\n",
       " 'pygments.lexers.python': <module 'pygments.lexers.python' from '/usr/lib/python3/dist-packages/pygments/lexers/python.py'>,\n",
       " 'pygments.lexer': <module 'pygments.lexer' from '/usr/lib/python3/dist-packages/pygments/lexer.py'>,\n",
       " 'pygments.filter': <module 'pygments.filter' from '/usr/lib/python3/dist-packages/pygments/filter.py'>,\n",
       " 'pygments.filters': <module 'pygments.filters' from '/usr/lib/python3/dist-packages/pygments/filters/__init__.py'>,\n",
       " 'pygments.token': <module 'pygments.token' from '/usr/lib/python3/dist-packages/pygments/token.py'>,\n",
       " 'pygments.regexopt': <module 'pygments.regexopt' from '/usr/lib/python3/dist-packages/pygments/regexopt.py'>,\n",
       " 'pygments.unistring': <module 'pygments.unistring' from '/usr/lib/python3/dist-packages/pygments/unistring.py'>,\n",
       " 'pygments.formatters': <module 'pygments.formatters' from '/usr/lib/python3/dist-packages/pygments/formatters/__init__.py'>,\n",
       " 'pygments.formatters._mapping': <module 'pygments.formatters._mapping' from '/usr/lib/python3/dist-packages/pygments/formatters/_mapping.py'>,\n",
       " 'pygments.formatters.html': <module 'pygments.formatters.html' from '/usr/lib/python3/dist-packages/pygments/formatters/html.py'>,\n",
       " 'pygments.formatter': <module 'pygments.formatter' from '/usr/lib/python3/dist-packages/pygments/formatter.py'>,\n",
       " 'pygments.styles': <module 'pygments.styles' from '/usr/lib/python3/dist-packages/pygments/styles/__init__.py'>,\n",
       " 'IPython.core.inputsplitter': <module 'IPython.core.inputsplitter' from '/usr/lib/python3/dist-packages/IPython/core/inputsplitter.py'>,\n",
       " 'IPython.core.inputtransformer': <module 'IPython.core.inputtransformer' from '/usr/lib/python3/dist-packages/IPython/core/inputtransformer.py'>,\n",
       " 'IPython.core.splitinput': <module 'IPython.core.splitinput' from '/usr/lib/python3/dist-packages/IPython/core/splitinput.py'>,\n",
       " 'IPython.utils.tokenize2': <module 'IPython.utils.tokenize2' from '/usr/lib/python3/dist-packages/IPython/utils/tokenize2.py'>,\n",
       " 'IPython.utils._tokenize_py3': <module 'IPython.utils._tokenize_py3' from '/usr/lib/python3/dist-packages/IPython/utils/_tokenize_py3.py'>,\n",
       " 'IPython.core.interactiveshell': <module 'IPython.core.interactiveshell' from '/usr/lib/python3/dist-packages/IPython/core/interactiveshell.py'>,\n",
       " 'pickleshare': <module 'pickleshare' from '/usr/lib/python3/dist-packages/pickleshare.py'>,\n",
       " 'pickle': <module 'pickle' from '/usr/lib/python3.7/pickle.py'>,\n",
       " '_compat_pickle': <module '_compat_pickle' from '/usr/lib/python3.7/_compat_pickle.py'>,\n",
       " '_pickle': <module '_pickle' (built-in)>,\n",
       " 'IPython.core.prefilter': <module 'IPython.core.prefilter' from '/usr/lib/python3/dist-packages/IPython/core/prefilter.py'>,\n",
       " 'IPython.core.autocall': <module 'IPython.core.autocall' from '/usr/lib/python3/dist-packages/IPython/core/autocall.py'>,\n",
       " 'IPython.core.macro': <module 'IPython.core.macro' from '/usr/lib/python3/dist-packages/IPython/core/macro.py'>,\n",
       " 'IPython.core.shadowns': <module 'IPython.core.shadowns' from '/usr/lib/python3/dist-packages/IPython/core/shadowns.py'>,\n",
       " 'IPython.core.alias': <module 'IPython.core.alias' from '/usr/lib/python3/dist-packages/IPython/core/alias.py'>,\n",
       " 'IPython.core.builtin_trap': <module 'IPython.core.builtin_trap' from '/usr/lib/python3/dist-packages/IPython/core/builtin_trap.py'>,\n",
       " 'IPython.core.events': <module 'IPython.core.events' from '/usr/lib/python3/dist-packages/IPython/core/events.py'>,\n",
       " 'IPython.core.displayhook': <module 'IPython.core.displayhook' from '/usr/lib/python3/dist-packages/IPython/core/displayhook.py'>,\n",
       " 'IPython.core.displaypub': <module 'IPython.core.displaypub' from '/usr/lib/python3/dist-packages/IPython/core/displaypub.py'>,\n",
       " 'IPython.core.extensions': <module 'IPython.core.extensions' from '/usr/lib/python3/dist-packages/IPython/core/extensions.py'>,\n",
       " 'IPython.core.formatters': <module 'IPython.core.formatters' from '/usr/lib/python3/dist-packages/IPython/core/formatters.py'>,\n",
       " 'IPython.utils.sentinel': <module 'IPython.utils.sentinel' from '/usr/lib/python3/dist-packages/IPython/utils/sentinel.py'>,\n",
       " 'IPython.core.history': <module 'IPython.core.history' from '/usr/lib/python3/dist-packages/IPython/core/history.py'>,\n",
       " 'sqlite3': <module 'sqlite3' from '/usr/lib/python3.7/sqlite3/__init__.py'>,\n",
       " 'sqlite3.dbapi2': <module 'sqlite3.dbapi2' from '/usr/lib/python3.7/sqlite3/dbapi2.py'>,\n",
       " '_sqlite3': <module '_sqlite3' from '/usr/lib/python3.7/lib-dynload/_sqlite3.cpython-37m-x86_64-linux-gnu.so'>,\n",
       " 'IPython.core.logger': <module 'IPython.core.logger' from '/usr/lib/python3/dist-packages/IPython/core/logger.py'>,\n",
       " 'IPython.core.payload': <module 'IPython.core.payload' from '/usr/lib/python3/dist-packages/IPython/core/payload.py'>,\n",
       " 'IPython.core.usage': <module 'IPython.core.usage' from '/usr/lib/python3/dist-packages/IPython/core/usage.py'>,\n",
       " 'IPython.display': <module 'IPython.display' from '/usr/lib/python3/dist-packages/IPython/display.py'>,\n",
       " 'IPython.lib.display': <module 'IPython.lib.display' from '/usr/lib/python3/dist-packages/IPython/lib/display.py'>,\n",
       " 'IPython.utils.io': <module 'IPython.utils.io' from '/usr/lib/python3/dist-packages/IPython/utils/io.py'>,\n",
       " 'IPython.utils.capture': <module 'IPython.utils.capture' from '/usr/lib/python3/dist-packages/IPython/utils/capture.py'>,\n",
       " 'IPython.utils.strdispatch': <module 'IPython.utils.strdispatch' from '/usr/lib/python3/dist-packages/IPython/utils/strdispatch.py'>,\n",
       " 'IPython.core.hooks': <module 'IPython.core.hooks' from '/usr/lib/python3/dist-packages/IPython/core/hooks.py'>,\n",
       " 'IPython.utils.syspathcontext': <module 'IPython.utils.syspathcontext' from '/usr/lib/python3/dist-packages/IPython/utils/syspathcontext.py'>,\n",
       " 'IPython.utils.tempdir': <module 'IPython.utils.tempdir' from '/usr/lib/python3/dist-packages/IPython/utils/tempdir.py'>,\n",
       " 'IPython.utils.contexts': <module 'IPython.utils.contexts' from '/usr/lib/python3/dist-packages/IPython/utils/contexts.py'>,\n",
       " 'IPython.terminal.interactiveshell': <module 'IPython.terminal.interactiveshell' from '/usr/lib/python3/dist-packages/IPython/terminal/interactiveshell.py'>,\n",
       " 'prompt_toolkit': <module 'prompt_toolkit' from '/usr/lib/python3/dist-packages/prompt_toolkit/__init__.py'>,\n",
       " 'prompt_toolkit.interface': <module 'prompt_toolkit.interface' from '/usr/lib/python3/dist-packages/prompt_toolkit/interface.py'>,\n",
       " 'prompt_toolkit.application': <module 'prompt_toolkit.application' from '/usr/lib/python3/dist-packages/prompt_toolkit/application.py'>,\n",
       " 'prompt_toolkit.buffer': <module 'prompt_toolkit.buffer' from '/usr/lib/python3/dist-packages/prompt_toolkit/buffer.py'>,\n",
       " 'prompt_toolkit.auto_suggest': <module 'prompt_toolkit.auto_suggest' from '/usr/lib/python3/dist-packages/prompt_toolkit/auto_suggest.py'>,\n",
       " 'prompt_toolkit.filters': <module 'prompt_toolkit.filters' from '/usr/lib/python3/dist-packages/prompt_toolkit/filters/__init__.py'>,\n",
       " 'prompt_toolkit.filters.base': <module 'prompt_toolkit.filters.base' from '/usr/lib/python3/dist-packages/prompt_toolkit/filters/base.py'>,\n",
       " 'prompt_toolkit.utils': <module 'prompt_toolkit.utils' from '/usr/lib/python3/dist-packages/prompt_toolkit/utils.py'>,\n",
       " 'wcwidth': <module 'wcwidth' from '/usr/lib/python3/dist-packages/wcwidth/__init__.py'>,\n",
       " 'wcwidth.wcwidth': <module 'wcwidth.wcwidth' from '/usr/lib/python3/dist-packages/wcwidth/wcwidth.py'>,\n",
       " 'wcwidth.table_wide': <module 'wcwidth.table_wide' from '/usr/lib/python3/dist-packages/wcwidth/table_wide.py'>,\n",
       " 'wcwidth.table_zero': <module 'wcwidth.table_zero' from '/usr/lib/python3/dist-packages/wcwidth/table_zero.py'>,\n",
       " 'six.moves': <module 'six.moves' (<six._SixMetaPathImporter object at 0x7fe90bb02908>)>,\n",
       " 'prompt_toolkit.filters.cli': <module 'prompt_toolkit.filters.cli' from '/usr/lib/python3/dist-packages/prompt_toolkit/filters/cli.py'>,\n",
       " 'prompt_toolkit.enums': <module 'prompt_toolkit.enums' from '/usr/lib/python3/dist-packages/prompt_toolkit/enums.py'>,\n",
       " 'prompt_toolkit.key_binding': <module 'prompt_toolkit.key_binding' from '/usr/lib/python3/dist-packages/prompt_toolkit/key_binding/__init__.py'>,\n",
       " 'prompt_toolkit.key_binding.vi_state': <module 'prompt_toolkit.key_binding.vi_state' from '/usr/lib/python3/dist-packages/prompt_toolkit/key_binding/vi_state.py'>,\n",
       " 'prompt_toolkit.cache': <module 'prompt_toolkit.cache' from '/usr/lib/python3/dist-packages/prompt_toolkit/cache.py'>,\n",
       " 'prompt_toolkit.filters.types': <module 'prompt_toolkit.filters.types' from '/usr/lib/python3/dist-packages/prompt_toolkit/filters/types.py'>,\n",
       " 'prompt_toolkit.filters.utils': <module 'prompt_toolkit.filters.utils' from '/usr/lib/python3/dist-packages/prompt_toolkit/filters/utils.py'>,\n",
       " 'prompt_toolkit.clipboard': <module 'prompt_toolkit.clipboard' from '/usr/lib/python3/dist-packages/prompt_toolkit/clipboard/__init__.py'>,\n",
       " 'prompt_toolkit.clipboard.base': <module 'prompt_toolkit.clipboard.base' from '/usr/lib/python3/dist-packages/prompt_toolkit/clipboard/base.py'>,\n",
       " 'prompt_toolkit.selection': <module 'prompt_toolkit.selection' from '/usr/lib/python3/dist-packages/prompt_toolkit/selection.py'>,\n",
       " 'prompt_toolkit.clipboard.in_memory': <module 'prompt_toolkit.clipboard.in_memory' from '/usr/lib/python3/dist-packages/prompt_toolkit/clipboard/in_memory.py'>,\n",
       " 'prompt_toolkit.completion': <module 'prompt_toolkit.completion' from '/usr/lib/python3/dist-packages/prompt_toolkit/completion.py'>,\n",
       " 'prompt_toolkit.document': <module 'prompt_toolkit.document' from '/usr/lib/python3/dist-packages/prompt_toolkit/document.py'>,\n",
       " 'prompt_toolkit.history': <module 'prompt_toolkit.history' from '/usr/lib/python3/dist-packages/prompt_toolkit/history.py'>,\n",
       " 'prompt_toolkit.search_state': <module 'prompt_toolkit.search_state' from '/usr/lib/python3/dist-packages/prompt_toolkit/search_state.py'>,\n",
       " 'prompt_toolkit.validation': <module 'prompt_toolkit.validation' from '/usr/lib/python3/dist-packages/prompt_toolkit/validation.py'>,\n",
       " 'prompt_toolkit.buffer_mapping': <module 'prompt_toolkit.buffer_mapping' from '/usr/lib/python3/dist-packages/prompt_toolkit/buffer_mapping.py'>,\n",
       " 'prompt_toolkit.key_binding.bindings': <module 'prompt_toolkit.key_binding.bindings' from '/usr/lib/python3/dist-packages/prompt_toolkit/key_binding/bindings/__init__.py'>,\n",
       " 'prompt_toolkit.key_binding.bindings.basic': <module 'prompt_toolkit.key_binding.bindings.basic' from '/usr/lib/python3/dist-packages/prompt_toolkit/key_binding/bindings/basic.py'>,\n",
       " 'prompt_toolkit.keys': <module 'prompt_toolkit.keys' from '/usr/lib/python3/dist-packages/prompt_toolkit/keys.py'>,\n",
       " 'prompt_toolkit.layout': <module 'prompt_toolkit.layout' from '/usr/lib/python3/dist-packages/prompt_toolkit/layout/__init__.py'>,\n",
       " 'prompt_toolkit.layout.containers': <module 'prompt_toolkit.layout.containers' from '/usr/lib/python3/dist-packages/prompt_toolkit/layout/containers.py'>,\n",
       " 'prompt_toolkit.layout.controls': <module 'prompt_toolkit.layout.controls' from '/usr/lib/python3/dist-packages/prompt_toolkit/layout/controls.py'>,\n",
       " 'prompt_toolkit.mouse_events': <module 'prompt_toolkit.mouse_events' from '/usr/lib/python3/dist-packages/prompt_toolkit/mouse_events.py'>,\n",
       " 'prompt_toolkit.token': <module 'prompt_toolkit.token' from '/usr/lib/python3/dist-packages/prompt_toolkit/token.py'>,\n",
       " 'prompt_toolkit.layout.lexers': <module 'prompt_toolkit.layout.lexers' from '/usr/lib/python3/dist-packages/prompt_toolkit/layout/lexers.py'>,\n",
       " 'prompt_toolkit.layout.utils': <module 'prompt_toolkit.layout.utils' from '/usr/lib/python3/dist-packages/prompt_toolkit/layout/utils.py'>,\n",
       " 'prompt_toolkit.layout.processors': <module 'prompt_toolkit.layout.processors' from '/usr/lib/python3/dist-packages/prompt_toolkit/layout/processors.py'>,\n",
       " 'prompt_toolkit.reactive': <module 'prompt_toolkit.reactive' from '/usr/lib/python3/dist-packages/prompt_toolkit/reactive.py'>,\n",
       " 'prompt_toolkit.layout.screen': <module 'prompt_toolkit.layout.screen' from '/usr/lib/python3/dist-packages/prompt_toolkit/layout/screen.py'>,\n",
       " 'prompt_toolkit.layout.dimension': <module 'prompt_toolkit.layout.dimension' from '/usr/lib/python3/dist-packages/prompt_toolkit/layout/dimension.py'>,\n",
       " 'prompt_toolkit.layout.margins': <module 'prompt_toolkit.layout.margins' from '/usr/lib/python3/dist-packages/prompt_toolkit/layout/margins.py'>,\n",
       " 'prompt_toolkit.renderer': <module 'prompt_toolkit.renderer' from '/usr/lib/python3/dist-packages/prompt_toolkit/renderer.py'>,\n",
       " 'prompt_toolkit.layout.mouse_handlers': <module 'prompt_toolkit.layout.mouse_handlers' from '/usr/lib/python3/dist-packages/prompt_toolkit/layout/mouse_handlers.py'>,\n",
       " 'prompt_toolkit.output': <module 'prompt_toolkit.output' from '/usr/lib/python3/dist-packages/prompt_toolkit/output.py'>,\n",
       " 'prompt_toolkit.styles': <module 'prompt_toolkit.styles' from '/usr/lib/python3/dist-packages/prompt_toolkit/styles/__init__.py'>,\n",
       " 'prompt_toolkit.styles.base': <module 'prompt_toolkit.styles.base' from '/usr/lib/python3/dist-packages/prompt_toolkit/styles/base.py'>,\n",
       " 'prompt_toolkit.styles.defaults': <module 'prompt_toolkit.styles.defaults' from '/usr/lib/python3/dist-packages/prompt_toolkit/styles/defaults.py'>,\n",
       " 'prompt_toolkit.styles.from_dict': <module 'prompt_toolkit.styles.from_dict' from '/usr/lib/python3/dist-packages/prompt_toolkit/styles/from_dict.py'>,\n",
       " 'prompt_toolkit.styles.utils': <module 'prompt_toolkit.styles.utils' from '/usr/lib/python3/dist-packages/prompt_toolkit/styles/utils.py'>,\n",
       " 'prompt_toolkit.styles.from_pygments': <module 'prompt_toolkit.styles.from_pygments' from '/usr/lib/python3/dist-packages/prompt_toolkit/styles/from_pygments.py'>,\n",
       " 'pygments.style': <module 'pygments.style' from '/usr/lib/python3/dist-packages/pygments/style.py'>,\n",
       " 'pygments.styles.default': <module 'pygments.styles.default' from '/usr/lib/python3/dist-packages/pygments/styles/default.py'>,\n",
       " 'prompt_toolkit.key_binding.bindings.named_commands': <module 'prompt_toolkit.key_binding.bindings.named_commands' from '/usr/lib/python3/dist-packages/prompt_toolkit/key_binding/bindings/named_commands.py'>,\n",
       " 'prompt_toolkit.key_binding.bindings.completion': <module 'prompt_toolkit.key_binding.bindings.completion' from '/usr/lib/python3/dist-packages/prompt_toolkit/key_binding/bindings/completion.py'>,\n",
       " 'prompt_toolkit.key_binding.registry': <module 'prompt_toolkit.key_binding.registry' from '/usr/lib/python3/dist-packages/prompt_toolkit/key_binding/registry.py'>,\n",
       " 'prompt_toolkit.key_binding.input_processor': <module 'prompt_toolkit.key_binding.input_processor' from '/usr/lib/python3/dist-packages/prompt_toolkit/key_binding/input_processor.py'>,\n",
       " 'prompt_toolkit.key_binding.bindings.emacs': <module 'prompt_toolkit.key_binding.bindings.emacs' from '/usr/lib/python3/dist-packages/prompt_toolkit/key_binding/bindings/emacs.py'>,\n",
       " 'prompt_toolkit.key_binding.bindings.scroll': <module 'prompt_toolkit.key_binding.bindings.scroll' from '/usr/lib/python3/dist-packages/prompt_toolkit/key_binding/bindings/scroll.py'>,\n",
       " 'prompt_toolkit.key_binding.bindings.vi': <module 'prompt_toolkit.key_binding.bindings.vi' from '/usr/lib/python3/dist-packages/prompt_toolkit/key_binding/bindings/vi.py'>,\n",
       " 'prompt_toolkit.key_binding.digraphs': <module 'prompt_toolkit.key_binding.digraphs' from '/usr/lib/python3/dist-packages/prompt_toolkit/key_binding/digraphs.py'>,\n",
       " 'prompt_toolkit.key_binding.defaults': <module 'prompt_toolkit.key_binding.defaults' from '/usr/lib/python3/dist-packages/prompt_toolkit/key_binding/defaults.py'>,\n",
       " 'prompt_toolkit.eventloop': <module 'prompt_toolkit.eventloop' from '/usr/lib/python3/dist-packages/prompt_toolkit/eventloop/__init__.py'>,\n",
       " 'prompt_toolkit.eventloop.base': <module 'prompt_toolkit.eventloop.base' from '/usr/lib/python3/dist-packages/prompt_toolkit/eventloop/base.py'>,\n",
       " 'prompt_toolkit.eventloop.callbacks': <module 'prompt_toolkit.eventloop.callbacks' from '/usr/lib/python3/dist-packages/prompt_toolkit/eventloop/callbacks.py'>,\n",
       " 'prompt_toolkit.input': <module 'prompt_toolkit.input' from '/usr/lib/python3/dist-packages/prompt_toolkit/input.py'>,\n",
       " 'prompt_toolkit.terminal': <module 'prompt_toolkit.terminal' from '/usr/lib/python3/dist-packages/prompt_toolkit/terminal/__init__.py'>,\n",
       " 'prompt_toolkit.terminal.vt100_input': <module 'prompt_toolkit.terminal.vt100_input' from '/usr/lib/python3/dist-packages/prompt_toolkit/terminal/vt100_input.py'>,\n",
       " 'prompt_toolkit.shortcuts': <module 'prompt_toolkit.shortcuts' from '/usr/lib/python3/dist-packages/prompt_toolkit/shortcuts.py'>,\n",
       " 'prompt_toolkit.layout.menus': <module 'prompt_toolkit.layout.menus' from '/usr/lib/python3/dist-packages/prompt_toolkit/layout/menus.py'>,\n",
       " 'prompt_toolkit.layout.prompt': <module 'prompt_toolkit.layout.prompt' from '/usr/lib/python3/dist-packages/prompt_toolkit/layout/prompt.py'>,\n",
       " 'prompt_toolkit.layout.toolbars': <module 'prompt_toolkit.layout.toolbars' from '/usr/lib/python3/dist-packages/prompt_toolkit/layout/toolbars.py'>,\n",
       " 'prompt_toolkit.terminal.vt100_output': <module 'prompt_toolkit.terminal.vt100_output' from '/usr/lib/python3/dist-packages/prompt_toolkit/terminal/vt100_output.py'>,\n",
       " 'array': <module 'array' (built-in)>,\n",
       " 'prompt_toolkit.key_binding.manager': <module 'prompt_toolkit.key_binding.manager' from '/usr/lib/python3/dist-packages/prompt_toolkit/key_binding/manager.py'>,\n",
       " 'IPython.terminal.debugger': <module 'IPython.terminal.debugger' from '/usr/lib/python3/dist-packages/IPython/terminal/debugger.py'>,\n",
       " 'IPython.core.completer': <module 'IPython.core.completer' from '/usr/lib/python3/dist-packages/IPython/core/completer.py'>,\n",
       " 'unicodedata': <module 'unicodedata' (built-in)>,\n",
       " 'IPython.core.latex_symbols': <module 'IPython.core.latex_symbols' from '/usr/lib/python3/dist-packages/IPython/core/latex_symbols.py'>,\n",
       " 'IPython.utils.generics': <module 'IPython.utils.generics' from '/usr/lib/python3/dist-packages/IPython/utils/generics.py'>,\n",
       " 'simplegeneric': <module 'simplegeneric' from '/usr/lib/python3/dist-packages/simplegeneric.py'>,\n",
       " 'IPython.terminal.ptutils': <module 'IPython.terminal.ptutils' from '/usr/lib/python3/dist-packages/IPython/terminal/ptutils.py'>,\n",
       " 'IPython.terminal.shortcuts': <module 'IPython.terminal.shortcuts' from '/usr/lib/python3/dist-packages/IPython/terminal/shortcuts.py'>,\n",
       " 'IPython.terminal.magics': <module 'IPython.terminal.magics' from '/usr/lib/python3/dist-packages/IPython/terminal/magics.py'>,\n",
       " 'IPython.lib.clipboard': <module 'IPython.lib.clipboard' from '/usr/lib/python3/dist-packages/IPython/lib/clipboard.py'>,\n",
       " 'IPython.terminal.pt_inputhooks': <module 'IPython.terminal.pt_inputhooks' from '/usr/lib/python3/dist-packages/IPython/terminal/pt_inputhooks/__init__.py'>,\n",
       " 'IPython.terminal.prompts': <module 'IPython.terminal.prompts' from '/usr/lib/python3/dist-packages/IPython/terminal/prompts.py'>,\n",
       " 'IPython.terminal.ipapp': <module 'IPython.terminal.ipapp' from '/usr/lib/python3/dist-packages/IPython/terminal/ipapp.py'>,\n",
       " 'IPython.core.magics': <module 'IPython.core.magics' from '/usr/lib/python3/dist-packages/IPython/core/magics/__init__.py'>,\n",
       " 'IPython.core.magics.auto': <module 'IPython.core.magics.auto' from '/usr/lib/python3/dist-packages/IPython/core/magics/auto.py'>,\n",
       " 'IPython.core.magics.basic': <module 'IPython.core.magics.basic' from '/usr/lib/python3/dist-packages/IPython/core/magics/basic.py'>,\n",
       " 'IPython.core.magics.code': <module 'IPython.core.magics.code' from '/usr/lib/python3/dist-packages/IPython/core/magics/code.py'>,\n",
       " 'IPython.core.magics.config': <module 'IPython.core.magics.config' from '/usr/lib/python3/dist-packages/IPython/core/magics/config.py'>,\n",
       " 'IPython.core.magics.display': <module 'IPython.core.magics.display' from '/usr/lib/python3/dist-packages/IPython/core/magics/display.py'>,\n",
       " 'IPython.core.magics.execution': <module 'IPython.core.magics.execution' from '/usr/lib/python3/dist-packages/IPython/core/magics/execution.py'>,\n",
       " 'gc': <module 'gc' (built-in)>,\n",
       " 'timeit': <module 'timeit' from '/usr/lib/python3.7/timeit.py'>,\n",
       " 'cProfile': <module 'cProfile' from '/usr/lib/python3.7/cProfile.py'>,\n",
       " '_lsprof': <module '_lsprof' from '/usr/lib/python3.7/lib-dynload/_lsprof.cpython-37m-x86_64-linux-gnu.so'>,\n",
       " 'profile': <module 'profile' from '/usr/lib/python3.7/profile.py'>,\n",
       " 'pstats': <module 'pstats' from '/usr/lib/python3.7/pstats.py'>,\n",
       " 'IPython.utils.module_paths': <module 'IPython.utils.module_paths' from '/usr/lib/python3/dist-packages/IPython/utils/module_paths.py'>,\n",
       " 'imp': <module 'imp' from '/usr/lib/python3.7/imp.py'>,\n",
       " 'IPython.utils.timing': <module 'IPython.utils.timing' from '/usr/lib/python3/dist-packages/IPython/utils/timing.py'>,\n",
       " 'IPython.core.magics.extension': <module 'IPython.core.magics.extension' from '/usr/lib/python3/dist-packages/IPython/core/magics/extension.py'>,\n",
       " 'IPython.core.magics.history': <module 'IPython.core.magics.history' from '/usr/lib/python3/dist-packages/IPython/core/magics/history.py'>,\n",
       " 'IPython.core.magics.logging': <module 'IPython.core.magics.logging' from '/usr/lib/python3/dist-packages/IPython/core/magics/logging.py'>,\n",
       " 'IPython.core.magics.namespace': <module 'IPython.core.magics.namespace' from '/usr/lib/python3/dist-packages/IPython/core/magics/namespace.py'>,\n",
       " 'IPython.core.magics.osm': <module 'IPython.core.magics.osm' from '/usr/lib/python3/dist-packages/IPython/core/magics/osm.py'>,\n",
       " 'IPython.core.magics.pylab': <module 'IPython.core.magics.pylab' from '/usr/lib/python3/dist-packages/IPython/core/magics/pylab.py'>,\n",
       " 'IPython.core.pylabtools': <module 'IPython.core.pylabtools' from '/usr/lib/python3/dist-packages/IPython/core/pylabtools.py'>,\n",
       " 'IPython.core.magics.script': <module 'IPython.core.magics.script' from '/usr/lib/python3/dist-packages/IPython/core/magics/script.py'>,\n",
       " 'IPython.lib.backgroundjobs': <module 'IPython.lib.backgroundjobs' from '/usr/lib/python3/dist-packages/IPython/lib/backgroundjobs.py'>,\n",
       " 'IPython.core.shellapp': <module 'IPython.core.shellapp' from '/usr/lib/python3/dist-packages/IPython/core/shellapp.py'>,\n",
       " 'IPython.extensions': <module 'IPython.extensions' from '/usr/lib/python3/dist-packages/IPython/extensions/__init__.py'>,\n",
       " 'IPython.extensions.storemagic': <module 'IPython.extensions.storemagic' from '/usr/lib/python3/dist-packages/IPython/extensions/storemagic.py'>,\n",
       " 'IPython.utils.frame': <module 'IPython.utils.frame' from '/usr/lib/python3/dist-packages/IPython/utils/frame.py'>,\n",
       " 'jupyter_client': <module 'jupyter_client' from '/usr/lib/python3/dist-packages/jupyter_client/__init__.py'>,\n",
       " 'jupyter_client._version': <module 'jupyter_client._version' from '/usr/lib/python3/dist-packages/jupyter_client/_version.py'>,\n",
       " 'jupyter_client.connect': <module 'jupyter_client.connect' from '/usr/lib/python3/dist-packages/jupyter_client/connect.py'>,\n",
       " 'socket': <module 'socket' from '/usr/lib/python3.7/socket.py'>,\n",
       " '_socket': <module '_socket' (built-in)>,\n",
       " 'zmq': <module 'zmq' from '/usr/lib/python3/dist-packages/zmq/__init__.py'>,\n",
       " 'ctypes': <module 'ctypes' from '/usr/lib/python3.7/ctypes/__init__.py'>,\n",
       " '_ctypes': <module '_ctypes' from '/usr/lib/python3.7/lib-dynload/_ctypes.cpython-37m-x86_64-linux-gnu.so'>,\n",
       " 'ctypes._endian': <module 'ctypes._endian' from '/usr/lib/python3.7/ctypes/_endian.py'>,\n",
       " 'zmq.backend': <module 'zmq.backend' from '/usr/lib/python3/dist-packages/zmq/backend/__init__.py'>,\n",
       " 'zmq.backend.select': <module 'zmq.backend.select' from '/usr/lib/python3/dist-packages/zmq/backend/select.py'>,\n",
       " 'zmq.backend.cython': <module 'zmq.backend.cython' from '/usr/lib/python3/dist-packages/zmq/backend/cython/__init__.py'>,\n",
       " 'zmq.backend.cython.constants': <module 'zmq.backend.cython.constants' from '/usr/lib/python3/dist-packages/zmq/backend/cython/constants.cpython-37m-x86_64-linux-gnu.so'>,\n",
       " 'cython_runtime': <module 'cython_runtime'>,\n",
       " 'zmq.backend.cython.error': <module 'zmq.backend.cython.error' from '/usr/lib/python3/dist-packages/zmq/backend/cython/error.cpython-37m-x86_64-linux-gnu.so'>,\n",
       " '_cython_0_29_2': <module '_cython_0_29_2'>,\n",
       " 'zmq.backend.cython.message': <module 'zmq.backend.cython.message' from '/usr/lib/python3/dist-packages/zmq/backend/cython/message.cpython-37m-x86_64-linux-gnu.so'>,\n",
       " 'zmq.error': <module 'zmq.error' from '/usr/lib/python3/dist-packages/zmq/error.py'>,\n",
       " 'zmq.backend.cython.context': <module 'zmq.backend.cython.context' from '/usr/lib/python3/dist-packages/zmq/backend/cython/context.cpython-37m-x86_64-linux-gnu.so'>,\n",
       " 'zmq.backend.cython.socket': <module 'zmq.backend.cython.socket' from '/usr/lib/python3/dist-packages/zmq/backend/cython/socket.cpython-37m-x86_64-linux-gnu.so'>,\n",
       " 'zmq.backend.cython.utils': <module 'zmq.backend.cython.utils' from '/usr/lib/python3/dist-packages/zmq/backend/cython/utils.cpython-37m-x86_64-linux-gnu.so'>,\n",
       " 'zmq.backend.cython._poll': <module 'zmq.backend.cython._poll' from '/usr/lib/python3/dist-packages/zmq/backend/cython/_poll.cpython-37m-x86_64-linux-gnu.so'>,\n",
       " 'zmq.backend.cython._version': <module 'zmq.backend.cython._version' from '/usr/lib/python3/dist-packages/zmq/backend/cython/_version.cpython-37m-x86_64-linux-gnu.so'>,\n",
       " 'zmq.backend.cython._device': <module 'zmq.backend.cython._device' from '/usr/lib/python3/dist-packages/zmq/backend/cython/_device.cpython-37m-x86_64-linux-gnu.so'>,\n",
       " 'zmq.sugar': <module 'zmq.sugar' from '/usr/lib/python3/dist-packages/zmq/sugar/__init__.py'>,\n",
       " 'zmq.sugar.constants': <module 'zmq.sugar.constants' from '/usr/lib/python3/dist-packages/zmq/sugar/constants.py'>,\n",
       " 'zmq.utils': <module 'zmq.utils' from '/usr/lib/python3/dist-packages/zmq/utils/__init__.py'>,\n",
       " 'zmq.utils.constant_names': <module 'zmq.utils.constant_names' from '/usr/lib/python3/dist-packages/zmq/utils/constant_names.py'>,\n",
       " 'zmq.sugar.context': <module 'zmq.sugar.context' from '/usr/lib/python3/dist-packages/zmq/sugar/context.py'>,\n",
       " 'zmq.sugar.attrsettr': <module 'zmq.sugar.attrsettr' from '/usr/lib/python3/dist-packages/zmq/sugar/attrsettr.py'>,\n",
       " 'zmq.sugar.socket': <module 'zmq.sugar.socket' from '/usr/lib/python3/dist-packages/zmq/sugar/socket.py'>,\n",
       " 'zmq.sugar.poll': <module 'zmq.sugar.poll' from '/usr/lib/python3/dist-packages/zmq/sugar/poll.py'>,\n",
       " 'zmq.utils.jsonapi': <module 'zmq.utils.jsonapi' from '/usr/lib/python3/dist-packages/zmq/utils/jsonapi.py'>,\n",
       " 'zmq.utils.strtypes': <module 'zmq.utils.strtypes' from '/usr/lib/python3/dist-packages/zmq/utils/strtypes.py'>,\n",
       " 'zmq.sugar.frame': <module 'zmq.sugar.frame' from '/usr/lib/python3/dist-packages/zmq/sugar/frame.py'>,\n",
       " 'zmq.sugar.tracker': <module 'zmq.sugar.tracker' from '/usr/lib/python3/dist-packages/zmq/sugar/tracker.py'>,\n",
       " 'zmq.sugar.version': <module 'zmq.sugar.version' from '/usr/lib/python3/dist-packages/zmq/sugar/version.py'>,\n",
       " 'zmq.sugar.stopwatch': <module 'zmq.sugar.stopwatch' from '/usr/lib/python3/dist-packages/zmq/sugar/stopwatch.py'>,\n",
       " 'jupyter_client.localinterfaces': <module 'jupyter_client.localinterfaces' from '/usr/lib/python3/dist-packages/jupyter_client/localinterfaces.py'>,\n",
       " 'jupyter_core': <module 'jupyter_core' from '/usr/lib/python3/dist-packages/jupyter_core/__init__.py'>,\n",
       " 'jupyter_core.version': <module 'jupyter_core.version' from '/usr/lib/python3/dist-packages/jupyter_core/version.py'>,\n",
       " 'jupyter_core.paths': <module 'jupyter_core.paths' from '/usr/lib/python3/dist-packages/jupyter_core/paths.py'>,\n",
       " 'jupyter_client.launcher': <module 'jupyter_client.launcher' from '/usr/lib/python3/dist-packages/jupyter_client/launcher.py'>,\n",
       " 'traitlets.log': <module 'traitlets.log' from '/usr/lib/python3/dist-packages/traitlets/log.py'>,\n",
       " 'jupyter_client.client': <module 'jupyter_client.client' from '/usr/lib/python3/dist-packages/jupyter_client/client.py'>,\n",
       " 'jupyter_client.channels': <module 'jupyter_client.channels' from '/usr/lib/python3/dist-packages/jupyter_client/channels.py'>,\n",
       " 'jupyter_client.channelsabc': <module 'jupyter_client.channelsabc' from '/usr/lib/python3/dist-packages/jupyter_client/channelsabc.py'>,\n",
       " 'jupyter_client.clientabc': <module 'jupyter_client.clientabc' from '/usr/lib/python3/dist-packages/jupyter_client/clientabc.py'>,\n",
       " 'jupyter_client.manager': <module 'jupyter_client.manager' from '/usr/lib/python3/dist-packages/jupyter_client/manager.py'>,\n",
       " 'jupyter_client.kernelspec': <module 'jupyter_client.kernelspec' from '/usr/lib/python3/dist-packages/jupyter_client/kernelspec.py'>,\n",
       " 'jupyter_client.managerabc': <module 'jupyter_client.managerabc' from '/usr/lib/python3/dist-packages/jupyter_client/managerabc.py'>,\n",
       " 'jupyter_client.blocking': <module 'jupyter_client.blocking' from '/usr/lib/python3/dist-packages/jupyter_client/blocking/__init__.py'>,\n",
       " 'jupyter_client.blocking.client': <module 'jupyter_client.blocking.client' from '/usr/lib/python3/dist-packages/jupyter_client/blocking/client.py'>,\n",
       " 'queue': <module 'queue' from '/usr/lib/python3.7/queue.py'>,\n",
       " '_queue': <module '_queue' from '/usr/lib/python3.7/lib-dynload/_queue.cpython-37m-x86_64-linux-gnu.so'>,\n",
       " 'jupyter_client.blocking.channels': <module 'jupyter_client.blocking.channels' from '/usr/lib/python3/dist-packages/jupyter_client/blocking/channels.py'>,\n",
       " 'jupyter_client.multikernelmanager': <module 'jupyter_client.multikernelmanager' from '/usr/lib/python3/dist-packages/jupyter_client/multikernelmanager.py'>,\n",
       " 'uuid': <module 'uuid' from '/usr/lib/python3.7/uuid.py'>,\n",
       " '_uuid': <module '_uuid' from '/usr/lib/python3.7/lib-dynload/_uuid.cpython-37m-x86_64-linux-gnu.so'>,\n",
       " 'ipykernel.kernelapp': <module 'ipykernel.kernelapp' from '/usr/lib/python3/dist-packages/ipykernel/kernelapp.py'>,\n",
       " 'tornado': <module 'tornado' from '/usr/lib/python3/dist-packages/tornado/__init__.py'>,\n",
       " 'tornado.ioloop': <module 'tornado.ioloop' from '/usr/lib/python3/dist-packages/tornado/ioloop.py'>,\n",
       " 'numbers': <module 'numbers' from '/usr/lib/python3.7/numbers.py'>,\n",
       " 'tornado.concurrent': <module 'tornado.concurrent' from '/usr/lib/python3/dist-packages/tornado/concurrent.py'>,\n",
       " 'tornado.log': <module 'tornado.log' from '/usr/lib/python3/dist-packages/tornado/log.py'>,\n",
       " 'logging.handlers': <module 'logging.handlers' from '/usr/lib/python3.7/logging/handlers.py'>,\n",
       " 'tornado.escape': <module 'tornado.escape' from '/usr/lib/python3/dist-packages/tornado/escape.py'>,\n",
       " 'tornado.util': <module 'tornado.util' from '/usr/lib/python3/dist-packages/tornado/util.py'>,\n",
       " 'typing': <module 'typing' from '/usr/lib/python3.7/typing.py'>,\n",
       " 'typing.io': typing.io,\n",
       " 'typing.re': typing.re,\n",
       " 'tornado.speedups': <module 'tornado.speedups' from '/usr/lib/python3/dist-packages/tornado/speedups.cpython-37m-x86_64-linux-gnu.so'>,\n",
       " 'html': <module 'html' from '/usr/lib/python3.7/html/__init__.py'>,\n",
       " 'html.entities': <module 'html.entities' from '/usr/lib/python3.7/html/entities.py'>,\n",
       " 'curses': <module 'curses' from '/usr/lib/python3.7/curses/__init__.py'>,\n",
       " '_curses': <module '_curses' from '/usr/lib/python3.7/lib-dynload/_curses.cpython-37m-x86_64-linux-gnu.so'>,\n",
       " 'tornado.stack_context': <module 'tornado.stack_context' from '/usr/lib/python3/dist-packages/tornado/stack_context.py'>,\n",
       " 'concurrent': <module 'concurrent' from '/usr/lib/python3.7/concurrent/__init__.py'>,\n",
       " 'concurrent.futures': <module 'concurrent.futures' from '/usr/lib/python3.7/concurrent/futures/__init__.py'>,\n",
       " 'concurrent.futures._base': <module 'concurrent.futures._base' from '/usr/lib/python3.7/concurrent/futures/_base.py'>,\n",
       " 'asyncio': <module 'asyncio' from '/usr/lib/python3.7/asyncio/__init__.py'>,\n",
       " 'asyncio.base_events': <module 'asyncio.base_events' from '/usr/lib/python3.7/asyncio/base_events.py'>,\n",
       " 'ssl': <module 'ssl' from '/usr/lib/python3.7/ssl.py'>,\n",
       " '_ssl': <module '_ssl' from '/usr/lib/python3.7/lib-dynload/_ssl.cpython-37m-x86_64-linux-gnu.so'>,\n",
       " 'asyncio.constants': <module 'asyncio.constants' from '/usr/lib/python3.7/asyncio/constants.py'>,\n",
       " 'asyncio.coroutines': <module 'asyncio.coroutines' from '/usr/lib/python3.7/asyncio/coroutines.py'>,\n",
       " 'asyncio.base_futures': <module 'asyncio.base_futures' from '/usr/lib/python3.7/asyncio/base_futures.py'>,\n",
       " 'asyncio.format_helpers': <module 'asyncio.format_helpers' from '/usr/lib/python3.7/asyncio/format_helpers.py'>,\n",
       " 'asyncio.log': <module 'asyncio.log' from '/usr/lib/python3.7/asyncio/log.py'>,\n",
       " 'asyncio.events': <module 'asyncio.events' from '/usr/lib/python3.7/asyncio/events.py'>,\n",
       " 'contextvars': <module 'contextvars' from '/usr/lib/python3.7/contextvars.py'>,\n",
       " '_contextvars': <module '_contextvars' from '/usr/lib/python3.7/lib-dynload/_contextvars.cpython-37m-x86_64-linux-gnu.so'>,\n",
       " 'asyncio.base_tasks': <module 'asyncio.base_tasks' from '/usr/lib/python3.7/asyncio/base_tasks.py'>,\n",
       " '_asyncio': <module '_asyncio' from '/usr/lib/python3.7/lib-dynload/_asyncio.cpython-37m-x86_64-linux-gnu.so'>,\n",
       " 'asyncio.futures': <module 'asyncio.futures' from '/usr/lib/python3.7/asyncio/futures.py'>,\n",
       " 'asyncio.protocols': <module 'asyncio.protocols' from '/usr/lib/python3.7/asyncio/protocols.py'>,\n",
       " 'asyncio.sslproto': <module 'asyncio.sslproto' from '/usr/lib/python3.7/asyncio/sslproto.py'>,\n",
       " 'asyncio.transports': <module 'asyncio.transports' from '/usr/lib/python3.7/asyncio/transports.py'>,\n",
       " 'asyncio.tasks': <module 'asyncio.tasks' from '/usr/lib/python3.7/asyncio/tasks.py'>,\n",
       " 'asyncio.locks': <module 'asyncio.locks' from '/usr/lib/python3.7/asyncio/locks.py'>,\n",
       " 'asyncio.runners': <module 'asyncio.runners' from '/usr/lib/python3.7/asyncio/runners.py'>,\n",
       " 'asyncio.queues': <module 'asyncio.queues' from '/usr/lib/python3.7/asyncio/queues.py'>,\n",
       " 'asyncio.streams': <module 'asyncio.streams' from '/usr/lib/python3.7/asyncio/streams.py'>,\n",
       " 'asyncio.subprocess': <module 'asyncio.subprocess' from '/usr/lib/python3.7/asyncio/subprocess.py'>,\n",
       " 'asyncio.unix_events': <module 'asyncio.unix_events' from '/usr/lib/python3.7/asyncio/unix_events.py'>,\n",
       " 'asyncio.base_subprocess': <module 'asyncio.base_subprocess' from '/usr/lib/python3.7/asyncio/base_subprocess.py'>,\n",
       " 'asyncio.selector_events': <module 'asyncio.selector_events' from '/usr/lib/python3.7/asyncio/selector_events.py'>,\n",
       " 'tornado.platform': <module 'tornado.platform' from '/usr/lib/python3/dist-packages/tornado/platform/__init__.py'>,\n",
       " 'tornado.platform.auto': <module 'tornado.platform.auto' from '/usr/lib/python3/dist-packages/tornado/platform/auto.py'>,\n",
       " 'tornado.platform.posix': <module 'tornado.platform.posix' from '/usr/lib/python3/dist-packages/tornado/platform/posix.py'>,\n",
       " 'tornado.platform.common': <module 'tornado.platform.common' from '/usr/lib/python3/dist-packages/tornado/platform/common.py'>,\n",
       " 'tornado.platform.interface': <module 'tornado.platform.interface' from '/usr/lib/python3/dist-packages/tornado/platform/interface.py'>,\n",
       " 'concurrent.futures.thread': <module 'concurrent.futures.thread' from '/usr/lib/python3.7/concurrent/futures/thread.py'>,\n",
       " 'zmq.eventloop': <module 'zmq.eventloop' from '/usr/lib/python3/dist-packages/zmq/eventloop/__init__.py'>,\n",
       " 'zmq.eventloop.ioloop': <module 'zmq.eventloop.ioloop' from '/usr/lib/python3/dist-packages/zmq/eventloop/ioloop.py'>,\n",
       " 'tornado.platform.asyncio': <module 'tornado.platform.asyncio' from '/usr/lib/python3/dist-packages/tornado/platform/asyncio.py'>,\n",
       " 'tornado.gen': <module 'tornado.gen' from '/usr/lib/python3/dist-packages/tornado/gen.py'>,\n",
       " 'zmq.eventloop.zmqstream': <module 'zmq.eventloop.zmqstream' from '/usr/lib/python3/dist-packages/zmq/eventloop/zmqstream.py'>,\n",
       " 'ipykernel.iostream': <module 'ipykernel.iostream' from '/usr/lib/python3/dist-packages/ipykernel/iostream.py'>,\n",
       " 'jupyter_client.session': <module 'jupyter_client.session' from '/usr/lib/python3/dist-packages/jupyter_client/session.py'>,\n",
       " 'hmac': <module 'hmac' from '/usr/lib/python3.7/hmac.py'>,\n",
       " 'jupyter_client.jsonutil': <module 'jupyter_client.jsonutil' from '/usr/lib/python3/dist-packages/jupyter_client/jsonutil.py'>,\n",
       " 'dateutil': <module 'dateutil' from '/usr/lib/python3/dist-packages/dateutil/__init__.py'>,\n",
       " 'dateutil._version': <module 'dateutil._version' from '/usr/lib/python3/dist-packages/dateutil/_version.py'>,\n",
       " 'dateutil.parser': <module 'dateutil.parser' from '/usr/lib/python3/dist-packages/dateutil/parser/__init__.py'>,\n",
       " 'dateutil.parser._parser': <module 'dateutil.parser._parser' from '/usr/lib/python3/dist-packages/dateutil/parser/_parser.py'>,\n",
       " 'calendar': <module 'calendar' from '/usr/lib/python3.7/calendar.py'>,\n",
       " 'decimal': <module 'decimal' from '/usr/lib/python3.7/decimal.py'>,\n",
       " '_decimal': <module '_decimal' from '/usr/lib/python3.7/lib-dynload/_decimal.cpython-37m-x86_64-linux-gnu.so'>,\n",
       " 'dateutil.relativedelta': <module 'dateutil.relativedelta' from '/usr/lib/python3/dist-packages/dateutil/relativedelta.py'>,\n",
       " 'dateutil._common': <module 'dateutil._common' from '/usr/lib/python3/dist-packages/dateutil/_common.py'>,\n",
       " 'dateutil.tz': <module 'dateutil.tz' from '/usr/lib/python3/dist-packages/dateutil/tz/__init__.py'>,\n",
       " 'dateutil.tz.tz': <module 'dateutil.tz.tz' from '/usr/lib/python3/dist-packages/dateutil/tz/tz.py'>,\n",
       " 'dateutil.tz._common': <module 'dateutil.tz._common' from '/usr/lib/python3/dist-packages/dateutil/tz/_common.py'>,\n",
       " 'dateutil.tz._factories': <module 'dateutil.tz._factories' from '/usr/lib/python3/dist-packages/dateutil/tz/_factories.py'>,\n",
       " 'dateutil.parser.isoparser': <module 'dateutil.parser.isoparser' from '/usr/lib/python3/dist-packages/dateutil/parser/isoparser.py'>,\n",
       " '_strptime': <module '_strptime' from '/usr/lib/python3.7/_strptime.py'>,\n",
       " 'jupyter_client.adapter': <module 'jupyter_client.adapter' from '/usr/lib/python3/dist-packages/jupyter_client/adapter.py'>,\n",
       " 'ipykernel.heartbeat': <module 'ipykernel.heartbeat' from '/usr/lib/python3/dist-packages/ipykernel/heartbeat.py'>,\n",
       " 'ipykernel.ipkernel': <module 'ipykernel.ipkernel' from '/usr/lib/python3/dist-packages/ipykernel/ipkernel.py'>,\n",
       " 'IPython.utils.tokenutil': <module 'IPython.utils.tokenutil' from '/usr/lib/python3/dist-packages/IPython/utils/tokenutil.py'>,\n",
       " 'ipykernel.comm': <module 'ipykernel.comm' from '/usr/lib/python3/dist-packages/ipykernel/comm/__init__.py'>,\n",
       " 'ipykernel.comm.manager': <module 'ipykernel.comm.manager' from '/usr/lib/python3/dist-packages/ipykernel/comm/manager.py'>,\n",
       " 'ipykernel.comm.comm': <module 'ipykernel.comm.comm' from '/usr/lib/python3/dist-packages/ipykernel/comm/comm.py'>,\n",
       " 'ipykernel.kernelbase': <module 'ipykernel.kernelbase' from '/usr/lib/python3/dist-packages/ipykernel/kernelbase.py'>,\n",
       " 'ipykernel.jsonutil': <module 'ipykernel.jsonutil' from '/usr/lib/python3/dist-packages/ipykernel/jsonutil.py'>,\n",
       " 'ipykernel.zmqshell': <module 'ipykernel.zmqshell' from '/usr/lib/python3/dist-packages/ipykernel/zmqshell.py'>,\n",
       " 'IPython.core.payloadpage': <module 'IPython.core.payloadpage' from '/usr/lib/python3/dist-packages/IPython/core/payloadpage.py'>,\n",
       " 'ipykernel.displayhook': <module 'ipykernel.displayhook' from '/usr/lib/python3/dist-packages/ipykernel/displayhook.py'>,\n",
       " 'ipykernel.parentpoller': <module 'ipykernel.parentpoller' from '/usr/lib/python3/dist-packages/ipykernel/parentpoller.py'>,\n",
       " 'netifaces': <module 'netifaces' from '/usr/lib/python3/dist-packages/netifaces.cpython-37m-x86_64-linux-gnu.so'>,\n",
       " 'faulthandler': <module 'faulthandler' (built-in)>,\n",
       " 'ipykernel.datapub': <module 'ipykernel.datapub' from '/usr/lib/python3/dist-packages/ipykernel/datapub.py'>,\n",
       " 'ipykernel.serialize': <module 'ipykernel.serialize' from '/usr/lib/python3/dist-packages/ipykernel/serialize.py'>,\n",
       " 'ipykernel.pickleutil': <module 'ipykernel.pickleutil' from '/usr/lib/python3/dist-packages/ipykernel/pickleutil.py'>,\n",
       " 'ipykernel.codeutil': <module 'ipykernel.codeutil' from '/usr/lib/python3/dist-packages/ipykernel/codeutil.py'>,\n",
       " 'IPython.lib.deepreload': <module 'IPython.lib.deepreload' from '/usr/lib/python3/dist-packages/IPython/lib/deepreload.py'>,\n",
       " 'IPython.core.completerlib': <module 'IPython.core.completerlib' from '/usr/lib/python3/dist-packages/IPython/core/completerlib.py'>,\n",
       " 'storemagic': <module 'storemagic' from '/usr/lib/python3/dist-packages/IPython/extensions/storemagic.py'>,\n",
       " 'ipywidgets': <module 'ipywidgets' from '/usr/lib/python3/dist-packages/ipywidgets/__init__.py'>,\n",
       " 'ipywidgets._version': <module 'ipywidgets._version' from '/usr/lib/python3/dist-packages/ipywidgets/_version.py'>,\n",
       " 'ipywidgets.widgets': <module 'ipywidgets.widgets' from '/usr/lib/python3/dist-packages/ipywidgets/widgets/__init__.py'>,\n",
       " 'ipywidgets.widgets.widget': <module 'ipywidgets.widgets.widget' from '/usr/lib/python3/dist-packages/ipywidgets/widgets/widget.py'>,\n",
       " 'ipywidgets.widgets.domwidget': <module 'ipywidgets.widgets.domwidget' from '/usr/lib/python3/dist-packages/ipywidgets/widgets/domwidget.py'>,\n",
       " 'ipywidgets.widgets.trait_types': <module 'ipywidgets.widgets.trait_types' from '/usr/lib/python3/dist-packages/ipywidgets/widgets/trait_types.py'>,\n",
       " 'ipywidgets.widgets.widget_layout': <module 'ipywidgets.widgets.widget_layout' from '/usr/lib/python3/dist-packages/ipywidgets/widgets/widget_layout.py'>,\n",
       " 'ipywidgets.widgets.widget_core': <module 'ipywidgets.widgets.widget_core' from '/usr/lib/python3/dist-packages/ipywidgets/widgets/widget_core.py'>,\n",
       " 'ipywidgets.widgets.valuewidget': <module 'ipywidgets.widgets.valuewidget' from '/usr/lib/python3/dist-packages/ipywidgets/widgets/valuewidget.py'>,\n",
       " 'ipywidgets.widgets.widget_bool': <module 'ipywidgets.widgets.widget_bool' from '/usr/lib/python3/dist-packages/ipywidgets/widgets/widget_bool.py'>,\n",
       " 'ipywidgets.widgets.widget_button': <module 'ipywidgets.widgets.widget_button' from '/usr/lib/python3/dist-packages/ipywidgets/widgets/widget_button.py'>,\n",
       " 'ipywidgets.widgets.widget_style': <module 'ipywidgets.widgets.widget_style' from '/usr/lib/python3/dist-packages/ipywidgets/widgets/widget_style.py'>,\n",
       " 'ipywidgets.widgets.widget_box': <module 'ipywidgets.widgets.widget_box' from '/usr/lib/python3/dist-packages/ipywidgets/widgets/widget_box.py'>,\n",
       " 'ipywidgets.widgets.widget_float': <module 'ipywidgets.widgets.widget_float' from '/usr/lib/python3/dist-packages/ipywidgets/widgets/widget_float.py'>,\n",
       " 'ipywidgets.widgets.widget_image': <module 'ipywidgets.widgets.widget_image' from '/usr/lib/python3/dist-packages/ipywidgets/widgets/widget_image.py'>,\n",
       " 'ipywidgets.widgets.widget_int': <module 'ipywidgets.widgets.widget_int' from '/usr/lib/python3/dist-packages/ipywidgets/widgets/widget_int.py'>,\n",
       " 'ipywidgets.widgets.widget_color': <module 'ipywidgets.widgets.widget_color' from '/usr/lib/python3/dist-packages/ipywidgets/widgets/widget_color.py'>,\n",
       " 'ipywidgets.widgets.widget_date': <module 'ipywidgets.widgets.widget_date' from '/usr/lib/python3/dist-packages/ipywidgets/widgets/widget_date.py'>,\n",
       " 'ipywidgets.widgets.widget_output': <module 'ipywidgets.widgets.widget_output' from '/usr/lib/python3/dist-packages/ipywidgets/widgets/widget_output.py'>,\n",
       " 'ipywidgets.widgets.widget_selection': <module 'ipywidgets.widgets.widget_selection' from '/usr/lib/python3/dist-packages/ipywidgets/widgets/widget_selection.py'>,\n",
       " 'ipywidgets.widgets.widget_selectioncontainer': <module 'ipywidgets.widgets.widget_selectioncontainer' from '/usr/lib/python3/dist-packages/ipywidgets/widgets/widget_selectioncontainer.py'>,\n",
       " 'ipywidgets.widgets.widget_string': <module 'ipywidgets.widgets.widget_string' from '/usr/lib/python3/dist-packages/ipywidgets/widgets/widget_string.py'>,\n",
       " 'ipywidgets.widgets.widget_controller': <module 'ipywidgets.widgets.widget_controller' from '/usr/lib/python3/dist-packages/ipywidgets/widgets/widget_controller.py'>,\n",
       " 'ipywidgets.widgets.interaction': <module 'ipywidgets.widgets.interaction' from '/usr/lib/python3/dist-packages/ipywidgets/widgets/interaction.py'>,\n",
       " 'ipywidgets.widgets.widget_link': <module 'ipywidgets.widgets.widget_link' from '/usr/lib/python3/dist-packages/ipywidgets/widgets/widget_link.py'>}"
      ]
     },
     "execution_count": 13,
     "metadata": {},
     "output_type": "execute_result"
    }
   ],
   "source": [
    "sys.modules"
   ]
  },
  {
   "cell_type": "code",
   "execution_count": 14,
   "metadata": {},
   "outputs": [
    {
     "ename": "NameError",
     "evalue": "name 'math' is not defined",
     "output_type": "error",
     "traceback": [
      "\u001b[0;31m---------------------------------------------------------------------------\u001b[0m",
      "\u001b[0;31mNameError\u001b[0m                                 Traceback (most recent call last)",
      "\u001b[0;32m<ipython-input-14-56767e94645c>\u001b[0m in \u001b[0;36m<module>\u001b[0;34m()\u001b[0m\n\u001b[0;32m----> 1\u001b[0;31m \u001b[0mmath\u001b[0m \u001b[0;32min\u001b[0m \u001b[0msys\u001b[0m\u001b[0;34m.\u001b[0m\u001b[0mmodules\u001b[0m\u001b[0;34m\u001b[0m\u001b[0;34m\u001b[0m\u001b[0m\n\u001b[0m",
      "\u001b[0;31mNameError\u001b[0m: name 'math' is not defined"
     ]
    }
   ],
   "source": [
    "math in sys.modules"
   ]
  },
  {
   "cell_type": "code",
   "execution_count": 16,
   "metadata": {},
   "outputs": [
    {
     "data": {
      "text/plain": [
       "False"
      ]
     },
     "execution_count": 16,
     "metadata": {},
     "output_type": "execute_result"
    }
   ],
   "source": [
    "m in sys.modules"
   ]
  },
  {
   "cell_type": "code",
   "execution_count": 17,
   "metadata": {},
   "outputs": [
    {
     "data": {
      "text/plain": [
       "False"
      ]
     },
     "execution_count": 17,
     "metadata": {},
     "output_type": "execute_result"
    }
   ],
   "source": [
    "m in globals()"
   ]
  },
  {
   "cell_type": "code",
   "execution_count": 18,
   "metadata": {},
   "outputs": [
    {
     "data": {
      "text/plain": [
       "1.4142135623730951"
      ]
     },
     "execution_count": 18,
     "metadata": {},
     "output_type": "execute_result"
    }
   ],
   "source": [
    "m.sqrt(2)"
   ]
  },
  {
   "cell_type": "code",
   "execution_count": 21,
   "metadata": {},
   "outputs": [
    {
     "data": {
      "text/plain": [
       "<module 'math' (built-in)>"
      ]
     },
     "execution_count": 21,
     "metadata": {},
     "output_type": "execute_result"
    }
   ],
   "source": [
    "importlib.import_module('math')"
   ]
  },
  {
   "cell_type": "code",
   "execution_count": 23,
   "metadata": {},
   "outputs": [
    {
     "data": {
      "text/plain": [
       "True"
      ]
     },
     "execution_count": 23,
     "metadata": {},
     "output_type": "execute_result"
    }
   ],
   "source": [
    "'math' in sys.modules"
   ]
  },
  {
   "cell_type": "code",
   "execution_count": 29,
   "metadata": {},
   "outputs": [
    {
     "data": {
      "text/plain": [
       "False"
      ]
     },
     "execution_count": 29,
     "metadata": {},
     "output_type": "execute_result"
    }
   ],
   "source": [
    "'math' in globals()"
   ]
  },
  {
   "cell_type": "code",
   "execution_count": 30,
   "metadata": {},
   "outputs": [],
   "source": [
    "math2 = importlib.import_module('math')"
   ]
  },
  {
   "cell_type": "code",
   "execution_count": 31,
   "metadata": {},
   "outputs": [
    {
     "data": {
      "text/plain": [
       "True"
      ]
     },
     "execution_count": 31,
     "metadata": {},
     "output_type": "execute_result"
    }
   ],
   "source": [
    "'math2' in globals()"
   ]
  },
  {
   "cell_type": "code",
   "execution_count": 35,
   "metadata": {},
   "outputs": [
    {
     "data": {
      "text/plain": [
       "140638902224280"
      ]
     },
     "execution_count": 35,
     "metadata": {},
     "output_type": "execute_result"
    }
   ],
   "source": [
    "id(sys.modules['math'])"
   ]
  },
  {
   "cell_type": "code",
   "execution_count": 36,
   "metadata": {},
   "outputs": [
    {
     "data": {
      "text/plain": [
       "<module 'importlib' from '/usr/lib/python3.7/importlib/__init__.py'>"
      ]
     },
     "execution_count": 36,
     "metadata": {},
     "output_type": "execute_result"
    }
   ],
   "source": [
    "importlib"
   ]
  },
  {
   "cell_type": "code",
   "execution_count": 37,
   "metadata": {},
   "outputs": [],
   "source": [
    "fr = importlib.import_module('fractions')"
   ]
  },
  {
   "cell_type": "code",
   "execution_count": 38,
   "metadata": {},
   "outputs": [
    {
     "data": {
      "text/plain": [
       "<module 'fractions' from '/usr/lib/python3.7/fractions.py'>"
      ]
     },
     "execution_count": 38,
     "metadata": {},
     "output_type": "execute_result"
    }
   ],
   "source": [
    "fr"
   ]
  },
  {
   "cell_type": "code",
   "execution_count": null,
   "metadata": {},
   "outputs": [],
   "source": []
  }
 ],
 "metadata": {
  "kernelspec": {
   "display_name": "Python 3",
   "language": "python",
   "name": "python3"
  },
  "language_info": {
   "codemirror_mode": {
    "name": "ipython",
    "version": 3
   },
   "file_extension": ".py",
   "mimetype": "text/x-python",
   "name": "python",
   "nbconvert_exporter": "python",
   "pygments_lexer": "ipython3",
   "version": "3.7.3"
  }
 },
 "nbformat": 4,
 "nbformat_minor": 2
}
