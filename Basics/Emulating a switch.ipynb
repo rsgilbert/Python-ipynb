{
 "cells": [
  {
   "cell_type": "code",
   "execution_count": 1,
   "metadata": {},
   "outputs": [],
   "source": [
    "# Emulating a switch\n",
    "# PEP 3103"
   ]
  },
  {
   "cell_type": "code",
   "execution_count": 2,
   "metadata": {},
   "outputs": [],
   "source": [
    "def switch_fn1(weekday):\n",
    "    if weekday == 1:\n",
    "        fn = lambda: print(\"Monday\")\n",
    "    elif weekday == 2:\n",
    "        fn = lambda : print(\"Tuesday\")\n",
    "    else:\n",
    "        fn = lambda : print(\"Weekend\")\n",
    "    return fn()"
   ]
  },
  {
   "cell_type": "code",
   "execution_count": 3,
   "metadata": {},
   "outputs": [
    {
     "name": "stdout",
     "output_type": "stream",
     "text": [
      "Tuesday\n"
     ]
    }
   ],
   "source": [
    "switch_fn1(2)"
   ]
  },
  {
   "cell_type": "code",
   "execution_count": 4,
   "metadata": {},
   "outputs": [
    {
     "name": "stdout",
     "output_type": "stream",
     "text": [
      "Weekend\n"
     ]
    }
   ],
   "source": [
    "switch_fn1(8)"
   ]
  },
  {
   "cell_type": "code",
   "execution_count": 39,
   "metadata": {},
   "outputs": [],
   "source": [
    "# using a dictionary to emulate switch\n",
    "def switch_dict(day):\n",
    "    days_dict = {\n",
    "        1: lambda: print(\"Monday\"),\n",
    "        2: lambda: print(\"Tuesday\"),\n",
    "        3: lambda: print(8),\n",
    "        'default': lambda: print(\"Wrong day\")\n",
    "    }  \n",
    "    return days_dict.get(day, days_dict[\"default\"])()"
   ]
  },
  {
   "cell_type": "code",
   "execution_count": 40,
   "metadata": {},
   "outputs": [
    {
     "name": "stdout",
     "output_type": "stream",
     "text": [
      "Wrong day\n"
     ]
    }
   ],
   "source": [
    "switch_dict(12)"
   ]
  },
  {
   "cell_type": "code",
   "execution_count": 42,
   "metadata": {},
   "outputs": [],
   "source": [
    "# 3rd option, modified single dispatch"
   ]
  },
  {
   "cell_type": "code",
   "execution_count": 53,
   "metadata": {},
   "outputs": [],
   "source": [
    "def switcher_dispatch(fun):\n",
    "    registry = dict()\n",
    "    registry['default'] = fun\n",
    "    \n",
    "    def register(case):\n",
    "        def inner(fun):\n",
    "            registry[case] = fun\n",
    "            return fun\n",
    "        return inner\n",
    "    \n",
    "    def decorator(case):\n",
    "        fun = registry.get(case, registry['default'])\n",
    "        return fun()\n",
    "    \n",
    "    decorator.register = register # monkey punching decorator fn\n",
    "    return decorator\n",
    "        "
   ]
  },
  {
   "cell_type": "code",
   "execution_count": 54,
   "metadata": {},
   "outputs": [],
   "source": [
    "@switcher_dispatch\n",
    "def day_of_week():\n",
    "    return Invalid day of week\""
   ]
  },
  {
   "cell_type": "code",
   "execution_count": 55,
   "metadata": {},
   "outputs": [],
   "source": [
    "@day_of_week.register(1)\n",
    "def _():\n",
    "    return \"Monday\""
   ]
  },
  {
   "cell_type": "code",
   "execution_count": 108,
   "metadata": {},
   "outputs": [
    {
     "data": {
      "text/plain": [
       "<function __main__.<lambda>>"
      ]
     },
     "execution_count": 108,
     "metadata": {},
     "output_type": "execute_result"
    }
   ],
   "source": [
    "day_of_week.register(2)(lambda: \"Tuesday\")\n",
    "day_of_week.register(3)(lambda: \"Wednesday\")\n",
    "day_of_week.register(2)(lambda: \"Thursday\")"
   ]
  },
  {
   "cell_type": "code",
   "execution_count": 110,
   "metadata": {},
   "outputs": [
    {
     "name": "stdout",
     "output_type": "stream",
     "text": [
      "Invalid day of week\n"
     ]
    }
   ],
   "source": [
    "day_of_week(5)"
   ]
  },
  {
   "cell_type": "code",
   "execution_count": null,
   "metadata": {},
   "outputs": [],
   "source": []
  },
  {
   "cell_type": "code",
   "execution_count": null,
   "metadata": {},
   "outputs": [],
   "source": []
  },
  {
   "cell_type": "code",
   "execution_count": null,
   "metadata": {},
   "outputs": [],
   "source": []
  },
  {
   "cell_type": "code",
   "execution_count": 68,
   "metadata": {},
   "outputs": [
    {
     "name": "stdout",
     "output_type": "stream",
     "text": [
      "['my', ' n', 'am', 'e ', 'is', ' I', ' d', 'on', 't ', 'ha', 've', ' a', ' p', 'as', 'sw', 'or']\n"
     ]
    }
   ],
   "source": [
    "string = 'my name is I dont have a password'\n",
    "my_list = [map(lambda )]\n",
    "\n",
    "for i in range(0, len(string)-1, 2):\n",
    "    my_list.append(string[i] + string[i+1])\n",
    "print(my_list)"
   ]
  },
  {
   "cell_type": "code",
   "execution_count": 98,
   "metadata": {},
   "outputs": [
    {
     "name": "stdout",
     "output_type": "stream",
     "text": [
      "['my', 'y ', ' n', 'na', 'am', 'me', 'e ', ' i', 'is', 's ', ' I', 'I ', ' d', 'do', 'on', 'nt', 't ', ' h', 'ha', 'av', 've', 'e ', ' a', 'a ', ' p', 'pa', 'as', 'ss', 'sw', 'wo', 'or', 'rd']\n"
     ]
    }
   ],
   "source": [
    "string = 'my name is I dont have a password'\n",
    "print(list(i + j for i, j in zip(string, string[1:])))"
   ]
  },
  {
   "cell_type": "code",
   "execution_count": 105,
   "metadata": {},
   "outputs": [
    {
     "name": "stdout",
     "output_type": "stream",
     "text": [
      "['my', 'y ', ' n', 'na', 'am', 'me', 'e ', ' i', 'is', 's ', ' I', 'I ', ' d', 'do', 'on', 'nt', 't ', ' h', 'ha', 'av', 've', 'e ', ' a', 'a ', ' p', 'pa', 'as', 'ss', 'sw', 'wo', 'or', 'rd']\n"
     ]
    }
   ],
   "source": [
    "print(list(map(lambda x, y: x + y, string, string[1:])))"
   ]
  },
  {
   "cell_type": "code",
   "execution_count": null,
   "metadata": {},
   "outputs": [],
   "source": []
  },
  {
   "cell_type": "code",
   "execution_count": null,
   "metadata": {},
   "outputs": [],
   "source": []
  }
 ],
 "metadata": {
  "kernelspec": {
   "display_name": "Python 3",
   "language": "python",
   "name": "python3"
  },
  "language_info": {
   "codemirror_mode": {
    "name": "ipython",
    "version": 3
   },
   "file_extension": ".py",
   "mimetype": "text/x-python",
   "name": "python",
   "nbconvert_exporter": "python",
   "pygments_lexer": "ipython3",
   "version": "3.7.3"
  }
 },
 "nbformat": 4,
 "nbformat_minor": 2
}
