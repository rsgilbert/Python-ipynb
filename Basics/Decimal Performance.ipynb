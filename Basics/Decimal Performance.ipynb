{
 "cells": [
  {
   "cell_type": "code",
   "execution_count": 2,
   "metadata": {},
   "outputs": [],
   "source": [
    "import decimal, sys"
   ]
  },
  {
   "cell_type": "code",
   "execution_count": 3,
   "metadata": {},
   "outputs": [],
   "source": [
    "i = 23\n",
    "f = 23.8\n",
    "d = decimal.Decimal('23.8')"
   ]
  },
  {
   "cell_type": "code",
   "execution_count": 4,
   "metadata": {},
   "outputs": [
    {
     "data": {
      "text/plain": [
       "28"
      ]
     },
     "execution_count": 4,
     "metadata": {},
     "output_type": "execute_result"
    }
   ],
   "source": [
    "sys.getsizeof(i)"
   ]
  },
  {
   "cell_type": "code",
   "execution_count": 5,
   "metadata": {},
   "outputs": [
    {
     "data": {
      "text/plain": [
       "24"
      ]
     },
     "execution_count": 5,
     "metadata": {},
     "output_type": "execute_result"
    }
   ],
   "source": [
    "sys.getsizeof(f)"
   ]
  },
  {
   "cell_type": "code",
   "execution_count": 6,
   "metadata": {},
   "outputs": [
    {
     "data": {
      "text/plain": [
       "104"
      ]
     },
     "execution_count": 6,
     "metadata": {},
     "output_type": "execute_result"
    }
   ],
   "source": [
    "sys.getsizeof(d) # lot of memory overhead"
   ]
  },
  {
   "cell_type": "code",
   "execution_count": 29,
   "metadata": {},
   "outputs": [
    {
     "name": "stdout",
     "output_type": "stream",
     "text": [
      "0.08674029700000574\n"
     ]
    }
   ],
   "source": [
    "# speed of creating decimals\n",
    "import time\n",
    "start = time.perf_counter()\n",
    "for i in range(100 * 1000):\n",
    "    d = decimal.Decimal('23')\n",
    "    d = d * d\n",
    "    \n",
    "stop = time.perf_counter()\n",
    "print(stop - start)"
   ]
  },
  {
   "cell_type": "code",
   "execution_count": 28,
   "metadata": {},
   "outputs": [
    {
     "name": "stdout",
     "output_type": "stream",
     "text": [
      "0.06919176400015203\n"
     ]
    }
   ],
   "source": [
    "# speed of creating floats\n",
    "import time\n",
    "start = time.perf_counter()\n",
    "for i in range(100 * 1000):\n",
    "    f = decimal.Decimal('23')\n",
    "    f = f * f\n",
    "stop = time.perf_counter()\n",
    "print(stop - start)"
   ]
  },
  {
   "cell_type": "code",
   "execution_count": 32,
   "metadata": {},
   "outputs": [
    {
     "name": "stdout",
     "output_type": "stream",
     "text": [
      "0.06925493299991103\n"
     ]
    }
   ],
   "source": [
    "# speed of creating ints\n",
    "import time\n",
    "start = time.perf_counter()\n",
    "for i in range(100 * 1000):\n",
    "    integer = int('23')\n",
    "    integer = integer * integer\n",
    "stop = time.perf_counter()\n",
    "print(stop - start)"
   ]
  },
  {
   "cell_type": "code",
   "execution_count": 33,
   "metadata": {},
   "outputs": [
    {
     "name": "stdout",
     "output_type": "stream",
     "text": [
      "0.9149761099999978\n"
     ]
    }
   ],
   "source": [
    "# speed of creating fractions\n",
    "import time, fractions\n",
    "start = time.perf_counter()\n",
    "for i in range(1000 * 100):\n",
    "    frac = fractions.Fraction('23')\n",
    "    frac = frac * frac\n",
    "stop = time.perf_counter()\n",
    "print(stop - start)"
   ]
  },
  {
   "cell_type": "code",
   "execution_count": 34,
   "metadata": {},
   "outputs": [],
   "source": [
    "# speed is as follows, \n",
    "# smallest -> greatest\n",
    "# int -> float -> Decimal -> Fraction"
   ]
  },
  {
   "cell_type": "code",
   "execution_count": 39,
   "metadata": {},
   "outputs": [
    {
     "name": "stdout",
     "output_type": "stream",
     "text": [
      "Decimal speed:  0.659471012999802\n"
     ]
    }
   ],
   "source": [
    "# speed of decimal module functions \n",
    "import math\n",
    "d = decimal.Decimal('23')\n",
    "\n",
    "import time\n",
    "start = time.perf_counter()\n",
    "for i in range(100 * 1000):\n",
    "    d = d.sqrt()\n",
    "    \n",
    "stop = time.perf_counter()\n",
    "print(\"Decimal speed: \", stop - start)"
   ]
  },
  {
   "cell_type": "code",
   "execution_count": 51,
   "metadata": {},
   "outputs": [
    {
     "name": "stdout",
     "output_type": "stream",
     "text": [
      "Decimal speed:  0.10362023600009707\n"
     ]
    }
   ],
   "source": [
    "# speed of math module functions\n",
    "import math\n",
    "\n",
    "\n",
    "import time\n",
    "start = time.perf_counter()\n",
    "for i in range(100 * 1000):\n",
    "    math.sqrt(decimal.Decimal('23'))\n",
    "    \n",
    "stop = time.perf_counter()\n",
    "print(\"Decimal speed: \", stop - start)"
   ]
  },
  {
   "cell_type": "code",
   "execution_count": 52,
   "metadata": {},
   "outputs": [
    {
     "name": "stdout",
     "output_type": "stream",
     "text": [
      "Float speed:  0.049558543999864924\n"
     ]
    }
   ],
   "source": [
    "# speed of functions\n",
    "import math\n",
    "\n",
    "import time\n",
    "start = time.perf_counter()\n",
    "for i in range(100 * 1000):\n",
    "    f = math.sqrt(23.0)\n",
    "    \n",
    "stop = time.perf_counter()\n",
    "print(\"Float speed: \", stop - start)"
   ]
  },
  {
   "cell_type": "code",
   "execution_count": 53,
   "metadata": {},
   "outputs": [],
   "source": [
    "# functions in math library compute much faster\n",
    "# than functions in decimal module\n",
    "# remember that using math module functions on decimals\n",
    "# will have decimal converted to float first"
   ]
  }
 ],
 "metadata": {
  "kernelspec": {
   "display_name": "Python 3",
   "language": "python",
   "name": "python3"
  },
  "language_info": {
   "codemirror_mode": {
    "name": "ipython",
    "version": 3
   },
   "file_extension": ".py",
   "mimetype": "text/x-python",
   "name": "python",
   "nbconvert_exporter": "python",
   "pygments_lexer": "ipython3",
   "version": "3.7.3"
  }
 },
 "nbformat": 4,
 "nbformat_minor": 2
}
