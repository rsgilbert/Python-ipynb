{
 "cells": [
  {
   "cell_type": "code",
   "execution_count": 1,
   "metadata": {},
   "outputs": [],
   "source": [
    "# random seeds"
   ]
  },
  {
   "cell_type": "code",
   "execution_count": 2,
   "metadata": {},
   "outputs": [],
   "source": [
    "import random"
   ]
  },
  {
   "cell_type": "code",
   "execution_count": 5,
   "metadata": {},
   "outputs": [
    {
     "name": "stdout",
     "output_type": "stream",
     "text": [
      "1\n",
      "6\n",
      "12\n",
      "12\n",
      "9\n",
      "1\n",
      "8\n",
      "2\n",
      "2\n",
      "15\n",
      "1\n",
      "11\n",
      "6\n",
      "14\n",
      "7\n"
     ]
    }
   ],
   "source": [
    "for _ in range(15):\n",
    "    print(random.randint(1, 15)) # 1 and 15 inclusive"
   ]
  },
  {
   "cell_type": "code",
   "execution_count": 6,
   "metadata": {},
   "outputs": [],
   "source": [
    "# if you want to generate the same random numbers you must \n",
    "# use the same seed to generate random numbers"
   ]
  },
  {
   "cell_type": "code",
   "execution_count": 8,
   "metadata": {},
   "outputs": [
    {
     "name": "stdout",
     "output_type": "stream",
     "text": [
      "2\n",
      "5\n",
      "1\n",
      "3\n",
      "1\n"
     ]
    }
   ],
   "source": [
    "random.seed(1)\n",
    "for i in range(5):\n",
    "    print(random.randint(1, 5))"
   ]
  },
  {
   "cell_type": "code",
   "execution_count": 9,
   "metadata": {},
   "outputs": [
    {
     "name": "stdout",
     "output_type": "stream",
     "text": [
      "4\n",
      "4\n",
      "4\n",
      "4\n",
      "2\n"
     ]
    }
   ],
   "source": [
    "for i in range(5):\n",
    "    print(random.randint(1, 5))"
   ]
  },
  {
   "cell_type": "code",
   "execution_count": 10,
   "metadata": {},
   "outputs": [
    {
     "name": "stdout",
     "output_type": "stream",
     "text": [
      "2\n",
      "5\n",
      "1\n",
      "3\n",
      "1\n"
     ]
    }
   ],
   "source": [
    "random.seed(1)\n",
    "for i in range(5):\n",
    "    print(random.randint(1, 5))"
   ]
  },
  {
   "cell_type": "code",
   "execution_count": 11,
   "metadata": {},
   "outputs": [
    {
     "name": "stdout",
     "output_type": "stream",
     "text": [
      "16\n",
      "16\n",
      "10\n",
      "14\n",
      "18\n",
      "17\n",
      "16\n",
      "14\n",
      "17\n",
      "15\n"
     ]
    }
   ],
   "source": [
    "random.seed(0)\n",
    "for _ in range(10):\n",
    "    print(random.randint(10, 20))"
   ]
  },
  {
   "cell_type": "code",
   "execution_count": 12,
   "metadata": {},
   "outputs": [],
   "source": [
    "# shuffle"
   ]
  },
  {
   "cell_type": "code",
   "execution_count": 15,
   "metadata": {},
   "outputs": [
    {
     "name": "stdout",
     "output_type": "stream",
     "text": [
      "['h', 'g', 'i', 'c', 'a', 'k', 'd', 'f', 'j', 'b', 'e']\n"
     ]
    }
   ],
   "source": [
    "chars = list('abcdefghijk') # must be a list\n",
    "random.shuffle(chars)\n",
    "print(chars)"
   ]
  },
  {
   "cell_type": "code",
   "execution_count": 23,
   "metadata": {},
   "outputs": [
    {
     "name": "stdout",
     "output_type": "stream",
     "text": [
      "53.5912850490555\n",
      "52.04463613678195\n",
      "45.78406109580427\n",
      "50.359957519383\n",
      "51.25925421808588\n",
      "48.14900504649662\n",
      "49.82622423698631\n",
      "48.512626080270266\n",
      "50.98497115146891\n",
      "55.24582379653055\n"
     ]
    }
   ],
   "source": [
    "for i in range(10):\n",
    "    print(random.gauss(mu=50, sigma=3))"
   ]
  },
  {
   "cell_type": "code",
   "execution_count": 24,
   "metadata": {},
   "outputs": [
    {
     "name": "stdout",
     "output_type": "stream",
     "text": [
      "46.327781972858105\n",
      "51.13276459490479\n",
      "52.98499888301282\n",
      "48.4603701542317\n",
      "46.01306239794107\n",
      "49.80341178495969\n",
      "51.43403630674746\n",
      "53.294554299332326\n",
      "46.352376201463954\n",
      "46.12140664745946\n"
     ]
    }
   ],
   "source": [
    "random.seed(11)\n",
    "for i in range(10):\n",
    "    print(random.gauss(mu=50, sigma=3))"
   ]
  },
  {
   "cell_type": "code",
   "execution_count": 25,
   "metadata": {},
   "outputs": [
    {
     "name": "stdout",
     "output_type": "stream",
     "text": [
      "46.327781972858105\n",
      "51.13276459490479\n",
      "52.98499888301282\n",
      "48.4603701542317\n",
      "46.01306239794107\n",
      "49.80341178495969\n",
      "51.43403630674746\n",
      "53.294554299332326\n",
      "46.352376201463954\n",
      "46.12140664745946\n"
     ]
    }
   ],
   "source": [
    "random.seed(11)\n",
    "for i in range(10):\n",
    "    print(random.gauss(mu=50, sigma=3))"
   ]
  },
  {
   "cell_type": "code",
   "execution_count": 26,
   "metadata": {},
   "outputs": [
    {
     "name": "stdout",
     "output_type": "stream",
     "text": [
      "53.86455425946639\n",
      "54.34833682609931\n",
      "50.19900742681479\n",
      "47.706369047085104\n",
      "46.723480354687574\n",
      "50.09400355049515\n",
      "46.93369048996738\n",
      "45.68951166469241\n",
      "50.59793592945126\n",
      "50.40012381397582\n"
     ]
    }
   ],
   "source": [
    "random.seed(1)\n",
    "for i in range(10):\n",
    "    print(random.gauss(mu=50, sigma=3))"
   ]
  },
  {
   "cell_type": "code",
   "execution_count": 29,
   "metadata": {},
   "outputs": [
    {
     "data": {
      "text/plain": [
       "' 3384.000000'"
      ]
     },
     "execution_count": 29,
     "metadata": {},
     "output_type": "execute_result"
    }
   ],
   "source": [
    "f'{3384: f}'"
   ]
  },
  {
   "cell_type": "code",
   "execution_count": 30,
   "metadata": {},
   "outputs": [
    {
     "data": {
      "text/plain": [
       "3"
      ]
     },
     "execution_count": 30,
     "metadata": {},
     "output_type": "execute_result"
    }
   ],
   "source": [
    "[1, 2, 3, 1, 2, 1].count(1)"
   ]
  },
  {
   "cell_type": "code",
   "execution_count": 35,
   "metadata": {},
   "outputs": [],
   "source": [
    "def freq_counter(_list):\n",
    "    return {item: _list.count(item) for item in set(_list)}"
   ]
  },
  {
   "cell_type": "code",
   "execution_count": 36,
   "metadata": {},
   "outputs": [
    {
     "data": {
      "text/plain": [
       "{1: 2, 2: 3, 3: 1, 4: 2, 5: 1}"
      ]
     },
     "execution_count": 36,
     "metadata": {},
     "output_type": "execute_result"
    }
   ],
   "source": [
    "freq_counter([1, 2, 3, 2, 4, 2, 1, 4, 5])"
   ]
  },
  {
   "cell_type": "code",
   "execution_count": 37,
   "metadata": {},
   "outputs": [
    {
     "data": {
      "text/plain": [
       "Counter({1: 2, 2: 3, 3: 1, 4: 2, 5: 1})"
      ]
     },
     "execution_count": 37,
     "metadata": {},
     "output_type": "execute_result"
    }
   ],
   "source": [
    "from collections import Counter\n",
    "Counter([1, 2, 3, 2, 4, 2, 1, 4, 5])"
   ]
  },
  {
   "cell_type": "code",
   "execution_count": 39,
   "metadata": {},
   "outputs": [
    {
     "data": {
      "text/plain": [
       "{1: 19949, 2: 19983, 3: 19785, 4: 20234, 5: 20049}"
      ]
     },
     "execution_count": 39,
     "metadata": {},
     "output_type": "execute_result"
    }
   ],
   "source": [
    "freq_counter([random.randint(1, 5) for _ in range(100000)])"
   ]
  },
  {
   "cell_type": "code",
   "execution_count": 40,
   "metadata": {},
   "outputs": [],
   "source": [
    "# generating random choices"
   ]
  },
  {
   "cell_type": "code",
   "execution_count": 41,
   "metadata": {},
   "outputs": [],
   "source": [
    "l = [10, 20, 20, 30, 80]"
   ]
  },
  {
   "cell_type": "code",
   "execution_count": 49,
   "metadata": {},
   "outputs": [
    {
     "data": {
      "text/plain": [
       "(0, 10)"
      ]
     },
     "execution_count": 49,
     "metadata": {},
     "output_type": "execute_result"
    }
   ],
   "source": [
    "# using random range\n",
    "rand_index = random.randrange(len(l))\n",
    "rand_index, l[rand_index]"
   ]
  },
  {
   "cell_type": "code",
   "execution_count": 50,
   "metadata": {},
   "outputs": [
    {
     "data": {
      "text/plain": [
       "4"
      ]
     },
     "execution_count": 50,
     "metadata": {},
     "output_type": "execute_result"
    }
   ],
   "source": [
    "random.randrange(3, 7)"
   ]
  },
  {
   "cell_type": "code",
   "execution_count": null,
   "metadata": {},
   "outputs": [],
   "source": [
    "# using random choice"
   ]
  },
  {
   "cell_type": "code",
   "execution_count": 57,
   "metadata": {},
   "outputs": [
    {
     "data": {
      "text/plain": [
       "80"
      ]
     },
     "execution_count": 57,
     "metadata": {},
     "output_type": "execute_result"
    }
   ],
   "source": [
    "random.choice(l)"
   ]
  },
  {
   "cell_type": "code",
   "execution_count": 69,
   "metadata": {},
   "outputs": [
    {
     "name": "stdout",
     "output_type": "stream",
     "text": [
      "[10, 20, 80, 20, 20, 80, 20, 80, 10, 30, 30, 20, 20, 20, 80, 80, 80, 20, 10, 20]\n"
     ]
    }
   ],
   "source": [
    "randoms = [random.choice(l) for _ in range(20)] # always go for more expressive code, not shorter  code\n",
    "print(randoms)"
   ]
  },
  {
   "cell_type": "code",
   "execution_count": 66,
   "metadata": {},
   "outputs": [
    {
     "data": {
      "text/plain": [
       "'c'"
      ]
     },
     "execution_count": 66,
     "metadata": {},
     "output_type": "execute_result"
    }
   ],
   "source": [
    "# more pythonic way of choosing a random element, very expressive\n",
    "random.choice((\"a\", \"b\", \"c\"))"
   ]
  },
  {
   "cell_type": "code",
   "execution_count": 78,
   "metadata": {},
   "outputs": [
    {
     "data": {
      "text/plain": [
       "[80, 10, 20, 80, 80]"
      ]
     },
     "execution_count": 78,
     "metadata": {},
     "output_type": "execute_result"
    }
   ],
   "source": [
    "# to get the option of picking how many choices, use choices instead of choice\n",
    "randms = random.choices(l, k=5) # remember to use a keyword argument, k as there are other optional positional arguments which you have to sk p\n",
    "randms"
   ]
  },
  {
   "cell_type": "code",
   "execution_count": 79,
   "metadata": {},
   "outputs": [
    {
     "name": "stdout",
     "output_type": "stream",
     "text": [
      "['b', 'd', 'b']\n",
      "['c', 'd', 'd']\n",
      "['b', 'd', 'd']\n",
      "['d', 'd', 'd']\n",
      "['b', 'b', 'c']\n"
     ]
    }
   ],
   "source": [
    "for _ in range(5):\n",
    "    print(random.choices(['a', 'b', 'c', 'd'], k=3, weights=[1, 1, 1, 3]))"
   ]
  },
  {
   "cell_type": "code",
   "execution_count": 91,
   "metadata": {},
   "outputs": [
    {
     "data": {
      "text/plain": [
       "{'Carine': 17, 'Gloria': 26, 'Gift': 6, 'Claire': 51}"
      ]
     },
     "execution_count": 91,
     "metadata": {},
     "output_type": "execute_result"
    }
   ],
   "source": [
    "loveds = ['Gloria', 'Gift', 'Claire', 'Carine']\n",
    "weights = [3, 1, 5, 2]\n",
    "weighted_loveds = random.choices(loveds, k=100, weights=weights)\n",
    "freq_counter(weighted_loveds)"
   ]
  },
  {
   "cell_type": "code",
   "execution_count": 93,
   "metadata": {},
   "outputs": [
    {
     "data": {
      "text/plain": [
       "{'Carine': 20, 'Gloria': 29, 'Gift': 8, 'Claire': 43}"
      ]
     },
     "execution_count": 93,
     "metadata": {},
     "output_type": "execute_result"
    }
   ],
   "source": [
    "random.seed('a')\n",
    "weighted_loveds = random.choices(loveds, k=100, weights=weights)\n",
    "freq_counter(weighted_loveds)"
   ]
  },
  {
   "cell_type": "code",
   "execution_count": 94,
   "metadata": {},
   "outputs": [
    {
     "data": {
      "text/plain": [
       "{'Carine': 20, 'Gloria': 29, 'Gift': 8, 'Claire': 43}"
      ]
     },
     "execution_count": 94,
     "metadata": {},
     "output_type": "execute_result"
    }
   ],
   "source": [
    "random.seed('a')\n",
    "weighted_loveds = random.choices(loveds, k=100, weights=weights)\n",
    "freq_counter(weighted_loveds)"
   ]
  },
  {
   "cell_type": "code",
   "execution_count": 96,
   "metadata": {},
   "outputs": [
    {
     "data": {
      "text/plain": [
       "{'Gloria': 18, 'Carine': 19, 'Gift': 8, 'Claire': 55}"
      ]
     },
     "execution_count": 96,
     "metadata": {},
     "output_type": "execute_result"
    }
   ],
   "source": [
    "random.seed(None)\n",
    "weighted_loveds = random.choices(loveds, k=100, weights=weights)\n",
    "freq_counter(weighted_loveds)"
   ]
  },
  {
   "cell_type": "code",
   "execution_count": 97,
   "metadata": {},
   "outputs": [
    {
     "data": {
      "text/plain": [
       "{'Carine': 20, 'Gloria': 32, 'Gift': 12, 'Claire': 36}"
      ]
     },
     "execution_count": 97,
     "metadata": {},
     "output_type": "execute_result"
    }
   ],
   "source": [
    "# if seed is None, then the default seed, ie system time will be used\n",
    "random.seed(None)\n",
    "weighted_loveds = random.choices(loveds, k=100, weights=weights)\n",
    "freq_counter(weighted_loveds)"
   ]
  },
  {
   "cell_type": "code",
   "execution_count": 104,
   "metadata": {},
   "outputs": [],
   "source": [
    "## picking without replacement"
   ]
  },
  {
   "cell_type": "code",
   "execution_count": 113,
   "metadata": {},
   "outputs": [
    {
     "data": {
      "text/plain": [
       "([11, 3, 8], [11, 3, 8])"
      ]
     },
     "execution_count": 113,
     "metadata": {},
     "output_type": "execute_result"
    }
   ],
   "source": [
    "li = [11, 2, 3 ,8]\n",
    "random.sample(li, k=3), random.sample(li, k=3) # no repetitions"
   ]
  },
  {
   "cell_type": "code",
   "execution_count": 116,
   "metadata": {},
   "outputs": [
    {
     "data": {
      "text/plain": [
       "[8, 2]"
      ]
     },
     "execution_count": 116,
     "metadata": {},
     "output_type": "execute_result"
    }
   ],
   "source": [
    "random.sample(population=tuple(li), k=2)"
   ]
  },
  {
   "cell_type": "code",
   "execution_count": 118,
   "metadata": {},
   "outputs": [
    {
     "data": {
      "text/plain": [
       "(('Club', 'Diamond', 'Hearts', 'Spades'),\n",
       " (2, 3, 4, 5, 6, 7, 8, 9, 10, 'J', 'Q', 'K', 'A'))"
      ]
     },
     "execution_count": 118,
     "metadata": {},
     "output_type": "execute_result"
    }
   ],
   "source": [
    "suits = 'Club', 'Diamond', 'Hearts', 'Spades'\n",
    "ranks = tuple(range(2, 11)) + tuple('JQKA')\n",
    "suits, ranks"
   ]
  },
  {
   "cell_type": "code",
   "execution_count": 131,
   "metadata": {},
   "outputs": [],
   "source": [
    "deck = [(str(rank) + \"-\" + suit) for suit in suits for rank in ranks]"
   ]
  },
  {
   "cell_type": "code",
   "execution_count": 132,
   "metadata": {},
   "outputs": [
    {
     "name": "stdout",
     "output_type": "stream",
     "text": [
      "['2-Club', '3-Club', '4-Club', '5-Club', '6-Club', '7-Club', '8-Club', '9-Club', '10-Club', 'J-Club', 'Q-Club', 'K-Club', 'A-Club', '2-Diamond', '3-Diamond', '4-Diamond', '5-Diamond', '6-Diamond', '7-Diamond', '8-Diamond', '9-Diamond', '10-Diamond', 'J-Diamond', 'Q-Diamond', 'K-Diamond', 'A-Diamond', '2-Hearts', '3-Hearts', '4-Hearts', '5-Hearts', '6-Hearts', '7-Hearts', '8-Hearts', '9-Hearts', '10-Hearts', 'J-Hearts', 'Q-Hearts', 'K-Hearts', 'A-Hearts', '2-Spades', '3-Spades', '4-Spades', '5-Spades', '6-Spades', '7-Spades', '8-Spades', '9-Spades', '10-Spades', 'J-Spades', 'Q-Spades', 'K-Spades', 'A-Spades']\n"
     ]
    }
   ],
   "source": [
    "print(deck)"
   ]
  },
  {
   "cell_type": "code",
   "execution_count": 135,
   "metadata": {},
   "outputs": [
    {
     "data": {
      "text/plain": [
       "{'3-Spades': 1,\n",
       " '4-Spades': 1,\n",
       " '6-Spades': 1,\n",
       " 'A-Hearts': 1,\n",
       " '4-Club': 3,\n",
       " '9-Club': 1,\n",
       " 'A-Diamond': 1,\n",
       " 'Q-Diamond': 2,\n",
       " '3-Club': 1,\n",
       " '3-Diamond': 1,\n",
       " '9-Hearts': 1,\n",
       " 'K-Diamond': 1,\n",
       " 'Q-Spades': 2,\n",
       " '8-Diamond': 1,\n",
       " '7-Hearts': 1,\n",
       " '8-Spades': 1,\n",
       " 'K-Hearts': 2,\n",
       " '2-Spades': 1,\n",
       " '5-Hearts': 4,\n",
       " '8-Hearts': 1,\n",
       " '8-Club': 1,\n",
       " '10-Club': 1}"
      ]
     },
     "execution_count": 135,
     "metadata": {},
     "output_type": "execute_result"
    }
   ],
   "source": [
    "freq_counter(random.choices(deck, k=30)) # repetitions"
   ]
  },
  {
   "cell_type": "code",
   "execution_count": null,
   "metadata": {},
   "outputs": [],
   "source": [
    "# philosophy of try and exception:\n",
    "# Easier to ask forgiveness than permission"
   ]
  },
  {
   "cell_type": "code",
   "execution_count": 136,
   "metadata": {},
   "outputs": [
    {
     "data": {
      "text/plain": [
       "{'3-Spades': 1,\n",
       " '4-Spades': 1,\n",
       " '6-Spades': 1,\n",
       " '6-Club': 1,\n",
       " 'A-Hearts': 1,\n",
       " '9-Club': 1,\n",
       " '4-Diamond': 1,\n",
       " 'A-Spades': 1,\n",
       " '9-Diamond': 1,\n",
       " 'Q-Hearts': 1,\n",
       " '5-Diamond': 1,\n",
       " '5-Club': 1,\n",
       " 'K-Spades': 1,\n",
       " '6-Diamond': 1,\n",
       " '5-Spades': 1,\n",
       " '7-Club': 1,\n",
       " 'K-Diamond': 1,\n",
       " 'K-Club': 1,\n",
       " '8-Diamond': 1,\n",
       " '7-Hearts': 1,\n",
       " '7-Diamond': 1,\n",
       " '8-Spades': 1,\n",
       " '10-Diamond': 1,\n",
       " 'J-Diamond': 1,\n",
       " 'K-Hearts': 1,\n",
       " '10-Hearts': 1,\n",
       " '2-Spades': 1,\n",
       " '8-Hearts': 1,\n",
       " '2-Club': 1,\n",
       " '8-Club': 1}"
      ]
     },
     "execution_count": 136,
     "metadata": {},
     "output_type": "execute_result"
    }
   ],
   "source": [
    "freq_counter(random.sample(deck, k=30)) # no repetition"
   ]
  },
  {
   "cell_type": "code",
   "execution_count": null,
   "metadata": {},
   "outputs": [],
   "source": []
  }
 ],
 "metadata": {
  "kernelspec": {
   "display_name": "Python 3",
   "language": "python",
   "name": "python3"
  },
  "language_info": {
   "codemirror_mode": {
    "name": "ipython",
    "version": 3
   },
   "file_extension": ".py",
   "mimetype": "text/x-python",
   "name": "python",
   "nbconvert_exporter": "python",
   "pygments_lexer": "ipython3",
   "version": "3.7.3"
  }
 },
 "nbformat": 4,
 "nbformat_minor": 2
}
