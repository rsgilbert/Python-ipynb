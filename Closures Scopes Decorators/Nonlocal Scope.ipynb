{
 "cells": [
  {
   "cell_type": "code",
   "execution_count": 1,
   "metadata": {},
   "outputs": [],
   "source": [
    "# nonlocal scope"
   ]
  },
  {
   "cell_type": "code",
   "execution_count": 3,
   "metadata": {},
   "outputs": [],
   "source": [
    "def outer_func():\n",
    "    x = 'outer'\n",
    "    def inner_func():\n",
    "        print(x) # python will make x a nonlocal variable\n",
    "    inner_func()"
   ]
  },
  {
   "cell_type": "code",
   "execution_count": 5,
   "metadata": {},
   "outputs": [
    {
     "name": "stdout",
     "output_type": "stream",
     "text": [
      "outer\n"
     ]
    }
   ],
   "source": [
    "outer_func()"
   ]
  },
  {
   "cell_type": "code",
   "execution_count": 7,
   "metadata": {},
   "outputs": [],
   "source": [
    "def out_fun():\n",
    "    x = 'hi'\n",
    "    def inner1 ():\n",
    "        def inner2():\n",
    "            print(x) # navigates 2 levels up to find x\n",
    "        inner2()\n",
    "    inner1()"
   ]
  },
  {
   "cell_type": "code",
   "execution_count": 8,
   "metadata": {},
   "outputs": [
    {
     "name": "stdout",
     "output_type": "stream",
     "text": [
      "hi\n"
     ]
    }
   ],
   "source": [
    "out_fun()"
   ]
  },
  {
   "cell_type": "code",
   "execution_count": 11,
   "metadata": {},
   "outputs": [],
   "source": [
    "def out_fun2():\n",
    "    x = \"papaya\"\n",
    "    def inner():\n",
    "        x = \"cucumba\" # on seeing assignment operation, python made x on local variable when creating this function\n",
    "        print(\"Inner: \", x)\n",
    "    inner()\n",
    "    print(\"Outer:\",x)\n",
    "    "
   ]
  },
  {
   "cell_type": "code",
   "execution_count": 12,
   "metadata": {},
   "outputs": [
    {
     "name": "stdout",
     "output_type": "stream",
     "text": [
      "Inner:  cucumba\n",
      "Outer: papaya\n"
     ]
    }
   ],
   "source": [
    "out_fun2()"
   ]
  },
  {
   "cell_type": "code",
   "execution_count": 14,
   "metadata": {},
   "outputs": [],
   "source": [
    "def out_fun_3():\n",
    "    x = \"papaya\"\n",
    "    def inner():\n",
    "        nonlocal x # look for x up the chain, but inside functions\n",
    "        x = \"cucumba\" \n",
    "    inner()\n",
    "    print(\"Outer:\",x)\n",
    "    "
   ]
  },
  {
   "cell_type": "code",
   "execution_count": 15,
   "metadata": {},
   "outputs": [
    {
     "name": "stdout",
     "output_type": "stream",
     "text": [
      "Outer: cucumba\n"
     ]
    }
   ],
   "source": [
    "out_fun_3()"
   ]
  },
  {
   "cell_type": "code",
   "execution_count": 21,
   "metadata": {},
   "outputs": [],
   "source": [
    "def out_fun_3():\n",
    "    x = \"papaya\"\n",
    "    def inner():\n",
    "        nonlocal x \n",
    "        x = \"python3\" \n",
    "        print(x)\n",
    "        def inner2():\n",
    "            nonlocal x\n",
    "            x = 'Jangeyape'\n",
    "        inner2()\n",
    "    inner()\n",
    "    print(\"Outer:\",x)\n",
    "    "
   ]
  },
  {
   "cell_type": "code",
   "execution_count": 22,
   "metadata": {},
   "outputs": [
    {
     "name": "stdout",
     "output_type": "stream",
     "text": [
      "python3\n",
      "Outer: Jangeyape\n"
     ]
    }
   ],
   "source": [
    "out_fun_3()"
   ]
  },
  {
   "cell_type": "code",
   "execution_count": 23,
   "metadata": {},
   "outputs": [],
   "source": [
    "def out_fun_4():\n",
    "    x = \"papaya\"\n",
    "    def inner():\n",
    "        x = \"python3\" \n",
    "        def inner2():\n",
    "            nonlocal x\n",
    "            x = 'Jangeyape'\n",
    "        inner2()\n",
    "        print(\"Inner x:\", x)\n",
    "    inner()\n",
    "    print(\"Outer:\",x)\n",
    "    "
   ]
  },
  {
   "cell_type": "code",
   "execution_count": 24,
   "metadata": {},
   "outputs": [
    {
     "name": "stdout",
     "output_type": "stream",
     "text": [
      "Inner x: Jangeyape\n",
      "Outer: papaya\n"
     ]
    }
   ],
   "source": [
    "out_fun_4()"
   ]
  },
  {
   "cell_type": "code",
   "execution_count": 27,
   "metadata": {},
   "outputs": [],
   "source": [
    "def out_fun_3():\n",
    "    x = \"papaya\"\n",
    "    def inner():\n",
    "        nonlocal x \n",
    "        x = \"python3\" \n",
    "        print(x)\n",
    "        def inner2():\n",
    "            global x\n",
    "            x = \"Tetanus\"\n",
    "#             nonlocal x\n",
    "            x = 'Jangeyape'\n",
    "        inner2()\n",
    "    inner()\n",
    "    print(\"Outer:\",x)\n",
    "    "
   ]
  },
  {
   "cell_type": "code",
   "execution_count": 29,
   "metadata": {},
   "outputs": [
    {
     "name": "stdout",
     "output_type": "stream",
     "text": [
      "python3\n",
      "Outer: python3\n"
     ]
    }
   ],
   "source": [
    "out_fun_3()"
   ]
  },
  {
   "cell_type": "code",
   "execution_count": 30,
   "metadata": {},
   "outputs": [
    {
     "data": {
      "text/plain": [
       "'Jangeyape'"
      ]
     },
     "execution_count": 30,
     "metadata": {},
     "output_type": "execute_result"
    }
   ],
   "source": [
    "x"
   ]
  },
  {
   "cell_type": "code",
   "execution_count": 31,
   "metadata": {},
   "outputs": [],
   "source": [
    "def fn():\n",
    "    x = 10\n",
    "    def inn():\n",
    "        print(x)\n",
    "    x = 2\n",
    "    inn()"
   ]
  },
  {
   "cell_type": "code",
   "execution_count": 32,
   "metadata": {},
   "outputs": [
    {
     "name": "stdout",
     "output_type": "stream",
     "text": [
      "2\n"
     ]
    }
   ],
   "source": [
    "fn()"
   ]
  },
  {
   "cell_type": "code",
   "execution_count": 33,
   "metadata": {},
   "outputs": [],
   "source": [
    "c = 8"
   ]
  },
  {
   "cell_type": "code",
   "execution_count": 38,
   "metadata": {},
   "outputs": [],
   "source": [
    "c/=91"
   ]
  },
  {
   "cell_type": "code",
   "execution_count": 39,
   "metadata": {},
   "outputs": [
    {
     "data": {
      "text/plain": [
       "9.0"
      ]
     },
     "execution_count": 39,
     "metadata": {},
     "output_type": "execute_result"
    }
   ],
   "source": [
    "c\n"
   ]
  },
  {
   "cell_type": "code",
   "execution_count": 40,
   "metadata": {},
   "outputs": [
    {
     "data": {
      "text/plain": [
       "11.375"
      ]
     },
     "execution_count": 40,
     "metadata": {},
     "output_type": "execute_result"
    }
   ],
   "source": [
    "91 / 8"
   ]
  },
  {
   "cell_type": "code",
   "execution_count": 41,
   "metadata": {},
   "outputs": [
    {
     "name": "stdout",
     "output_type": "stream",
     "text": [
      "0x8a88c0\n",
      "0x8a88e0\n",
      "0x8a8900\n",
      "0x8a8920\n",
      "0x8a8940\n",
      "0x8a8960\n",
      "0x8a8980\n",
      "0x8a89a0\n"
     ]
    }
   ],
   "source": [
    "for x in range(8):\n",
    "    print(hex(id(x)))"
   ]
  },
  {
   "cell_type": "code",
   "execution_count": null,
   "metadata": {},
   "outputs": [],
   "source": []
  }
 ],
 "metadata": {
  "kernelspec": {
   "display_name": "Python 3",
   "language": "python",
   "name": "python3"
  },
  "language_info": {
   "codemirror_mode": {
    "name": "ipython",
    "version": 3
   },
   "file_extension": ".py",
   "mimetype": "text/x-python",
   "name": "python",
   "nbconvert_exporter": "python",
   "pygments_lexer": "ipython3",
   "version": "3.7.3"
  }
 },
 "nbformat": 4,
 "nbformat_minor": 2
}
