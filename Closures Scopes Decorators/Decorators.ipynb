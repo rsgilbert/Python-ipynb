{
 "cells": [
  {
   "cell_type": "code",
   "execution_count": 1,
   "metadata": {},
   "outputs": [],
   "source": [
    "# Decorators\n",
    "# A decorator is a piece of code that adds extra functionality to \n",
    "# an existing function\n",
    "# A decorator can be written as, for example, add = also_count(add), factorial = timed(factorial) \n",
    "# or using the @ symbol, eg @also_count, @timed above function definition"
   ]
  },
  {
   "cell_type": "code",
   "execution_count": 48,
   "metadata": {},
   "outputs": [],
   "source": [
    "def counter(fun):\n",
    "    count = 0\n",
    "    def inner_fun(*args, **kwargs): # using * and ** makes the inner func generic and so can handle any function\n",
    "        nonlocal count\n",
    "        count += 1\n",
    "        print(\"Function {0} was called {1} times. Id is {2}\".format(fun.__name__, count, hex(id(fun))))\n",
    "        return fun(*args, **kwargs)\n",
    "    return inner_fun"
   ]
  },
  {
   "cell_type": "code",
   "execution_count": 49,
   "metadata": {},
   "outputs": [],
   "source": [
    "def add(a:int, b:int=0)->int:\n",
    "    \"\"\"Adds two integers and returns the sum\"\"\"\n",
    "    return a + b"
   ]
  },
  {
   "cell_type": "code",
   "execution_count": 50,
   "metadata": {},
   "outputs": [
    {
     "name": "stdout",
     "output_type": "stream",
     "text": [
      "Help on function add in module __main__:\n",
      "\n",
      "add(a: int, b: int = 0) -> int\n",
      "    Adds two integers and returns the sum\n",
      "\n"
     ]
    }
   ],
   "source": [
    "help(add)"
   ]
  },
  {
   "cell_type": "code",
   "execution_count": 51,
   "metadata": {},
   "outputs": [
    {
     "data": {
      "text/plain": [
       "'0x7f0934707950'"
      ]
     },
     "execution_count": 51,
     "metadata": {},
     "output_type": "execute_result"
    }
   ],
   "source": [
    "hex(id(add))"
   ]
  },
  {
   "cell_type": "code",
   "execution_count": 52,
   "metadata": {},
   "outputs": [],
   "source": [
    "add = counter(add) "
   ]
  },
  {
   "cell_type": "code",
   "execution_count": 53,
   "metadata": {},
   "outputs": [
    {
     "data": {
      "text/plain": [
       "'0x7f093463a1e0'"
      ]
     },
     "execution_count": 53,
     "metadata": {},
     "output_type": "execute_result"
    }
   ],
   "source": [
    "hex(id(add)) # id changed, not the same function"
   ]
  },
  {
   "cell_type": "code",
   "execution_count": 54,
   "metadata": {},
   "outputs": [
    {
     "name": "stdout",
     "output_type": "stream",
     "text": [
      "Help on function inner_fun in module __main__:\n",
      "\n",
      "inner_fun(*args, **kwargs)\n",
      "\n"
     ]
    }
   ],
   "source": [
    "help(add)"
   ]
  },
  {
   "cell_type": "code",
   "execution_count": 55,
   "metadata": {},
   "outputs": [
    {
     "name": "stdout",
     "output_type": "stream",
     "text": [
      "Function add was called 1 times. Id is 0x7f0934707950\n"
     ]
    },
    {
     "data": {
      "text/plain": [
       "34"
      ]
     },
     "execution_count": 55,
     "metadata": {},
     "output_type": "execute_result"
    }
   ],
   "source": [
    "add(33, 1) # id is the same as original add fn"
   ]
  },
  {
   "cell_type": "code",
   "execution_count": 64,
   "metadata": {},
   "outputs": [],
   "source": [
    "def mult(a:int, b:int, c:int, *, d):\n",
    "    \"Multiplies 4 values\"\n",
    "    return a * b * c * d"
   ]
  },
  {
   "cell_type": "code",
   "execution_count": 65,
   "metadata": {},
   "outputs": [
    {
     "data": {
      "text/plain": [
       "{'a': int, 'b': int, 'c': int}"
      ]
     },
     "execution_count": 65,
     "metadata": {},
     "output_type": "execute_result"
    }
   ],
   "source": [
    "mult.__annotations__"
   ]
  },
  {
   "cell_type": "code",
   "execution_count": 66,
   "metadata": {},
   "outputs": [
    {
     "data": {
      "text/plain": [
       "48"
      ]
     },
     "execution_count": 66,
     "metadata": {},
     "output_type": "execute_result"
    }
   ],
   "source": [
    "mult(1,2, 3, d=8)"
   ]
  },
  {
   "cell_type": "code",
   "execution_count": 67,
   "metadata": {},
   "outputs": [],
   "source": [
    "mult = counter(mult) # mult has been decorated, ie the functionality to\n",
    "# count how many times it is called has been added to it"
   ]
  },
  {
   "cell_type": "code",
   "execution_count": 68,
   "metadata": {},
   "outputs": [
    {
     "data": {
      "text/plain": [
       "{}"
      ]
     },
     "execution_count": 68,
     "metadata": {},
     "output_type": "execute_result"
    }
   ],
   "source": [
    "mult.__annotations__ "
   ]
  },
  {
   "cell_type": "code",
   "execution_count": 70,
   "metadata": {},
   "outputs": [
    {
     "data": {
      "text/plain": [
       "'inner_fun'"
      ]
     },
     "execution_count": 70,
     "metadata": {},
     "output_type": "execute_result"
    }
   ],
   "source": [
    "mult.__name__ # mult is now the inner function of the closure"
   ]
  },
  {
   "cell_type": "code",
   "execution_count": 71,
   "metadata": {},
   "outputs": [],
   "source": [
    "# we have decorated mult\n",
    "# mult is the decorated function\n",
    "# counter is the decorator"
   ]
  },
  {
   "cell_type": "code",
   "execution_count": 72,
   "metadata": {},
   "outputs": [],
   "source": [
    "# An easier to do the step mult = counter(mult)"
   ]
  },
  {
   "cell_type": "code",
   "execution_count": 73,
   "metadata": {},
   "outputs": [],
   "source": [
    "def multiply_string(s:str, i:int)-> str:\n",
    "    return s * i"
   ]
  },
  {
   "cell_type": "code",
   "execution_count": 76,
   "metadata": {},
   "outputs": [
    {
     "data": {
      "text/plain": [
       "'HIlHIlHIl'"
      ]
     },
     "execution_count": 76,
     "metadata": {},
     "output_type": "execute_result"
    }
   ],
   "source": [
    "multiply_string(\"HIl\", 3)"
   ]
  },
  {
   "cell_type": "code",
   "execution_count": 77,
   "metadata": {},
   "outputs": [],
   "source": [
    "# decorating multiply_string\n",
    "@counter\n",
    "def multiply_string(s:str, i:int)-> str:\n",
    "    return s * i"
   ]
  },
  {
   "cell_type": "code",
   "execution_count": 78,
   "metadata": {},
   "outputs": [
    {
     "name": "stdout",
     "output_type": "stream",
     "text": [
      "Function multiply_string was called 1 times. Id is 0x7f093463abf8\n"
     ]
    },
    {
     "data": {
      "text/plain": [
       "'hothot'"
      ]
     },
     "execution_count": 78,
     "metadata": {},
     "output_type": "execute_result"
    }
   ],
   "source": [
    "multiply_string(\"hot\", 2)"
   ]
  },
  {
   "cell_type": "code",
   "execution_count": 79,
   "metadata": {},
   "outputs": [
    {
     "data": {
      "text/plain": [
       "'inner_fun'"
      ]
     },
     "execution_count": 79,
     "metadata": {},
     "output_type": "execute_result"
    }
   ],
   "source": [
    "multiply_string.__name__"
   ]
  },
  {
   "cell_type": "code",
   "execution_count": 80,
   "metadata": {},
   "outputs": [],
   "source": [
    "multiply_string.__doc__"
   ]
  },
  {
   "cell_type": "code",
   "execution_count": 84,
   "metadata": {},
   "outputs": [],
   "source": [
    "def counter(fun):\n",
    "    count = 0\n",
    "    def inner_fun(*args, **kwargs): # using * and ** makes the inner func generic and so can handle any function\n",
    "        \"I am inside the counter function\"\n",
    "        nonlocal count\n",
    "        count += 1\n",
    "        print(\"Function {0} was called {1} times. Id is {2}\".format(fun.__name__, count, hex(id(fun))))\n",
    "        return fun(*args, **kwargs)\n",
    "    return inner_fun"
   ]
  },
  {
   "cell_type": "code",
   "execution_count": 85,
   "metadata": {},
   "outputs": [],
   "source": [
    "@counter\n",
    "def multiply_string(s:str, i:int)-> str:\n",
    "    return s * i"
   ]
  },
  {
   "cell_type": "code",
   "execution_count": 86,
   "metadata": {},
   "outputs": [
    {
     "name": "stdout",
     "output_type": "stream",
     "text": [
      "Help on function inner_fun in module __main__:\n",
      "\n",
      "inner_fun(*args, **kwargs)\n",
      "    I am inside the counter function\n",
      "\n"
     ]
    }
   ],
   "source": [
    "help(multiply_string) # notice, help is on function inner_fun, not multiply_string, cuz multiply_string now points to inner_fun"
   ]
  },
  {
   "cell_type": "code",
   "execution_count": 87,
   "metadata": {},
   "outputs": [
    {
     "data": {
      "text/plain": [
       "'I am inside the counter function'"
      ]
     },
     "execution_count": 87,
     "metadata": {},
     "output_type": "execute_result"
    }
   ],
   "source": [
    "multiply_string.__doc__"
   ]
  },
  {
   "cell_type": "code",
   "execution_count": 88,
   "metadata": {},
   "outputs": [],
   "source": [
    "# recovering function name and docstring"
   ]
  },
  {
   "cell_type": "code",
   "execution_count": 120,
   "metadata": {},
   "outputs": [],
   "source": [
    "def counter(fun):\n",
    "    count = 0\n",
    "    def inner_fun(*args, **kwargs): # using * and ** makes the inner func generic and so can handle any function\n",
    "        \"I am inside the counter function\"\n",
    "        nonlocal count\n",
    "        count += 1\n",
    "        print(\"Function {0} was called {1} times. Id is {2}\".format(fun.__name__, count, hex(id(fun))))\n",
    "        return fun(*args, **kwargs)\n",
    "    inner_fun.__doc__ = fun.__doc__\n",
    "    inner_fun.__name__ = fun.__name__\n",
    "    inner_fun.__annotations__ = fun.__annotations__\n",
    "    return inner_fun"
   ]
  },
  {
   "cell_type": "code",
   "execution_count": 121,
   "metadata": {},
   "outputs": [],
   "source": [
    "@counter\n",
    "def multiply_string(s:str, i:int)-> str:\n",
    "    return s * i"
   ]
  },
  {
   "cell_type": "code",
   "execution_count": 123,
   "metadata": {},
   "outputs": [
    {
     "name": "stdout",
     "output_type": "stream",
     "text": [
      "Help on function multiply_string in module __main__:\n",
      "\n",
      "multiply_string(*args, **kwargs) -> str\n",
      "\n"
     ]
    }
   ],
   "source": [
    "help(multiply_string)"
   ]
  },
  {
   "cell_type": "code",
   "execution_count": 124,
   "metadata": {},
   "outputs": [],
   "source": [
    "def drink():\n",
    "    \"HI\"\n",
    "    drink.__doc__ = \"GAa\""
   ]
  },
  {
   "cell_type": "code",
   "execution_count": 125,
   "metadata": {},
   "outputs": [
    {
     "data": {
      "text/plain": [
       "'HI'"
      ]
     },
     "execution_count": 125,
     "metadata": {},
     "output_type": "execute_result"
    }
   ],
   "source": [
    "drink.__doc__"
   ]
  },
  {
   "cell_type": "code",
   "execution_count": 126,
   "metadata": {},
   "outputs": [],
   "source": [
    "drink()"
   ]
  },
  {
   "cell_type": "code",
   "execution_count": 127,
   "metadata": {},
   "outputs": [
    {
     "name": "stdout",
     "output_type": "stream",
     "text": [
      "Function multiply_string was called 1 times. Id is 0x7f093463a488\n"
     ]
    }
   ],
   "source": [
    "x = multiply_string(\"DK\", 2)"
   ]
  },
  {
   "cell_type": "code",
   "execution_count": 128,
   "metadata": {},
   "outputs": [
    {
     "name": "stdout",
     "output_type": "stream",
     "text": [
      "Help on function multiply_string in module __main__:\n",
      "\n",
      "multiply_string(*args, **kwargs) -> str\n",
      "\n"
     ]
    }
   ],
   "source": [
    "help(multiply_string)"
   ]
  },
  {
   "cell_type": "code",
   "execution_count": 134,
   "metadata": {},
   "outputs": [],
   "source": [
    "# a better way to keep the documentation and metadata of a fun, ie doc, annotations etc"
   ]
  },
  {
   "cell_type": "code",
   "execution_count": 135,
   "metadata": {},
   "outputs": [],
   "source": [
    "from functools import wraps"
   ]
  },
  {
   "cell_type": "code",
   "execution_count": 136,
   "metadata": {},
   "outputs": [],
   "source": [
    "def counter(fun):\n",
    "    from functools import wraps\n",
    "    count = 0\n",
    "    \n",
    "    def inner_fun(*args, **kwargs): # using * and ** makes the inner func generic and so can handle any function\n",
    "        \"I am inside the counter function\"\n",
    "        nonlocal count\n",
    "        count += 1\n",
    "        print(\"Function {0} was called {1} times. Id is {2}\".format(fun.__name__, count, hex(id(fun))))\n",
    "        return fun(*args, **kwargs)\n",
    "    inner_fun = wraps(fun)(inner_fun) # wraps decorates inner_fun, adding documentation to inner_fun\n",
    "    return inner_fun"
   ]
  },
  {
   "cell_type": "code",
   "execution_count": 137,
   "metadata": {},
   "outputs": [],
   "source": [
    "m_string = counter(multiply_string)"
   ]
  },
  {
   "cell_type": "code",
   "execution_count": 138,
   "metadata": {},
   "outputs": [
    {
     "name": "stdout",
     "output_type": "stream",
     "text": [
      "Function multiply_string was called 1 times. Id is 0x7f093463a0d0\n",
      "Function multiply_string was called 2 times. Id is 0x7f093463a488\n"
     ]
    },
    {
     "data": {
      "text/plain": [
       "'JakJakJakJakJakJakJakJak'"
      ]
     },
     "execution_count": 138,
     "metadata": {},
     "output_type": "execute_result"
    }
   ],
   "source": [
    "m_string(\"Jak\", 8)"
   ]
  },
  {
   "cell_type": "code",
   "execution_count": 139,
   "metadata": {},
   "outputs": [
    {
     "data": {
      "text/plain": [
       "'multiply_string'"
      ]
     },
     "execution_count": 139,
     "metadata": {},
     "output_type": "execute_result"
    }
   ],
   "source": [
    "m_string.__name__"
   ]
  },
  {
   "cell_type": "code",
   "execution_count": 140,
   "metadata": {},
   "outputs": [],
   "source": [
    "m_string.__doc__"
   ]
  },
  {
   "cell_type": "code",
   "execution_count": 141,
   "metadata": {},
   "outputs": [
    {
     "name": "stdout",
     "output_type": "stream",
     "text": [
      "Help on function multiply_string in module __main__:\n",
      "\n",
      "multiply_string(*args, **kwargs) -> str\n",
      "\n"
     ]
    }
   ],
   "source": [
    "help(m_string)"
   ]
  },
  {
   "cell_type": "code",
   "execution_count": 142,
   "metadata": {},
   "outputs": [],
   "source": [
    "# another way of decorating inner function usin a parametized decorator"
   ]
  },
  {
   "cell_type": "code",
   "execution_count": 143,
   "metadata": {},
   "outputs": [],
   "source": [
    "def counter(fun):\n",
    "    from functools import wraps\n",
    "    count = 0\n",
    "    \n",
    "    @wraps(fun) # wraps decorates inner_fun, adding documentation to inner_fun\n",
    "    def inner_fun(*args, **kwargs): # using * and ** makes the inner func generic and so can handle any function\n",
    "        \"I am inside the counter function\"\n",
    "        nonlocal count\n",
    "        count += 1\n",
    "        print(\"Function {0} was called {1} times. Id is {2}\".format(fun.__name__, count, hex(id(fun))))\n",
    "        return fun(*args, **kwargs)\n",
    "   \n",
    "    return inner_fun"
   ]
  },
  {
   "cell_type": "code",
   "execution_count": 144,
   "metadata": {},
   "outputs": [],
   "source": [
    "@counter\n",
    "def mult_str(s:str, n:int)->str:\n",
    "    # return string repeated n times\n",
    "    return s * n"
   ]
  },
  {
   "cell_type": "code",
   "execution_count": 146,
   "metadata": {},
   "outputs": [
    {
     "name": "stdout",
     "output_type": "stream",
     "text": [
      "Function mult_str was called 2 times. Id is 0x7f0934656a60\n"
     ]
    },
    {
     "data": {
      "text/plain": [
       "'KKK'"
      ]
     },
     "execution_count": 146,
     "metadata": {},
     "output_type": "execute_result"
    }
   ],
   "source": [
    "mult_str(\"K\", 3)"
   ]
  },
  {
   "cell_type": "code",
   "execution_count": 148,
   "metadata": {},
   "outputs": [
    {
     "name": "stdout",
     "output_type": "stream",
     "text": [
      "Function mult_str was called 4 times. Id is 0x7f0934656a60\n"
     ]
    },
    {
     "data": {
      "text/plain": [
       "'girl girl girl '"
      ]
     },
     "execution_count": 148,
     "metadata": {},
     "output_type": "execute_result"
    }
   ],
   "source": [
    "mult_str(\"girl \", 3)"
   ]
  },
  {
   "cell_type": "code",
   "execution_count": 149,
   "metadata": {},
   "outputs": [],
   "source": [
    "# Decorator application\n",
    "# Timer using Decorator"
   ]
  },
  {
   "cell_type": "code",
   "execution_count": 278,
   "metadata": {},
   "outputs": [],
   "source": [
    "def timed(fun):\n",
    "    from time import perf_counter\n",
    "    from functools import wraps\n",
    "    \n",
    "    @wraps(fun)\n",
    "    def inner_fun(*args, **kwargs):\n",
    "        start = perf_counter()\n",
    "        result = fun(*args, **kwargs)\n",
    "        elapsed = perf_counter() - start\n",
    "        args_ = [str(a) for a in args]\n",
    "        kwargs_ = ['{0}={1}'.format(k, v) for (k, v) in kwargs.items()]\n",
    "        all_args = args_ + kwargs_\n",
    "        args_str = ','.join(all_args)\n",
    "        print('{0}({1}) took {2:.8f}s to run'.format(fun.__name__, args_str, elapsed))\n",
    "        return result\n",
    "    \n",
    "    return inner_fun"
   ]
  },
  {
   "cell_type": "code",
   "execution_count": 286,
   "metadata": {},
   "outputs": [],
   "source": [
    "@timed\n",
    "def fibo_v1(n): # calculate fibonacci using recursion\n",
    "    if n < 3:\n",
    "        return 1\n",
    "    else:\n",
    "        return fibo_v1(n-1) + fibo_v1(n-2)\n",
    "    "
   ]
  },
  {
   "cell_type": "code",
   "execution_count": 282,
   "metadata": {},
   "outputs": [
    {
     "name": "stdout",
     "output_type": "stream",
     "text": [
      "fibo_v1(2) took 0.00000104s to run\n",
      "fibo_v1(1) took 0.00000114s to run\n",
      "fibo_v1(3) took 0.00017082s to run\n"
     ]
    },
    {
     "data": {
      "text/plain": [
       "2"
      ]
     },
     "execution_count": 282,
     "metadata": {},
     "output_type": "execute_result"
    }
   ],
   "source": [
    "fibo_v1(3)"
   ]
  },
  {
   "cell_type": "code",
   "execution_count": 204,
   "metadata": {},
   "outputs": [
    {
     "name": "stdout",
     "output_type": "stream",
     "text": [
      "fibo_v1(2) took 0.00000080s to run\n",
      "fibo_v1(1) took 0.00000267s to run\n",
      "fibo_v1(3) took 0.05232384s to run\n",
      "fibo_v1(2) took 0.00000087s to run\n",
      "fibo_v1(4) took 0.05240665s to run\n"
     ]
    },
    {
     "data": {
      "text/plain": [
       "3"
      ]
     },
     "execution_count": 204,
     "metadata": {},
     "output_type": "execute_result"
    }
   ],
   "source": [
    "fibo_v1(4) # fibo(2) is calculated multiple times, not efficient"
   ]
  },
  {
   "cell_type": "code",
   "execution_count": 206,
   "metadata": {},
   "outputs": [],
   "source": [
    "def fibo_v1(n): # calculate fibonacci using recursion\n",
    "    if n < 3:\n",
    "        return 1\n",
    "    else:\n",
    "        return fibo_v1(n-1) + fibo_v1(n-2)\n",
    "@timed\n",
    "def fib_recurs(n):\n",
    "    return fibo_v1(n)"
   ]
  },
  {
   "cell_type": "code",
   "execution_count": 207,
   "metadata": {},
   "outputs": [
    {
     "name": "stdout",
     "output_type": "stream",
     "text": [
      "fib_recurs(13) took 0.00019118s to run\n"
     ]
    },
    {
     "data": {
      "text/plain": [
       "233"
      ]
     },
     "execution_count": 207,
     "metadata": {},
     "output_type": "execute_result"
    }
   ],
   "source": [
    "fib_recurs(13)"
   ]
  },
  {
   "cell_type": "code",
   "execution_count": 208,
   "metadata": {},
   "outputs": [
    {
     "name": "stdout",
     "output_type": "stream",
     "text": [
      "fib_recurs(3) took 0.00000412s to run\n"
     ]
    },
    {
     "data": {
      "text/plain": [
       "2"
      ]
     },
     "execution_count": 208,
     "metadata": {},
     "output_type": "execute_result"
    }
   ],
   "source": [
    "fib_recurs(3)"
   ]
  },
  {
   "cell_type": "code",
   "execution_count": 198,
   "metadata": {},
   "outputs": [],
   "source": [
    "# calculating fibonacci using a loop\n",
    "@timed\n",
    "def fibo_v2(n):\n",
    "    fibo_list = [1, 1]\n",
    "    for i in range(n-2):\n",
    "        fibo_list = fibo_list + [fibo_list[-1]+ fibo_list[-2]]\n",
    "    return fibo_list[-1]\n",
    "        "
   ]
  },
  {
   "cell_type": "code",
   "execution_count": 214,
   "metadata": {},
   "outputs": [
    {
     "name": "stdout",
     "output_type": "stream",
     "text": [
      "fibo_v2(100) took 0.00008239s to run\n"
     ]
    },
    {
     "data": {
      "text/plain": [
       "354224848179261915075"
      ]
     },
     "execution_count": 214,
     "metadata": {},
     "output_type": "execute_result"
    }
   ],
   "source": [
    "fibo_v2(100)"
   ]
  },
  {
   "cell_type": "code",
   "execution_count": 275,
   "metadata": {},
   "outputs": [],
   "source": [
    "@timed \n",
    "def fibo_v3(n): # alternative way to calculate fibonacci using loops and unpacking\n",
    "    fib1 = 1\n",
    "    fib2 = 1\n",
    "    for i in range (n-2):\n",
    "        fib1, fib2 = fib2, fib1 + fib2\n",
    "    return fib2"
   ]
  },
  {
   "cell_type": "code",
   "execution_count": 276,
   "metadata": {},
   "outputs": [
    {
     "name": "stdout",
     "output_type": "stream",
     "text": [
      "running iteration: 1s\n",
      "elapsed time: 1.0661999112926424e-05\n",
      "running iteration: 2s\n",
      "elapsed time: 1.7706999642541632e-05\n",
      "running iteration: 3s\n",
      "elapsed time: 1.582999902893789e-05\n",
      "running iteration: 4s\n",
      "elapsed time: 1.333300315309316e-05\n",
      "running iteration: 5s\n",
      "elapsed time: 1.1357999028405175e-05\n",
      "running iteration: 6s\n",
      "elapsed time: 1.0982999810948968e-05\n",
      "running iteration: 7s\n",
      "elapsed time: 1.1153999366797507e-05\n",
      "running iteration: 8s\n",
      "elapsed time: 1.1234998964937404e-05\n",
      "running iteration: 9s\n",
      "elapsed time: 1.1197997082490474e-05\n",
      "running iteration: 10s\n",
      "elapsed time: 1.1225998605368659e-05\n",
      "fibo_v3(100) took 0.00001247s to run\n"
     ]
    },
    {
     "data": {
      "text/plain": [
       "354224848179261915075"
      ]
     },
     "execution_count": 276,
     "metadata": {},
     "output_type": "execute_result"
    }
   ],
   "source": [
    "fibo_v3(100)"
   ]
  },
  {
   "cell_type": "code",
   "execution_count": 230,
   "metadata": {},
   "outputs": [
    {
     "name": "stdout",
     "output_type": "stream",
     "text": [
      "fibo_v3(150) took 0.00002300s to run\n",
      "fibo_v2(150) took 0.00014279s to run\n"
     ]
    },
    {
     "data": {
      "text/plain": [
       "(9969216677189303386214405760200, 9969216677189303386214405760200)"
      ]
     },
     "execution_count": 230,
     "metadata": {},
     "output_type": "execute_result"
    }
   ],
   "source": [
    "fibo_v3(150), fibo_v2(150) # fibo_v3 is faster than fibo_v2"
   ]
  },
  {
   "cell_type": "code",
   "execution_count": 231,
   "metadata": {},
   "outputs": [],
   "source": [
    "# fibo_v4 will use reducers to calculate fibonacci numbers"
   ]
  },
  {
   "cell_type": "code",
   "execution_count": 232,
   "metadata": {},
   "outputs": [],
   "source": [
    "from functools import reduce"
   ]
  },
  {
   "cell_type": "code",
   "execution_count": 235,
   "metadata": {},
   "outputs": [
    {
     "data": {
      "text/plain": [
       "9"
      ]
     },
     "execution_count": 235,
     "metadata": {},
     "output_type": "execute_result"
    }
   ],
   "source": [
    "reduce(lambda x, y: x+y, [3, 5, 1])"
   ]
  },
  {
   "cell_type": "code",
   "execution_count": 273,
   "metadata": {},
   "outputs": [],
   "source": [
    "@timed\n",
    "def fibo_v4(n):\n",
    "    from functools import reduce\n",
    "    initial = (1, 0)\n",
    "    fib_tuple = reduce(lambda prev, n: (prev[0] + prev[1], prev[0]), range(n), initial)\n",
    "    return fib_tuple[0]"
   ]
  },
  {
   "cell_type": "code",
   "execution_count": 274,
   "metadata": {},
   "outputs": [
    {
     "name": "stdout",
     "output_type": "stream",
     "text": [
      "running iteration: 1s\n",
      "elapsed time: 3.79899975087028e-05\n",
      "running iteration: 2s\n",
      "elapsed time: 3.2356998417526484e-05\n",
      "running iteration: 3s\n",
      "elapsed time: 3.169100091326982e-05\n",
      "running iteration: 4s\n",
      "elapsed time: 3.113599814241752e-05\n",
      "running iteration: 5s\n",
      "elapsed time: 3.044700133614242e-05\n",
      "running iteration: 6s\n",
      "elapsed time: 3.2171999919228256e-05\n",
      "running iteration: 7s\n",
      "elapsed time: 3.069900049013086e-05\n",
      "running iteration: 8s\n",
      "elapsed time: 3.011199805769138e-05\n",
      "running iteration: 9s\n",
      "elapsed time: 3.042299795197323e-05\n",
      "running iteration: 10s\n",
      "elapsed time: 3.026599733857438e-05\n",
      "fibo_v4(40) took 0.00003173s to run\n"
     ]
    },
    {
     "data": {
      "text/plain": [
       "165580141"
      ]
     },
     "execution_count": 274,
     "metadata": {},
     "output_type": "execute_result"
    }
   ],
   "source": [
    "fibo_v4(40)"
   ]
  },
  {
   "cell_type": "code",
   "execution_count": 263,
   "metadata": {},
   "outputs": [
    {
     "name": "stdout",
     "output_type": "stream",
     "text": [
      "fibo_v2(40) took 0.00004370s to run\n"
     ]
    },
    {
     "data": {
      "text/plain": [
       "102334155"
      ]
     },
     "execution_count": 263,
     "metadata": {},
     "output_type": "execute_result"
    }
   ],
   "source": [
    "fibo_v2(40)"
   ]
  },
  {
   "cell_type": "code",
   "execution_count": 270,
   "metadata": {},
   "outputs": [],
   "source": [
    "# Inserting average time\n",
    "def timed(fun):\n",
    "    from time import perf_counter\n",
    "    from functools import wraps\n",
    "    \n",
    "    @wraps(fun)\n",
    "    def inner_fun(*args, **kwargs):\n",
    "        elapsed_time_total = 0\n",
    "        run_count = 0\n",
    "        for i in range(10):\n",
    "            start = perf_counter()\n",
    "            result = fun(*args, **kwargs)\n",
    "            elapsed = perf_counter() - start\n",
    "            elapsed_time_total += elapsed\n",
    "            run_count += 1\n",
    "            print(\"running iteration: {0}s\\nelapsed time: {1}\".format(run_count, elapsed))\n",
    "          \n",
    "        elapsed_time_avg = elapsed_time_total / run_count\n",
    "        args_ = [str(a) for a in args]\n",
    "        kwargs_ = ['{0}={1}'.format(k, v) for (k, v) in kwargs.items()]\n",
    "        all_args = args_ + kwargs_\n",
    "        args_str = ','.join(all_args)\n",
    "        print('{0}({1}) took {2:.8f}s to run'.format(fun.__name__, args_str, elapsed_time_avg))\n",
    "        return result\n",
    "    \n",
    "    return inner_fun"
   ]
  },
  {
   "cell_type": "code",
   "execution_count": 271,
   "metadata": {},
   "outputs": [
    {
     "name": "stdout",
     "output_type": "stream",
     "text": [
      "fibo_v3(30) took 0.00001116s to run\n"
     ]
    },
    {
     "data": {
      "text/plain": [
       "832040"
      ]
     },
     "execution_count": 271,
     "metadata": {},
     "output_type": "execute_result"
    }
   ],
   "source": [
    "fibo_v3(30)"
   ]
  },
  {
   "cell_type": "code",
   "execution_count": 277,
   "metadata": {},
   "outputs": [
    {
     "name": "stdout",
     "output_type": "stream",
     "text": [
      "running iteration: 1s\n",
      "elapsed time: 1.1362000805092975e-05\n",
      "running iteration: 2s\n",
      "elapsed time: 1.162899934570305e-05\n",
      "running iteration: 3s\n",
      "elapsed time: 1.166099900729023e-05\n",
      "running iteration: 4s\n",
      "elapsed time: 1.2707998394034803e-05\n",
      "running iteration: 5s\n",
      "elapsed time: 1.1082996934419498e-05\n",
      "running iteration: 6s\n",
      "elapsed time: 1.0665000445442274e-05\n",
      "running iteration: 7s\n",
      "elapsed time: 1.0471001587575302e-05\n",
      "running iteration: 8s\n",
      "elapsed time: 3.967600059695542e-05\n",
      "running iteration: 9s\n",
      "elapsed time: 1.0986997949657962e-05\n",
      "running iteration: 10s\n",
      "elapsed time: 1.0402000043541193e-05\n",
      "fibo_v3(40) took 0.00001406s to run\n"
     ]
    },
    {
     "data": {
      "text/plain": [
       "102334155"
      ]
     },
     "execution_count": 277,
     "metadata": {},
     "output_type": "execute_result"
    }
   ],
   "source": [
    "fibo_v3(40)"
   ]
  },
  {
   "cell_type": "code",
   "execution_count": null,
   "metadata": {},
   "outputs": [],
   "source": [
    "# speed is as follows: -> fibo_v3, fibo_v4, fibo_v2, fibo_v1"
   ]
  }
 ],
 "metadata": {
  "kernelspec": {
   "display_name": "Python 3",
   "language": "python",
   "name": "python3"
  },
  "language_info": {
   "codemirror_mode": {
    "name": "ipython",
    "version": 3
   },
   "file_extension": ".py",
   "mimetype": "text/x-python",
   "name": "python",
   "nbconvert_exporter": "python",
   "pygments_lexer": "ipython3",
   "version": "3.7.3"
  }
 },
 "nbformat": 4,
 "nbformat_minor": 2
}
