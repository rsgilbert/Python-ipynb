{
 "cells": [
  {
   "cell_type": "code",
   "execution_count": 1,
   "metadata": {},
   "outputs": [],
   "source": [
    "# Memoiation"
   ]
  },
  {
   "cell_type": "code",
   "execution_count": 2,
   "metadata": {},
   "outputs": [],
   "source": [
    "def fib(n):\n",
    "    print('Calculating fib{}'.format(n))\n",
    "    return 1 if n < 3 else fib(n-1) + fib(n-2)"
   ]
  },
  {
   "cell_type": "code",
   "execution_count": 3,
   "metadata": {},
   "outputs": [
    {
     "name": "stdout",
     "output_type": "stream",
     "text": [
      "Calculating fib8\n",
      "Calculating fib7\n",
      "Calculating fib6\n",
      "Calculating fib5\n",
      "Calculating fib4\n",
      "Calculating fib3\n",
      "Calculating fib2\n",
      "Calculating fib1\n",
      "Calculating fib2\n",
      "Calculating fib3\n",
      "Calculating fib2\n",
      "Calculating fib1\n",
      "Calculating fib4\n",
      "Calculating fib3\n",
      "Calculating fib2\n",
      "Calculating fib1\n",
      "Calculating fib2\n",
      "Calculating fib5\n",
      "Calculating fib4\n",
      "Calculating fib3\n",
      "Calculating fib2\n",
      "Calculating fib1\n",
      "Calculating fib2\n",
      "Calculating fib3\n",
      "Calculating fib2\n",
      "Calculating fib1\n",
      "Calculating fib6\n",
      "Calculating fib5\n",
      "Calculating fib4\n",
      "Calculating fib3\n",
      "Calculating fib2\n",
      "Calculating fib1\n",
      "Calculating fib2\n",
      "Calculating fib3\n",
      "Calculating fib2\n",
      "Calculating fib1\n",
      "Calculating fib4\n",
      "Calculating fib3\n",
      "Calculating fib2\n",
      "Calculating fib1\n",
      "Calculating fib2\n"
     ]
    },
    {
     "data": {
      "text/plain": [
       "21"
      ]
     },
     "execution_count": 3,
     "metadata": {},
     "output_type": "execute_result"
    }
   ],
   "source": [
    "fib(8)"
   ]
  },
  {
   "cell_type": "code",
   "execution_count": 4,
   "metadata": {},
   "outputs": [],
   "source": [
    "#CACHING\n",
    "#method1"
   ]
  },
  {
   "cell_type": "code",
   "execution_count": 13,
   "metadata": {},
   "outputs": [],
   "source": [
    "class Fib:\n",
    "    def __init__(self):\n",
    "        self.cache = {1:1, 2:1}\n",
    "    \n",
    "    def fib(self, n):\n",
    "         if n not in self.cache:\n",
    "            print(\"Calculating fib({})\".format(n))\n",
    "            self.cache[n] = self.fib(n-1) + self.fib(n-2)\n",
    "         return self.cache[n]  "
   ]
  },
  {
   "cell_type": "code",
   "execution_count": 14,
   "metadata": {},
   "outputs": [],
   "source": [
    "fibo = Fib()"
   ]
  },
  {
   "cell_type": "code",
   "execution_count": 15,
   "metadata": {},
   "outputs": [
    {
     "name": "stdout",
     "output_type": "stream",
     "text": [
      "Calculating fib(10)\n",
      "Calculating fib(9)\n",
      "Calculating fib(8)\n",
      "Calculating fib(7)\n",
      "Calculating fib(6)\n",
      "Calculating fib(5)\n",
      "Calculating fib(4)\n",
      "Calculating fib(3)\n"
     ]
    },
    {
     "data": {
      "text/plain": [
       "55"
      ]
     },
     "execution_count": 15,
     "metadata": {},
     "output_type": "execute_result"
    }
   ],
   "source": [
    "fibo.fib(10)"
   ]
  },
  {
   "cell_type": "code",
   "execution_count": 20,
   "metadata": {},
   "outputs": [],
   "source": [
    "# using closure\n",
    "def fib():\n",
    "    cache = {1:1, 2:1}\n",
    "    \n",
    "    def inner(n): # closure\n",
    "        if n not in cache:\n",
    "            print(\"Calcuating fib\", n)\n",
    "            cache[n] = inner(n-1) + inner(n-2)\n",
    "        return cache[n]\n",
    "    return inner"
   ]
  },
  {
   "cell_type": "code",
   "execution_count": 21,
   "metadata": {},
   "outputs": [],
   "source": [
    "f = fib()"
   ]
  },
  {
   "cell_type": "code",
   "execution_count": 28,
   "metadata": {},
   "outputs": [
    {
     "data": {
      "text/plain": [
       "280571172992510140037611932413038677189525"
      ]
     },
     "execution_count": 28,
     "metadata": {},
     "output_type": "execute_result"
    }
   ],
   "source": [
    "f(200)"
   ]
  },
  {
   "cell_type": "code",
   "execution_count": 31,
   "metadata": {},
   "outputs": [],
   "source": [
    "def memoize_fib(fib): # memoize fib if its not cached\n",
    "    cache = {1:1, 2:1}\n",
    "    def cache_fib(n): # closure\n",
    "        if n not in cache:\n",
    "            cache[n] = fib(n) # doesnot matter how you calculate fib\n",
    "        return cache[n]\n",
    "    return cache_fib"
   ]
  },
  {
   "cell_type": "code",
   "execution_count": 33,
   "metadata": {},
   "outputs": [],
   "source": [
    "@memoize_fib\n",
    "def fib(n):\n",
    "    print(\"Calculating fib\", n)\n",
    "    return 1 if n < 3 else fib(n-1) + fib(n-2)"
   ]
  },
  {
   "cell_type": "code",
   "execution_count": 80,
   "metadata": {},
   "outputs": [
    {
     "name": "stdout",
     "output_type": "stream",
     "text": [
      "Calculating fib 200\n",
      "Calculating fib 199\n",
      "Calculating fib 198\n",
      "Calculating fib 197\n",
      "Calculating fib 196\n",
      "Calculating fib 195\n",
      "Calculating fib 194\n",
      "Calculating fib 193\n",
      "Calculating fib 192\n",
      "Calculating fib 191\n",
      "Calculating fib 190\n",
      "Calculating fib 189\n",
      "Calculating fib 188\n",
      "Calculating fib 187\n",
      "Calculating fib 186\n",
      "Calculating fib 185\n",
      "Calculating fib 184\n",
      "Calculating fib 183\n",
      "Calculating fib 182\n",
      "Calculating fib 181\n",
      "Calculating fib 180\n",
      "Calculating fib 179\n",
      "Calculating fib 178\n",
      "Calculating fib 177\n",
      "Calculating fib 176\n",
      "Calculating fib 175\n",
      "Calculating fib 174\n",
      "Calculating fib 173\n",
      "Calculating fib 172\n",
      "Calculating fib 171\n",
      "Calculating fib 170\n",
      "Calculating fib 169\n",
      "Calculating fib 168\n",
      "Calculating fib 167\n",
      "Calculating fib 166\n",
      "Calculating fib 165\n",
      "Calculating fib 164\n",
      "Calculating fib 163\n",
      "Calculating fib 162\n",
      "Calculating fib 161\n",
      "Calculating fib 160\n",
      "Calculating fib 159\n",
      "Calculating fib 158\n",
      "Calculating fib 157\n",
      "Calculating fib 156\n",
      "Calculating fib 155\n",
      "Calculating fib 154\n",
      "Calculating fib 153\n",
      "Calculating fib 152\n",
      "Calculating fib 151\n",
      "Calculating fib 150\n",
      "Calculating fib 149\n",
      "Calculating fib 148\n",
      "Calculating fib 147\n",
      "Calculating fib 146\n",
      "Calculating fib 145\n",
      "Calculating fib 144\n",
      "Calculating fib 143\n",
      "Calculating fib 142\n",
      "Calculating fib 141\n",
      "Calculating fib 140\n",
      "Calculating fib 139\n",
      "Calculating fib 138\n",
      "Calculating fib 137\n",
      "Calculating fib 136\n",
      "Calculating fib 135\n",
      "Calculating fib 134\n",
      "Calculating fib 133\n",
      "Calculating fib 132\n",
      "Calculating fib 131\n",
      "Calculating fib 130\n",
      "Calculating fib 129\n",
      "Calculating fib 128\n",
      "Calculating fib 127\n",
      "Calculating fib 126\n",
      "Calculating fib 125\n",
      "Calculating fib 124\n",
      "Calculating fib 123\n",
      "Calculating fib 122\n",
      "Calculating fib 121\n",
      "Calculating fib 120\n",
      "Calculating fib 119\n",
      "Calculating fib 118\n",
      "Calculating fib 117\n",
      "Calculating fib 116\n",
      "Calculating fib 115\n",
      "Calculating fib 114\n",
      "Calculating fib 113\n",
      "Calculating fib 112\n",
      "Calculating fib 111\n",
      "Calculating fib 110\n",
      "Calculating fib 109\n",
      "Calculating fib 108\n",
      "Calculating fib 107\n",
      "Calculating fib 106\n",
      "Calculating fib 105\n",
      "Calculating fib 104\n",
      "Calculating fib 103\n",
      "Calculating fib 102\n",
      "Calculating fib 101\n",
      "Calculating fib 100\n",
      "Calculating fib 99\n",
      "Calculating fib 98\n",
      "Calculating fib 97\n",
      "Calculating fib 96\n",
      "Calculating fib 95\n",
      "Calculating fib 94\n",
      "Calculating fib 93\n",
      "Calculating fib 92\n",
      "Calculating fib 91\n",
      "Calculating fib 90\n",
      "Calculating fib 89\n",
      "Calculating fib 88\n",
      "Calculating fib 87\n",
      "Calculating fib 86\n",
      "Calculating fib 85\n",
      "Calculating fib 84\n",
      "Calculating fib 83\n",
      "Calculating fib 82\n",
      "Calculating fib 81\n",
      "Calculating fib 80\n",
      "Calculating fib 79\n",
      "Calculating fib 78\n",
      "Calculating fib 77\n",
      "Calculating fib 76\n",
      "Calculating fib 75\n",
      "Calculating fib 74\n",
      "Calculating fib 73\n",
      "Calculating fib 72\n",
      "Calculating fib 71\n",
      "Calculating fib 70\n",
      "Calculating fib 69\n",
      "Calculating fib 68\n",
      "Calculating fib 67\n",
      "Calculating fib 66\n",
      "Calculating fib 65\n",
      "Calculating fib 64\n",
      "Calculating fib 63\n",
      "Calculating fib 62\n",
      "Calculating fib 61\n",
      "Calculating fib 60\n",
      "Calculating fib 59\n",
      "Calculating fib 58\n",
      "Calculating fib 57\n",
      "Calculating fib 56\n",
      "Calculating fib 55\n",
      "Calculating fib 54\n",
      "Calculating fib 53\n",
      "Calculating fib 52\n",
      "Calculating fib 51\n",
      "Calculating fib 50\n",
      "Calculating fib 49\n",
      "Calculating fib 48\n",
      "Calculating fib 47\n",
      "Calculating fib 46\n",
      "Calculating fib 45\n",
      "Calculating fib 44\n",
      "Calculating fib 43\n",
      "Calculating fib 42\n",
      "Calculating fib 41\n",
      "Calculating fib 40\n",
      "Calculating fib 39\n",
      "Calculating fib 38\n",
      "Calculating fib 37\n",
      "Calculating fib 36\n",
      "Calculating fib 35\n",
      "Calculating fib 34\n",
      "Calculating fib 33\n",
      "Calculating fib 32\n",
      "Calculating fib 31\n",
      "Calculating fib 30\n",
      "Calculating fib 29\n",
      "Calculating fib 28\n",
      "Calculating fib 27\n",
      "Calculating fib 26\n",
      "Calculating fib 25\n",
      "Calculating fib 24\n",
      "Calculating fib 23\n",
      "Calculating fib 22\n",
      "Calculating fib 21\n",
      "Calculating fib 20\n",
      "Calculating fib 19\n",
      "Calculating fib 18\n",
      "Calculating fib 17\n",
      "Calculating fib 16\n",
      "Calculating fib 15\n",
      "Calculating fib 14\n",
      "Calculating fib 13\n",
      "Calculating fib 12\n",
      "Calculating fib 11\n",
      "Calculating fib 10\n",
      "Calculating fib 9\n",
      "Calculating fib 8\n",
      "Calculating fib 7\n",
      "Calculating fib 6\n",
      "Calculating fib 5\n",
      "Calculating fib 4\n",
      "Calculating fib 3\n",
      "Calculating fib 2\n",
      "Calculating fib 1\n"
     ]
    },
    {
     "data": {
      "text/plain": [
       "280571172992510140037611932413038677189525"
      ]
     },
     "execution_count": 80,
     "metadata": {},
     "output_type": "execute_result"
    }
   ],
   "source": [
    "fib(200)"
   ]
  },
  {
   "cell_type": "code",
   "execution_count": 92,
   "metadata": {},
   "outputs": [],
   "source": [
    "def memoize(fun): # memoize fib if its not cached\n",
    "    cache = {}\n",
    "    def cache_fun(n): # closure\n",
    "        if n not in cache:\n",
    "            cache[n] = fun(n) # doesnot matter how you calculate fib\n",
    "        return cache[n]\n",
    "    return cache_fun"
   ]
  },
  {
   "cell_type": "code",
   "execution_count": 93,
   "metadata": {},
   "outputs": [],
   "source": [
    "@memoize\n",
    "def fib(n):\n",
    "    print(\"Calculating fib\", n)\n",
    "    return 1 if n < 3 else fib(n-1) + fib(n-2)"
   ]
  },
  {
   "cell_type": "code",
   "execution_count": 41,
   "metadata": {},
   "outputs": [
    {
     "name": "stdout",
     "output_type": "stream",
     "text": [
      "Calculating fib 6\n",
      "Calculating fib 5\n",
      "Calculating fib 4\n",
      "Calculating fib 3\n",
      "Calculating fib 2\n",
      "Calculating fib 1\n"
     ]
    },
    {
     "data": {
      "text/plain": [
       "8"
      ]
     },
     "execution_count": 41,
     "metadata": {},
     "output_type": "execute_result"
    }
   ],
   "source": [
    "fib(6)"
   ]
  },
  {
   "cell_type": "code",
   "execution_count": 42,
   "metadata": {},
   "outputs": [],
   "source": [
    "@memoize\n",
    "def fact(n):\n",
    "    print(\"Calculating factorial\", n)\n",
    "    return 1 if n < 2 else n * fact(n-1)"
   ]
  },
  {
   "cell_type": "code",
   "execution_count": 43,
   "metadata": {},
   "outputs": [
    {
     "name": "stdout",
     "output_type": "stream",
     "text": [
      "Calculating factorial 8\n",
      "Calculating factorial 7\n",
      "Calculating factorial 6\n",
      "Calculating factorial 5\n",
      "Calculating factorial 4\n",
      "Calculating factorial 3\n",
      "Calculating factorial 2\n",
      "Calculating factorial 1\n"
     ]
    },
    {
     "data": {
      "text/plain": [
       "40320"
      ]
     },
     "execution_count": 43,
     "metadata": {},
     "output_type": "execute_result"
    }
   ],
   "source": [
    "fact(8)"
   ]
  },
  {
   "cell_type": "code",
   "execution_count": 44,
   "metadata": {},
   "outputs": [
    {
     "data": {
      "text/plain": [
       "120"
      ]
     },
     "execution_count": 44,
     "metadata": {},
     "output_type": "execute_result"
    }
   ],
   "source": [
    "fact(5)"
   ]
  },
  {
   "cell_type": "code",
   "execution_count": 90,
   "metadata": {},
   "outputs": [],
   "source": [
    "@memoize\n",
    "def fact(n):\n",
    "    from operator import mul\n",
    "    from functools import reduce\n",
    "    return reduce(lambda a, b: mul(a, b), range(1, 1+n))"
   ]
  },
  {
   "cell_type": "code",
   "execution_count": 91,
   "metadata": {},
   "outputs": [
    {
     "data": {
      "text/plain": [
       "40320"
      ]
     },
     "execution_count": 91,
     "metadata": {},
     "output_type": "execute_result"
    }
   ],
   "source": [
    "fact(8)"
   ]
  },
  {
   "cell_type": "code",
   "execution_count": 48,
   "metadata": {},
   "outputs": [
    {
     "data": {
      "text/plain": [
       "120"
      ]
     },
     "execution_count": 48,
     "metadata": {},
     "output_type": "execute_result"
    }
   ],
   "source": [
    "fact(5)"
   ]
  },
  {
   "cell_type": "code",
   "execution_count": 73,
   "metadata": {},
   "outputs": [],
   "source": [
    "def timed(fun):\n",
    "    from time import perf_counter\n",
    "    from functools import wraps\n",
    "    \n",
    "    @wraps(fun)\n",
    "    def inner_fun(*args, **kwargs):\n",
    "        start = perf_counter()\n",
    "        result = fun(*args, **kwargs)\n",
    "        elapsed = perf_counter() - start\n",
    "        print(\"{0} ran for {1:.6f}s\".format(fun.__name__, elapsed))\n",
    "        return result\n",
    "    \n",
    "    return inner_fun"
   ]
  },
  {
   "cell_type": "code",
   "execution_count": 85,
   "metadata": {},
   "outputs": [],
   "source": [
    "@timed\n",
    "@memoize\n",
    "def fact(n):\n",
    "    print(\"Calculating factorial\", n)\n",
    "    return 1 if n < 2 else n * fact(n-1)"
   ]
  },
  {
   "cell_type": "code",
   "execution_count": 86,
   "metadata": {},
   "outputs": [
    {
     "name": "stdout",
     "output_type": "stream",
     "text": [
      "Calculating factorial 200\n",
      "Calculating factorial 199\n",
      "Calculating factorial 198\n",
      "Calculating factorial 197\n",
      "Calculating factorial 196\n",
      "Calculating factorial 195\n",
      "Calculating factorial 194\n",
      "Calculating factorial 193\n",
      "Calculating factorial 192\n",
      "Calculating factorial 191\n",
      "Calculating factorial 190\n",
      "Calculating factorial 189\n",
      "Calculating factorial 188\n",
      "Calculating factorial 187\n",
      "Calculating factorial 186\n",
      "Calculating factorial 185\n",
      "Calculating factorial 184\n",
      "Calculating factorial 183\n",
      "Calculating factorial 182\n",
      "Calculating factorial 181\n",
      "Calculating factorial 180\n",
      "Calculating factorial 179\n",
      "Calculating factorial 178\n",
      "Calculating factorial 177\n",
      "Calculating factorial 176\n",
      "Calculating factorial 175\n",
      "Calculating factorial 174\n",
      "Calculating factorial 173\n",
      "Calculating factorial 172\n",
      "Calculating factorial 171\n",
      "Calculating factorial 170\n",
      "Calculating factorial 169\n",
      "Calculating factorial 168\n",
      "Calculating factorial 167\n",
      "Calculating factorial 166\n",
      "Calculating factorial 165\n",
      "Calculating factorial 164\n",
      "Calculating factorial 163\n",
      "Calculating factorial 162\n",
      "Calculating factorial 161\n",
      "Calculating factorial 160\n",
      "Calculating factorial 159\n",
      "Calculating factorial 158\n",
      "Calculating factorial 157\n",
      "Calculating factorial 156\n",
      "Calculating factorial 155\n",
      "Calculating factorial 154\n",
      "Calculating factorial 153\n",
      "Calculating factorial 152\n",
      "Calculating factorial 151\n",
      "Calculating factorial 150\n",
      "Calculating factorial 149\n",
      "Calculating factorial 148\n",
      "Calculating factorial 147\n",
      "Calculating factorial 146\n",
      "Calculating factorial 145\n",
      "Calculating factorial 144\n",
      "Calculating factorial 143\n",
      "Calculating factorial 142\n",
      "Calculating factorial 141\n",
      "Calculating factorial 140\n",
      "Calculating factorial 139\n",
      "Calculating factorial 138\n",
      "Calculating factorial 137\n",
      "Calculating factorial 136\n",
      "Calculating factorial 135\n",
      "Calculating factorial 134\n",
      "Calculating factorial 133\n",
      "Calculating factorial 132\n",
      "Calculating factorial 131\n",
      "Calculating factorial 130\n",
      "Calculating factorial 129\n",
      "Calculating factorial 128\n",
      "Calculating factorial 127\n",
      "Calculating factorial 126\n",
      "Calculating factorial 125\n",
      "Calculating factorial 124\n",
      "Calculating factorial 123\n",
      "Calculating factorial 122\n",
      "Calculating factorial 121\n",
      "Calculating factorial 120\n",
      "Calculating factorial 119\n",
      "Calculating factorial 118\n",
      "Calculating factorial 117\n",
      "Calculating factorial 116\n",
      "Calculating factorial 115\n",
      "Calculating factorial 114\n",
      "Calculating factorial 113\n",
      "Calculating factorial 112\n",
      "Calculating factorial 111\n",
      "Calculating factorial 110\n",
      "Calculating factorial 109\n",
      "Calculating factorial 108\n",
      "Calculating factorial 107\n",
      "Calculating factorial 106\n",
      "Calculating factorial 105\n",
      "Calculating factorial 104\n",
      "Calculating factorial 103\n",
      "Calculating factorial 102\n",
      "Calculating factorial 101\n",
      "Calculating factorial 100\n",
      "Calculating factorial 99\n",
      "Calculating factorial 98\n",
      "Calculating factorial 97\n",
      "Calculating factorial 96\n",
      "Calculating factorial 95\n",
      "Calculating factorial 94\n",
      "Calculating factorial 93\n",
      "Calculating factorial 92\n",
      "Calculating factorial 91\n",
      "Calculating factorial 90\n",
      "Calculating factorial 89\n",
      "Calculating factorial 88\n",
      "Calculating factorial 87\n",
      "Calculating factorial 86\n",
      "Calculating factorial 85\n",
      "Calculating factorial 84\n",
      "Calculating factorial 83\n",
      "Calculating factorial 82\n",
      "Calculating factorial 81\n",
      "Calculating factorial 80\n",
      "Calculating factorial 79\n",
      "Calculating factorial 78\n",
      "Calculating factorial 77\n",
      "Calculating factorial 76\n",
      "Calculating factorial 75\n",
      "Calculating factorial 74\n",
      "Calculating factorial 73\n",
      "Calculating factorial 72\n",
      "Calculating factorial 71\n",
      "Calculating factorial 70\n",
      "Calculating factorial 69\n",
      "Calculating factorial 68\n",
      "Calculating factorial 67\n",
      "Calculating factorial 66\n",
      "Calculating factorial 65\n",
      "Calculating factorial 64\n",
      "Calculating factorial 63\n",
      "Calculating factorial 62\n",
      "Calculating factorial 61\n",
      "Calculating factorial 60\n",
      "Calculating factorial 59\n",
      "Calculating factorial 58\n",
      "Calculating factorial 57\n",
      "Calculating factorial 56\n",
      "Calculating factorial 55\n",
      "Calculating factorial 54\n",
      "Calculating factorial 53\n",
      "Calculating factorial 52\n",
      "Calculating factorial 51\n",
      "Calculating factorial 50\n",
      "Calculating factorial 49\n",
      "Calculating factorial 48\n",
      "Calculating factorial 47\n",
      "Calculating factorial 46\n",
      "Calculating factorial 45\n",
      "Calculating factorial 44\n",
      "Calculating factorial 43\n",
      "Calculating factorial 42\n",
      "Calculating factorial 41\n",
      "Calculating factorial 40\n",
      "Calculating factorial 39\n",
      "Calculating factorial 38\n",
      "Calculating factorial 37\n",
      "Calculating factorial 36\n",
      "Calculating factorial 35\n",
      "Calculating factorial 34\n",
      "Calculating factorial 33\n",
      "Calculating factorial 32\n",
      "Calculating factorial 31\n",
      "Calculating factorial 30\n",
      "Calculating factorial 29\n",
      "Calculating factorial 28\n",
      "Calculating factorial 27\n",
      "Calculating factorial 26\n",
      "Calculating factorial 25\n",
      "Calculating factorial 24\n",
      "Calculating factorial 23\n",
      "Calculating factorial 22\n",
      "Calculating factorial 21\n",
      "Calculating factorial 20\n",
      "Calculating factorial 19\n",
      "Calculating factorial 18\n",
      "Calculating factorial 17\n",
      "Calculating factorial 16\n",
      "Calculating factorial 15\n",
      "Calculating factorial 14\n",
      "Calculating factorial 13\n",
      "Calculating factorial 12\n",
      "Calculating factorial 11\n",
      "Calculating factorial 10\n",
      "Calculating factorial 9\n",
      "Calculating factorial 8\n",
      "Calculating factorial 7\n",
      "Calculating factorial 6\n",
      "Calculating factorial 5\n",
      "Calculating factorial 4\n",
      "Calculating factorial 3\n",
      "Calculating factorial 2\n",
      "Calculating factorial 1\n",
      "cache_fun ran for 0.000042s\n",
      "cache_fun ran for 0.000153s\n",
      "cache_fun ran for 0.000218s\n",
      "cache_fun ran for 0.000274s\n",
      "cache_fun ran for 0.000425s\n",
      "cache_fun ran for 0.000484s\n",
      "cache_fun ran for 0.000544s\n",
      "cache_fun ran for 0.000618s\n",
      "cache_fun ran for 0.000689s\n",
      "cache_fun ran for 0.000751s\n",
      "cache_fun ran for 0.000834s\n",
      "cache_fun ran for 0.000877s\n",
      "cache_fun ran for 0.000918s\n",
      "cache_fun ran for 0.000959s\n",
      "cache_fun ran for 0.001001s\n",
      "cache_fun ran for 0.001045s\n",
      "cache_fun ran for 0.001086s\n",
      "cache_fun ran for 0.001128s\n",
      "cache_fun ran for 0.001168s\n",
      "cache_fun ran for 0.001208s\n",
      "cache_fun ran for 0.001249s\n",
      "cache_fun ran for 0.001294s\n",
      "cache_fun ran for 0.001335s\n",
      "cache_fun ran for 0.001381s\n",
      "cache_fun ran for 0.001422s\n",
      "cache_fun ran for 0.001503s\n",
      "cache_fun ran for 0.001544s\n",
      "cache_fun ran for 0.001585s\n",
      "cache_fun ran for 0.001625s\n",
      "cache_fun ran for 0.001667s\n",
      "cache_fun ran for 0.001711s\n",
      "cache_fun ran for 0.001752s\n",
      "cache_fun ran for 0.001794s\n",
      "cache_fun ran for 0.001834s\n",
      "cache_fun ran for 0.001875s\n",
      "cache_fun ran for 0.001917s\n",
      "cache_fun ran for 0.001958s\n",
      "cache_fun ran for 0.002000s\n",
      "cache_fun ran for 0.002042s\n",
      "cache_fun ran for 0.002085s\n",
      "cache_fun ran for 0.002127s\n",
      "cache_fun ran for 0.002171s\n",
      "cache_fun ran for 0.002217s\n",
      "cache_fun ran for 0.002258s\n",
      "cache_fun ran for 0.002301s\n",
      "cache_fun ran for 0.002343s\n",
      "cache_fun ran for 0.002384s\n",
      "cache_fun ran for 0.002424s\n",
      "cache_fun ran for 0.002508s\n",
      "cache_fun ran for 0.002549s\n",
      "cache_fun ran for 0.002590s\n",
      "cache_fun ran for 0.002631s\n",
      "cache_fun ran for 0.002674s\n",
      "cache_fun ran for 0.002714s\n",
      "cache_fun ran for 0.002755s\n",
      "cache_fun ran for 0.002796s\n",
      "cache_fun ran for 0.002836s\n",
      "cache_fun ran for 0.002881s\n",
      "cache_fun ran for 0.002921s\n",
      "cache_fun ran for 0.002965s\n",
      "cache_fun ran for 0.003006s\n",
      "cache_fun ran for 0.003047s\n",
      "cache_fun ran for 0.003090s\n",
      "cache_fun ran for 0.003130s\n",
      "cache_fun ran for 0.003170s\n",
      "cache_fun ran for 0.003211s\n",
      "cache_fun ran for 0.003251s\n",
      "cache_fun ran for 0.003291s\n",
      "cache_fun ran for 0.003334s\n",
      "cache_fun ran for 0.003538s\n",
      "cache_fun ran for 0.003579s\n",
      "cache_fun ran for 0.003619s\n",
      "cache_fun ran for 0.003660s\n",
      "cache_fun ran for 0.003707s\n",
      "cache_fun ran for 0.003748s\n",
      "cache_fun ran for 0.003814s\n",
      "cache_fun ran for 0.003867s\n",
      "cache_fun ran for 0.004518s\n",
      "cache_fun ran for 0.004610s\n",
      "cache_fun ran for 0.004670s\n",
      "cache_fun ran for 0.004729s\n",
      "cache_fun ran for 0.004789s\n",
      "cache_fun ran for 0.004901s\n",
      "cache_fun ran for 0.004959s\n",
      "cache_fun ran for 0.005019s\n",
      "cache_fun ran for 0.005080s\n",
      "cache_fun ran for 0.005137s\n",
      "cache_fun ran for 0.005195s\n",
      "cache_fun ran for 0.005252s\n",
      "cache_fun ran for 0.005309s\n",
      "cache_fun ran for 0.005379s\n",
      "cache_fun ran for 0.005470s\n",
      "cache_fun ran for 0.005544s\n",
      "cache_fun ran for 0.005609s\n",
      "cache_fun ran for 0.005689s\n",
      "cache_fun ran for 0.005751s\n",
      "cache_fun ran for 0.005800s\n",
      "cache_fun ran for 0.005850s\n",
      "cache_fun ran for 0.005898s\n",
      "cache_fun ran for 0.005946s\n",
      "cache_fun ran for 0.005993s\n",
      "cache_fun ran for 0.006039s\n",
      "cache_fun ran for 0.006087s\n",
      "cache_fun ran for 0.006135s\n",
      "cache_fun ran for 0.006183s\n",
      "cache_fun ran for 0.006230s\n",
      "cache_fun ran for 0.006278s\n",
      "cache_fun ran for 0.006326s\n",
      "cache_fun ran for 0.006373s\n",
      "cache_fun ran for 0.006420s\n",
      "cache_fun ran for 0.006467s\n",
      "cache_fun ran for 0.006514s\n",
      "cache_fun ran for 0.006563s\n",
      "cache_fun ran for 0.006686s\n",
      "cache_fun ran for 0.006737s\n",
      "cache_fun ran for 0.006786s\n",
      "cache_fun ran for 0.006838s\n",
      "cache_fun ran for 0.006886s\n",
      "cache_fun ran for 0.006933s\n",
      "cache_fun ran for 0.006982s\n",
      "cache_fun ran for 0.007034s\n",
      "cache_fun ran for 0.007082s\n",
      "cache_fun ran for 0.007130s\n",
      "cache_fun ran for 0.007178s\n",
      "cache_fun ran for 0.007226s\n",
      "cache_fun ran for 0.007273s\n",
      "cache_fun ran for 0.007322s\n",
      "cache_fun ran for 0.007370s\n",
      "cache_fun ran for 0.007418s\n",
      "cache_fun ran for 0.007472s\n",
      "cache_fun ran for 0.007561s\n",
      "cache_fun ran for 0.007650s\n",
      "cache_fun ran for 0.007737s\n",
      "cache_fun ran for 0.007825s\n",
      "cache_fun ran for 0.007914s\n",
      "cache_fun ran for 0.008012s\n",
      "cache_fun ran for 0.008115s\n",
      "cache_fun ran for 0.008225s\n",
      "cache_fun ran for 0.008399s\n",
      "cache_fun ran for 0.008613s\n",
      "cache_fun ran for 0.008706s\n",
      "cache_fun ran for 0.008787s\n",
      "cache_fun ran for 0.008867s\n",
      "cache_fun ran for 0.008946s\n",
      "cache_fun ran for 0.009025s\n",
      "cache_fun ran for 0.009105s\n",
      "cache_fun ran for 0.009185s\n",
      "cache_fun ran for 0.009307s\n",
      "cache_fun ran for 0.009388s\n",
      "cache_fun ran for 0.009467s\n",
      "cache_fun ran for 0.009548s\n",
      "cache_fun ran for 0.009630s\n",
      "cache_fun ran for 0.009712s\n",
      "cache_fun ran for 0.009793s\n",
      "cache_fun ran for 0.009871s\n",
      "cache_fun ran for 0.009945s\n",
      "cache_fun ran for 0.010019s\n",
      "cache_fun ran for 0.010094s\n",
      "cache_fun ran for 0.010168s\n",
      "cache_fun ran for 0.010243s\n",
      "cache_fun ran for 0.010386s\n",
      "cache_fun ran for 0.010467s\n",
      "cache_fun ran for 0.010547s\n",
      "cache_fun ran for 0.010628s\n",
      "cache_fun ran for 0.010708s\n",
      "cache_fun ran for 0.010789s\n",
      "cache_fun ran for 0.010873s\n",
      "cache_fun ran for 0.011384s\n",
      "cache_fun ran for 0.011487s\n",
      "cache_fun ran for 0.011598s\n",
      "cache_fun ran for 0.011712s\n",
      "cache_fun ran for 0.011824s\n",
      "cache_fun ran for 0.011939s\n",
      "cache_fun ran for 0.012092s\n",
      "cache_fun ran for 0.012202s\n",
      "cache_fun ran for 0.012304s\n",
      "cache_fun ran for 0.012413s\n",
      "cache_fun ran for 0.012522s\n",
      "cache_fun ran for 0.012754s\n",
      "cache_fun ran for 0.012849s\n",
      "cache_fun ran for 0.012955s\n",
      "cache_fun ran for 0.013057s\n",
      "cache_fun ran for 0.013159s\n",
      "cache_fun ran for 0.013318s\n",
      "cache_fun ran for 0.013423s\n",
      "cache_fun ran for 0.013528s\n",
      "cache_fun ran for 0.013629s\n",
      "cache_fun ran for 0.013737s\n",
      "cache_fun ran for 0.013846s\n",
      "cache_fun ran for 0.013955s\n",
      "cache_fun ran for 0.014062s\n",
      "cache_fun ran for 0.014172s\n",
      "cache_fun ran for 0.014279s\n",
      "cache_fun ran for 0.014392s\n",
      "cache_fun ran for 0.017353s\n",
      "cache_fun ran for 0.018260s\n",
      "cache_fun ran for 0.018331s\n",
      "cache_fun ran for 0.018404s\n",
      "cache_fun ran for 0.019010s\n",
      "cache_fun ran for 0.019168s\n"
     ]
    },
    {
     "data": {
      "text/plain": [
       "788657867364790503552363213932185062295135977687173263294742533244359449963403342920304284011984623904177212138919638830257642790242637105061926624952829931113462857270763317237396988943922445621451664240254033291864131227428294853277524242407573903240321257405579568660226031904170324062351700858796178922222789623703897374720000000000000000000000000000000000000000000000000"
      ]
     },
     "execution_count": 86,
     "metadata": {},
     "output_type": "execute_result"
    }
   ],
   "source": [
    "fact(200)"
   ]
  },
  {
   "cell_type": "code",
   "execution_count": 52,
   "metadata": {},
   "outputs": [
    {
     "name": "stdout",
     "output_type": "stream",
     "text": [
      "cache_fun ran for 0.000003s\n"
     ]
    },
    {
     "data": {
      "text/plain": [
       "788657867364790503552363213932185062295135977687173263294742533244359449963403342920304284011984623904177212138919638830257642790242637105061926624952829931113462857270763317237396988943922445621451664240254033291864131227428294853277524242407573903240321257405579568660226031904170324062351700858796178922222789623703897374720000000000000000000000000000000000000000000000000"
      ]
     },
     "execution_count": 52,
     "metadata": {},
     "output_type": "execute_result"
    }
   ],
   "source": [
    "fact(200)"
   ]
  },
  {
   "cell_type": "code",
   "execution_count": 87,
   "metadata": {},
   "outputs": [],
   "source": [
    "@timed\n",
    "@memoize\n",
    "def fact(n):\n",
    "    from operator import mul\n",
    "    from functools import reduce\n",
    "    return reduce(lambda a, b: mul(a, b), range(1, 1+n))"
   ]
  },
  {
   "cell_type": "code",
   "execution_count": 94,
   "metadata": {},
   "outputs": [
    {
     "data": {
      "text/plain": [
       "788657867364790503552363213932185062295135977687173263294742533244359449963403342920304284011984623904177212138919638830257642790242637105061926624952829931113462857270763317237396988943922445621451664240254033291864131227428294853277524242407573903240321257405579568660226031904170324062351700858796178922222789623703897374720000000000000000000000000000000000000000000000000"
      ]
     },
     "execution_count": 94,
     "metadata": {},
     "output_type": "execute_result"
    }
   ],
   "source": [
    "fact(200)"
   ]
  },
  {
   "cell_type": "code",
   "execution_count": 56,
   "metadata": {},
   "outputs": [],
   "source": [
    "# functools is called the functional module\n",
    "from functools import lru_cache\n",
    "# lru_cache in full is least recently used cache"
   ]
  },
  {
   "cell_type": "code",
   "execution_count": 114,
   "metadata": {},
   "outputs": [],
   "source": [
    "@lru_cache() # the oldest item in the cache gets thrown out\n",
    "def fib(n):\n",
    "    print(\"Calculating fib({})\".format(n))\n",
    "    return 1 if n < 3 else fib(n-1) + fib(n-2)"
   ]
  },
  {
   "cell_type": "code",
   "execution_count": 115,
   "metadata": {},
   "outputs": [
    {
     "name": "stdout",
     "output_type": "stream",
     "text": [
      "Calculating fib(8)\n",
      "Calculating fib(7)\n",
      "Calculating fib(6)\n",
      "Calculating fib(5)\n",
      "Calculating fib(4)\n",
      "Calculating fib(3)\n",
      "Calculating fib(2)\n",
      "fib ran for 0.000041s\n",
      "Calculating fib(1)\n",
      "fib ran for 0.000040s\n",
      "fib ran for 0.000210s\n",
      "fib ran for 0.000001s\n",
      "fib ran for 0.000336s\n",
      "fib ran for 0.000001s\n",
      "fib ran for 0.000458s\n",
      "fib ran for 0.000001s\n",
      "fib ran for 0.000580s\n",
      "fib ran for 0.000001s\n",
      "fib ran for 0.000716s\n",
      "fib ran for 0.000002s\n",
      "fib ran for 0.001315s\n"
     ]
    },
    {
     "data": {
      "text/plain": [
       "21"
      ]
     },
     "execution_count": 115,
     "metadata": {},
     "output_type": "execute_result"
    }
   ],
   "source": [
    "fib(8)"
   ]
  },
  {
   "cell_type": "code",
   "execution_count": 116,
   "metadata": {},
   "outputs": [
    {
     "name": "stdout",
     "output_type": "stream",
     "text": [
      "Calculating fib(9)\n",
      "fib ran for 0.000003s\n",
      "fib ran for 0.000001s\n",
      "fib ran for 0.003760s\n"
     ]
    },
    {
     "data": {
      "text/plain": [
       "34"
      ]
     },
     "execution_count": 116,
     "metadata": {},
     "output_type": "execute_result"
    }
   ],
   "source": [
    "fib(9)"
   ]
  },
  {
   "cell_type": "code",
   "execution_count": 117,
   "metadata": {},
   "outputs": [],
   "source": [
    "@lru_cache(maxsize=4) # default is 128, its more efficient to set max cache size to a power of 2\n",
    "def fib(n):\n",
    "    print(\"Calculating fib({})\".format(n))\n",
    "    return 1 if n < 3 else fib(n-1) + fib(n-2)"
   ]
  },
  {
   "cell_type": "code",
   "execution_count": 118,
   "metadata": {},
   "outputs": [
    {
     "name": "stdout",
     "output_type": "stream",
     "text": [
      "Calculating fib(9)\n",
      "Calculating fib(8)\n",
      "Calculating fib(7)\n",
      "Calculating fib(6)\n",
      "Calculating fib(5)\n",
      "Calculating fib(4)\n",
      "Calculating fib(3)\n",
      "Calculating fib(2)\n",
      "Calculating fib(1)\n"
     ]
    },
    {
     "data": {
      "text/plain": [
       "34"
      ]
     },
     "execution_count": 118,
     "metadata": {},
     "output_type": "execute_result"
    }
   ],
   "source": [
    "fib(9)"
   ]
  },
  {
   "cell_type": "code",
   "execution_count": 119,
   "metadata": {},
   "outputs": [
    {
     "data": {
      "text/plain": [
       "21"
      ]
     },
     "execution_count": 119,
     "metadata": {},
     "output_type": "execute_result"
    }
   ],
   "source": [
    "fib(8)"
   ]
  },
  {
   "cell_type": "code",
   "execution_count": 120,
   "metadata": {},
   "outputs": [
    {
     "name": "stdout",
     "output_type": "stream",
     "text": [
      "Calculating fib(4)\n",
      "Calculating fib(3)\n",
      "Calculating fib(2)\n",
      "Calculating fib(1)\n"
     ]
    },
    {
     "data": {
      "text/plain": [
       "3"
      ]
     },
     "execution_count": 120,
     "metadata": {},
     "output_type": "execute_result"
    }
   ],
   "source": [
    "fib(4)"
   ]
  },
  {
   "cell_type": "code",
   "execution_count": 121,
   "metadata": {},
   "outputs": [
    {
     "data": {
      "text/plain": [
       "3"
      ]
     },
     "execution_count": 121,
     "metadata": {},
     "output_type": "execute_result"
    }
   ],
   "source": [
    "fib(4)"
   ]
  },
  {
   "cell_type": "code",
   "execution_count": 122,
   "metadata": {},
   "outputs": [
    {
     "data": {
      "text/plain": [
       "3"
      ]
     },
     "execution_count": 122,
     "metadata": {},
     "output_type": "execute_result"
    }
   ],
   "source": [
    "fib(4)"
   ]
  },
  {
   "cell_type": "code",
   "execution_count": 123,
   "metadata": {},
   "outputs": [
    {
     "data": {
      "text/plain": [
       "2"
      ]
     },
     "execution_count": 123,
     "metadata": {},
     "output_type": "execute_result"
    }
   ],
   "source": [
    "fib(3)"
   ]
  },
  {
   "cell_type": "code",
   "execution_count": 124,
   "metadata": {},
   "outputs": [
    {
     "data": {
      "text/plain": [
       "1"
      ]
     },
     "execution_count": 124,
     "metadata": {},
     "output_type": "execute_result"
    }
   ],
   "source": [
    "fib(2)"
   ]
  },
  {
   "cell_type": "code",
   "execution_count": 125,
   "metadata": {},
   "outputs": [
    {
     "name": "stdout",
     "output_type": "stream",
     "text": [
      "Calculating fib(8)\n",
      "Calculating fib(7)\n",
      "Calculating fib(6)\n",
      "Calculating fib(5)\n"
     ]
    },
    {
     "data": {
      "text/plain": [
       "21"
      ]
     },
     "execution_count": 125,
     "metadata": {},
     "output_type": "execute_result"
    }
   ],
   "source": [
    "fib(8)"
   ]
  },
  {
   "cell_type": "code",
   "execution_count": 126,
   "metadata": {},
   "outputs": [
    {
     "name": "stdout",
     "output_type": "stream",
     "text": [
      "Calculating fib(16)\n",
      "Calculating fib(15)\n",
      "Calculating fib(14)\n",
      "Calculating fib(13)\n",
      "Calculating fib(12)\n",
      "Calculating fib(11)\n",
      "Calculating fib(10)\n",
      "Calculating fib(9)\n"
     ]
    },
    {
     "data": {
      "text/plain": [
       "987"
      ]
     },
     "execution_count": 126,
     "metadata": {},
     "output_type": "execute_result"
    }
   ],
   "source": [
    "fib(16)"
   ]
  },
  {
   "cell_type": "code",
   "execution_count": 127,
   "metadata": {},
   "outputs": [
    {
     "name": "stdout",
     "output_type": "stream",
     "text": [
      "Calculating fib(1)\n"
     ]
    },
    {
     "data": {
      "text/plain": [
       "1"
      ]
     },
     "execution_count": 127,
     "metadata": {},
     "output_type": "execute_result"
    }
   ],
   "source": [
    "fib(1)"
   ]
  },
  {
   "cell_type": "code",
   "execution_count": 128,
   "metadata": {},
   "outputs": [
    {
     "name": "stdout",
     "output_type": "stream",
     "text": [
      "Calculating fib(8)\n",
      "Calculating fib(7)\n",
      "Calculating fib(6)\n",
      "Calculating fib(5)\n",
      "Calculating fib(4)\n",
      "Calculating fib(3)\n",
      "Calculating fib(2)\n"
     ]
    },
    {
     "data": {
      "text/plain": [
       "21"
      ]
     },
     "execution_count": 128,
     "metadata": {},
     "output_type": "execute_result"
    }
   ],
   "source": [
    "fib(8)"
   ]
  },
  {
   "cell_type": "code",
   "execution_count": 129,
   "metadata": {},
   "outputs": [
    {
     "data": {
      "text/plain": [
       "21"
      ]
     },
     "execution_count": 129,
     "metadata": {},
     "output_type": "execute_result"
    }
   ],
   "source": [
    "fib(8)"
   ]
  },
  {
   "cell_type": "code",
   "execution_count": 130,
   "metadata": {},
   "outputs": [
    {
     "name": "stdout",
     "output_type": "stream",
     "text": [
      "Calculating fib(16)\n",
      "Calculating fib(15)\n",
      "Calculating fib(14)\n",
      "Calculating fib(13)\n",
      "Calculating fib(12)\n",
      "Calculating fib(11)\n",
      "Calculating fib(10)\n",
      "Calculating fib(9)\n"
     ]
    },
    {
     "data": {
      "text/plain": [
       "987"
      ]
     },
     "execution_count": 130,
     "metadata": {},
     "output_type": "execute_result"
    }
   ],
   "source": [
    "fib(16)"
   ]
  },
  {
   "cell_type": "code",
   "execution_count": 131,
   "metadata": {},
   "outputs": [
    {
     "name": "stdout",
     "output_type": "stream",
     "text": [
      "Calculating fib(8)\n",
      "Calculating fib(7)\n",
      "Calculating fib(6)\n",
      "Calculating fib(5)\n",
      "Calculating fib(4)\n",
      "Calculating fib(3)\n",
      "Calculating fib(2)\n",
      "Calculating fib(1)\n"
     ]
    },
    {
     "data": {
      "text/plain": [
       "21"
      ]
     },
     "execution_count": 131,
     "metadata": {},
     "output_type": "execute_result"
    }
   ],
   "source": [
    "fib(8)"
   ]
  },
  {
   "cell_type": "code",
   "execution_count": 132,
   "metadata": {},
   "outputs": [
    {
     "name": "stdout",
     "output_type": "stream",
     "text": [
      "Calculating fib(10)\n",
      "Calculating fib(9)\n"
     ]
    },
    {
     "data": {
      "text/plain": [
       "55"
      ]
     },
     "execution_count": 132,
     "metadata": {},
     "output_type": "execute_result"
    }
   ],
   "source": [
    "fib(10)"
   ]
  },
  {
   "cell_type": "code",
   "execution_count": 133,
   "metadata": {},
   "outputs": [
    {
     "name": "stdout",
     "output_type": "stream",
     "text": [
      "Help on function lru_cache in module functools:\n",
      "\n",
      "lru_cache(maxsize=128, typed=False)\n",
      "    Least-recently-used cache decorator.\n",
      "    \n",
      "    If *maxsize* is set to None, the LRU features are disabled and the cache\n",
      "    can grow without bound.\n",
      "    \n",
      "    If *typed* is True, arguments of different types will be cached separately.\n",
      "    For example, f(3.0) and f(3) will be treated as distinct calls with\n",
      "    distinct results.\n",
      "    \n",
      "    Arguments to the cached function must be hashable.\n",
      "    \n",
      "    View the cache statistics named tuple (hits, misses, maxsize, currsize)\n",
      "    with f.cache_info().  Clear the cache and statistics with f.cache_clear().\n",
      "    Access the underlying function with f.__wrapped__.\n",
      "    \n",
      "    See:  http://en.wikipedia.org/wiki/Cache_algorithms#Least_Recently_Used\n",
      "\n"
     ]
    }
   ],
   "source": [
    "help(lru_cache)"
   ]
  },
  {
   "cell_type": "code",
   "execution_count": 135,
   "metadata": {},
   "outputs": [
    {
     "data": {
      "text/plain": [
       "CacheInfo(hits=50, misses=51, maxsize=4, currsize=4)"
      ]
     },
     "execution_count": 135,
     "metadata": {},
     "output_type": "execute_result"
    }
   ],
   "source": [
    "fib.cache_info()"
   ]
  },
  {
   "cell_type": "code",
   "execution_count": null,
   "metadata": {},
   "outputs": [],
   "source": []
  },
  {
   "cell_type": "code",
   "execution_count": null,
   "metadata": {},
   "outputs": [],
   "source": []
  },
  {
   "cell_type": "code",
   "execution_count": null,
   "metadata": {},
   "outputs": [],
   "source": []
  },
  {
   "cell_type": "code",
   "execution_count": null,
   "metadata": {},
   "outputs": [],
   "source": []
  },
  {
   "cell_type": "code",
   "execution_count": null,
   "metadata": {},
   "outputs": [],
   "source": []
  }
 ],
 "metadata": {
  "kernelspec": {
   "display_name": "Python 3",
   "language": "python",
   "name": "python3"
  },
  "language_info": {
   "codemirror_mode": {
    "name": "ipython",
    "version": 3
   },
   "file_extension": ".py",
   "mimetype": "text/x-python",
   "name": "python",
   "nbconvert_exporter": "python",
   "pygments_lexer": "ipython3",
   "version": "3.7.3"
  }
 },
 "nbformat": 4,
 "nbformat_minor": 2
}
